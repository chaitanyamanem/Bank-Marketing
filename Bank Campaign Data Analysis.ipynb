{
 "cells": [
  {
   "cell_type": "code",
   "execution_count": 238,
   "id": "920beac0",
   "metadata": {},
   "outputs": [],
   "source": [
    "import pandas as pd\n",
    "import matplotlib.pyplot as plt\n",
    "import seaborn as sns\n",
    "import math\n",
    "import scipy.stats as stats\n",
    "import numpy as np\n",
    "from sklearn.metrics import accuracy_score"
   ]
  },
  {
   "cell_type": "code",
   "execution_count": 3,
   "id": "d8742d7b",
   "metadata": {},
   "outputs": [],
   "source": [
    "pd.set_option('display.max_columns', None)\n",
    "import warnings\n",
    "warnings.filterwarnings('ignore')"
   ]
  },
  {
   "cell_type": "markdown",
   "id": "6c15c1e5",
   "metadata": {},
   "source": [
    "# Data"
   ]
  },
  {
   "cell_type": "code",
   "execution_count": 4,
   "id": "536cfe96",
   "metadata": {},
   "outputs": [
    {
     "data": {
      "text/html": [
       "<div>\n",
       "<style scoped>\n",
       "    .dataframe tbody tr th:only-of-type {\n",
       "        vertical-align: middle;\n",
       "    }\n",
       "\n",
       "    .dataframe tbody tr th {\n",
       "        vertical-align: top;\n",
       "    }\n",
       "\n",
       "    .dataframe thead th {\n",
       "        text-align: right;\n",
       "    }\n",
       "</style>\n",
       "<table border=\"1\" class=\"dataframe\">\n",
       "  <thead>\n",
       "    <tr style=\"text-align: right;\">\n",
       "      <th></th>\n",
       "      <th>age</th>\n",
       "      <th>job</th>\n",
       "      <th>marital</th>\n",
       "      <th>education</th>\n",
       "      <th>default</th>\n",
       "      <th>housing</th>\n",
       "      <th>loan</th>\n",
       "      <th>contact</th>\n",
       "      <th>month</th>\n",
       "      <th>day_of_week</th>\n",
       "      <th>duration</th>\n",
       "      <th>campaign</th>\n",
       "      <th>pdays</th>\n",
       "      <th>previous</th>\n",
       "      <th>poutcome</th>\n",
       "      <th>emp.var.rate</th>\n",
       "      <th>cons.price.idx</th>\n",
       "      <th>cons.conf.idx</th>\n",
       "      <th>euribor3m</th>\n",
       "      <th>nr.employed</th>\n",
       "      <th>y</th>\n",
       "    </tr>\n",
       "  </thead>\n",
       "  <tbody>\n",
       "    <tr>\n",
       "      <th>0</th>\n",
       "      <td>56</td>\n",
       "      <td>housemaid</td>\n",
       "      <td>married</td>\n",
       "      <td>basic.4y</td>\n",
       "      <td>no</td>\n",
       "      <td>no</td>\n",
       "      <td>no</td>\n",
       "      <td>telephone</td>\n",
       "      <td>may</td>\n",
       "      <td>mon</td>\n",
       "      <td>261</td>\n",
       "      <td>1</td>\n",
       "      <td>999</td>\n",
       "      <td>0</td>\n",
       "      <td>nonexistent</td>\n",
       "      <td>1.1</td>\n",
       "      <td>93.994</td>\n",
       "      <td>-36.4</td>\n",
       "      <td>4.857</td>\n",
       "      <td>5191.0</td>\n",
       "      <td>no</td>\n",
       "    </tr>\n",
       "    <tr>\n",
       "      <th>1</th>\n",
       "      <td>57</td>\n",
       "      <td>services</td>\n",
       "      <td>married</td>\n",
       "      <td>high.school</td>\n",
       "      <td>unknown</td>\n",
       "      <td>no</td>\n",
       "      <td>no</td>\n",
       "      <td>telephone</td>\n",
       "      <td>may</td>\n",
       "      <td>mon</td>\n",
       "      <td>149</td>\n",
       "      <td>1</td>\n",
       "      <td>999</td>\n",
       "      <td>0</td>\n",
       "      <td>nonexistent</td>\n",
       "      <td>1.1</td>\n",
       "      <td>93.994</td>\n",
       "      <td>-36.4</td>\n",
       "      <td>4.857</td>\n",
       "      <td>5191.0</td>\n",
       "      <td>no</td>\n",
       "    </tr>\n",
       "    <tr>\n",
       "      <th>2</th>\n",
       "      <td>37</td>\n",
       "      <td>services</td>\n",
       "      <td>married</td>\n",
       "      <td>high.school</td>\n",
       "      <td>no</td>\n",
       "      <td>yes</td>\n",
       "      <td>no</td>\n",
       "      <td>telephone</td>\n",
       "      <td>may</td>\n",
       "      <td>mon</td>\n",
       "      <td>226</td>\n",
       "      <td>1</td>\n",
       "      <td>999</td>\n",
       "      <td>0</td>\n",
       "      <td>nonexistent</td>\n",
       "      <td>1.1</td>\n",
       "      <td>93.994</td>\n",
       "      <td>-36.4</td>\n",
       "      <td>4.857</td>\n",
       "      <td>5191.0</td>\n",
       "      <td>no</td>\n",
       "    </tr>\n",
       "    <tr>\n",
       "      <th>3</th>\n",
       "      <td>40</td>\n",
       "      <td>admin.</td>\n",
       "      <td>married</td>\n",
       "      <td>basic.6y</td>\n",
       "      <td>no</td>\n",
       "      <td>no</td>\n",
       "      <td>no</td>\n",
       "      <td>telephone</td>\n",
       "      <td>may</td>\n",
       "      <td>mon</td>\n",
       "      <td>151</td>\n",
       "      <td>1</td>\n",
       "      <td>999</td>\n",
       "      <td>0</td>\n",
       "      <td>nonexistent</td>\n",
       "      <td>1.1</td>\n",
       "      <td>93.994</td>\n",
       "      <td>-36.4</td>\n",
       "      <td>4.857</td>\n",
       "      <td>5191.0</td>\n",
       "      <td>no</td>\n",
       "    </tr>\n",
       "    <tr>\n",
       "      <th>4</th>\n",
       "      <td>56</td>\n",
       "      <td>services</td>\n",
       "      <td>married</td>\n",
       "      <td>high.school</td>\n",
       "      <td>no</td>\n",
       "      <td>no</td>\n",
       "      <td>yes</td>\n",
       "      <td>telephone</td>\n",
       "      <td>may</td>\n",
       "      <td>mon</td>\n",
       "      <td>307</td>\n",
       "      <td>1</td>\n",
       "      <td>999</td>\n",
       "      <td>0</td>\n",
       "      <td>nonexistent</td>\n",
       "      <td>1.1</td>\n",
       "      <td>93.994</td>\n",
       "      <td>-36.4</td>\n",
       "      <td>4.857</td>\n",
       "      <td>5191.0</td>\n",
       "      <td>no</td>\n",
       "    </tr>\n",
       "  </tbody>\n",
       "</table>\n",
       "</div>"
      ],
      "text/plain": [
       "   age        job  marital    education  default housing loan    contact  \\\n",
       "0   56  housemaid  married     basic.4y       no      no   no  telephone   \n",
       "1   57   services  married  high.school  unknown      no   no  telephone   \n",
       "2   37   services  married  high.school       no     yes   no  telephone   \n",
       "3   40     admin.  married     basic.6y       no      no   no  telephone   \n",
       "4   56   services  married  high.school       no      no  yes  telephone   \n",
       "\n",
       "  month day_of_week  duration  campaign  pdays  previous     poutcome  \\\n",
       "0   may         mon       261         1    999         0  nonexistent   \n",
       "1   may         mon       149         1    999         0  nonexistent   \n",
       "2   may         mon       226         1    999         0  nonexistent   \n",
       "3   may         mon       151         1    999         0  nonexistent   \n",
       "4   may         mon       307         1    999         0  nonexistent   \n",
       "\n",
       "   emp.var.rate  cons.price.idx  cons.conf.idx  euribor3m  nr.employed   y  \n",
       "0           1.1          93.994          -36.4      4.857       5191.0  no  \n",
       "1           1.1          93.994          -36.4      4.857       5191.0  no  \n",
       "2           1.1          93.994          -36.4      4.857       5191.0  no  \n",
       "3           1.1          93.994          -36.4      4.857       5191.0  no  \n",
       "4           1.1          93.994          -36.4      4.857       5191.0  no  "
      ]
     },
     "execution_count": 4,
     "metadata": {},
     "output_type": "execute_result"
    }
   ],
   "source": [
    "df = pd.read_csv(r\"data/bank-additional-full.csv\")\n",
    "df.head()"
   ]
  },
  {
   "cell_type": "markdown",
   "id": "92ba0566",
   "metadata": {},
   "source": [
    "### Attributes information\n",
    "\n",
    "Attribute Information:\n",
    "\n",
    "Input variables:\n",
    "**bank client data:**\n",
    "1. age (numeric)\n",
    "2. job : type of job (categorical: 'admin.','blue-collar','entrepreneur','housemaid','management','retired','self-employed','services','student','technician','unemployed','unknown')\n",
    "3. marital : marital status (categorical: 'divorced','married','single','unknown'; note: 'divorced' means divorced or widowed)\n",
    "4. education (categorical: 'basic.4y','basic.6y','basic.9y','high.school','illiterate','professional.course','university.degree','unknown')\n",
    "5. default: has credit in default? (categorical: 'no','yes','unknown')\n",
    "6. housing: has housing loan? (categorical: 'no','yes','unknown')\n",
    "7. loan: has personal loan? (categorical: 'no','yes','unknown')\n",
    "\n",
    "**related with the last contact of the current campaign:**\n",
    "\n",
    "8. contact: contact communication type (categorical: 'cellular','telephone')\n",
    "9. month: last contact month of year (categorical: 'jan', 'feb', 'mar', ..., 'nov', 'dec')\n",
    "10. day_of_week: last contact day of the week (categorical: 'mon','tue','wed','thu','fri')\n",
    "11. duration: last contact duration, in seconds (numeric). Important note: this attribute highly affects the output target (e.g., if duration=0 then y='no'). Yet, the duration is not known before a call is performed. Also, after the end of the call y is obviously known. Thus, this input should only be included for benchmark purposes and should be discarded if the intention is to have a realistic predictive model.\n",
    "\n",
    "**other attributes:**\n",
    "\n",
    "12. campaign: number of contacts performed during this campaign and for this client (numeric, includes last contact)\n",
    "13. pdays: number of days that passed by after the client was last contacted from a previous campaign (numeric; 999 means client was not previously contacted)\n",
    "14. previous: number of contacts performed before this campaign and for this client (numeric)\n",
    "15. poutcome: outcome of the previous marketing campaign (categorical: 'failure','nonexistent','success')\n",
    "\n",
    "**social and economic context attributes**\n",
    "\n",
    "16. emp.var.rate: employment variation rate - quarterly indicator (numeric)\n",
    "17. cons.price.idx: consumer price index - monthly indicator (numeric)\n",
    "18. cons.conf.idx: consumer confidence index - monthly indicator (numeric)\n",
    "19. euribor3m: euribor 3 month rate - daily indicator (numeric)\n",
    "20. nr.employed: number of employees - quarterly indicator (numeric)\n",
    "\n",
    "**Output variable (desired target):**\n",
    "\n",
    "21. y - has the client subscribed a term deposit? (binary: 'yes','no')\n",
    "\n"
   ]
  },
  {
   "cell_type": "markdown",
   "id": "3673f19e",
   "metadata": {},
   "source": [
    "# Analysis"
   ]
  },
  {
   "cell_type": "code",
   "execution_count": 5,
   "id": "74958faa",
   "metadata": {},
   "outputs": [],
   "source": [
    "#### Helper functions for analysis"
   ]
  },
  {
   "cell_type": "code",
   "execution_count": 6,
   "id": "88969ebf",
   "metadata": {},
   "outputs": [],
   "source": [
    "def chisquare(df,x,y='y'):\n",
    "    df = pd.concat([df.loc[df['y']=='yes',[x,'y']].groupby(x).agg({'y':'count'}).rename(columns={'y':'NoOfYes'}),\n",
    "           df.loc[df['y']=='no',[x,'y']].groupby(x).agg({'y':'count'}).rename(columns={'y':'NoOfNo'})],axis=1)       \n",
    "    df.fillna(0,inplace=True)\n",
    "    stat, p, dof, expected = stats.chi2_contingency(df)\n",
    "    df['%Yes'] = df['NoOfYes'] / (df['NoOfNo']+df['NoOfYes']) * 100\n",
    "    df.sort_values('%Yes',ascending=False,inplace=True)   \n",
    "    \n",
    "    \n",
    "    return stat, p, dof, expected, df"
   ]
  },
  {
   "cell_type": "markdown",
   "id": "3516f3d0",
   "metadata": {},
   "source": [
    "### Checking target variable ratio"
   ]
  },
  {
   "cell_type": "code",
   "execution_count": 7,
   "id": "67d2c21b",
   "metadata": {},
   "outputs": [
    {
     "data": {
      "text/plain": [
       "no     0.887346\n",
       "yes    0.112654\n",
       "Name: y, dtype: float64"
      ]
     },
     "execution_count": 7,
     "metadata": {},
     "output_type": "execute_result"
    }
   ],
   "source": [
    "df['y'].value_counts()/df['y'].shape[0]"
   ]
  },
  {
   "cell_type": "code",
   "execution_count": 8,
   "id": "126d5c2a",
   "metadata": {},
   "outputs": [
    {
     "data": {
      "image/png": "[encoded data removed]",
      "text/plain": [
       "<Figure size 432x288 with 1 Axes>"
      ]
     },
     "metadata": {
      "needs_background": "light"
     },
     "output_type": "display_data"
    }
   ],
   "source": [
    "df['y'].value_counts().plot(kind='bar', color='darkblue')\n",
    "plt.show()"
   ]
  },
  {
   "cell_type": "markdown",
   "id": "d7a0da57",
   "metadata": {},
   "source": [
    "### Understanding each variable"
   ]
  },
  {
   "cell_type": "markdown",
   "id": "7be2e4f4",
   "metadata": {},
   "source": [
    "#### Age"
   ]
  },
  {
   "cell_type": "code",
   "execution_count": 9,
   "id": "e092ad7e",
   "metadata": {},
   "outputs": [
    {
     "data": {
      "image/png": "[encoded data removed]",
      "text/plain": [
       "<Figure size 432x288 with 1 Axes>"
      ]
     },
     "metadata": {
      "needs_background": "light"
     },
     "output_type": "display_data"
    }
   ],
   "source": [
    "sns.histplot(data=df, x='age', hue='y', kde=True)\n",
    "plt.show()"
   ]
  },
  {
   "cell_type": "code",
   "execution_count": 10,
   "id": "29632d94",
   "metadata": {},
   "outputs": [
    {
     "data": {
      "image/png": "[encoded data removed]",
      "text/plain": [
       "<Figure size 432x288 with 1 Axes>"
      ]
     },
     "metadata": {
      "needs_background": "light"
     },
     "output_type": "display_data"
    }
   ],
   "source": [
    "sns.boxplot(x=df['age'])\n",
    "plt.show()"
   ]
  },
  {
   "cell_type": "markdown",
   "id": "1d32d830",
   "metadata": {},
   "source": [
    "> Lets remove Age above 70 for further analysis if age has any factor of influence on outcome"
   ]
  },
  {
   "cell_type": "code",
   "execution_count": 11,
   "id": "08ed8890",
   "metadata": {},
   "outputs": [],
   "source": [
    "### Remove outliers from age"
   ]
  },
  {
   "cell_type": "code",
   "execution_count": 12,
   "id": "926b30dc",
   "metadata": {},
   "outputs": [],
   "source": [
    "df_age = df.loc[df['age'] <= 70,['age','y']]"
   ]
  },
  {
   "cell_type": "code",
   "execution_count": 13,
   "id": "bcc19f5b",
   "metadata": {},
   "outputs": [],
   "source": [
    "### First method: comparing two means"
   ]
  },
  {
   "cell_type": "code",
   "execution_count": 14,
   "id": "5c3c5575",
   "metadata": {},
   "outputs": [
    {
     "data": {
      "text/plain": [
       "Ttest_indResult(statistic=6.172087109640128, pvalue=6.80213641846347e-10)"
      ]
     },
     "execution_count": 14,
     "metadata": {},
     "output_type": "execute_result"
    }
   ],
   "source": [
    "stats.ttest_ind(df.loc[df['y']=='yes','age'],\n",
    "                df.loc[df['y']=='no','age'])"
   ]
  },
  {
   "cell_type": "code",
   "execution_count": 15,
   "id": "0cb0e607",
   "metadata": {},
   "outputs": [],
   "source": [
    "### 2nd method: using one way ANOVA"
   ]
  },
  {
   "cell_type": "code",
   "execution_count": 16,
   "id": "5efbdbd4",
   "metadata": {},
   "outputs": [
    {
     "data": {
      "text/plain": [
       "F_onewayResult(statistic=38.09465928898563, pvalue=6.802136418528356e-10)"
      ]
     },
     "execution_count": 16,
     "metadata": {},
     "output_type": "execute_result"
    }
   ],
   "source": [
    "stats.f_oneway(df.loc[df['y']=='yes','age'],\n",
    "                df.loc[df['y']=='no','age'])"
   ]
  },
  {
   "cell_type": "markdown",
   "id": "55b18580",
   "metadata": {},
   "source": [
    "#### job"
   ]
  },
  {
   "cell_type": "code",
   "execution_count": 17,
   "id": "86ad51ef",
   "metadata": {},
   "outputs": [],
   "source": [
    "### tesnting its significance using chi-square test"
   ]
  },
  {
   "cell_type": "code",
   "execution_count": 18,
   "id": "96e97f0b",
   "metadata": {},
   "outputs": [
    {
     "name": "stdout",
     "output_type": "stream",
     "text": [
      "P value: 4.189763287563623e-199\n"
     ]
    }
   ],
   "source": [
    "stat, p, dof, expected, job_df2 = chisquare(df,'job','y')\n",
    "print(f\"P value: {p}\")"
   ]
  },
  {
   "cell_type": "code",
   "execution_count": 19,
   "id": "1d69b4de",
   "metadata": {},
   "outputs": [
    {
     "data": {
      "text/html": [
       "<div>\n",
       "<style scoped>\n",
       "    .dataframe tbody tr th:only-of-type {\n",
       "        vertical-align: middle;\n",
       "    }\n",
       "\n",
       "    .dataframe tbody tr th {\n",
       "        vertical-align: top;\n",
       "    }\n",
       "\n",
       "    .dataframe thead th {\n",
       "        text-align: right;\n",
       "    }\n",
       "</style>\n",
       "<table border=\"1\" class=\"dataframe\">\n",
       "  <thead>\n",
       "    <tr style=\"text-align: right;\">\n",
       "      <th></th>\n",
       "      <th>NoOfYes</th>\n",
       "      <th>NoOfNo</th>\n",
       "      <th>%Yes</th>\n",
       "    </tr>\n",
       "    <tr>\n",
       "      <th>job</th>\n",
       "      <th></th>\n",
       "      <th></th>\n",
       "      <th></th>\n",
       "    </tr>\n",
       "  </thead>\n",
       "  <tbody>\n",
       "    <tr>\n",
       "      <th>student</th>\n",
       "      <td>275</td>\n",
       "      <td>600</td>\n",
       "      <td>31.428571</td>\n",
       "    </tr>\n",
       "    <tr>\n",
       "      <th>retired</th>\n",
       "      <td>434</td>\n",
       "      <td>1286</td>\n",
       "      <td>25.232558</td>\n",
       "    </tr>\n",
       "    <tr>\n",
       "      <th>unemployed</th>\n",
       "      <td>144</td>\n",
       "      <td>870</td>\n",
       "      <td>14.201183</td>\n",
       "    </tr>\n",
       "    <tr>\n",
       "      <th>admin.</th>\n",
       "      <td>1352</td>\n",
       "      <td>9070</td>\n",
       "      <td>12.972558</td>\n",
       "    </tr>\n",
       "    <tr>\n",
       "      <th>management</th>\n",
       "      <td>328</td>\n",
       "      <td>2596</td>\n",
       "      <td>11.217510</td>\n",
       "    </tr>\n",
       "    <tr>\n",
       "      <th>unknown</th>\n",
       "      <td>37</td>\n",
       "      <td>293</td>\n",
       "      <td>11.212121</td>\n",
       "    </tr>\n",
       "    <tr>\n",
       "      <th>technician</th>\n",
       "      <td>730</td>\n",
       "      <td>6013</td>\n",
       "      <td>10.826042</td>\n",
       "    </tr>\n",
       "    <tr>\n",
       "      <th>self-employed</th>\n",
       "      <td>149</td>\n",
       "      <td>1272</td>\n",
       "      <td>10.485574</td>\n",
       "    </tr>\n",
       "    <tr>\n",
       "      <th>housemaid</th>\n",
       "      <td>106</td>\n",
       "      <td>954</td>\n",
       "      <td>10.000000</td>\n",
       "    </tr>\n",
       "    <tr>\n",
       "      <th>entrepreneur</th>\n",
       "      <td>124</td>\n",
       "      <td>1332</td>\n",
       "      <td>8.516484</td>\n",
       "    </tr>\n",
       "    <tr>\n",
       "      <th>services</th>\n",
       "      <td>323</td>\n",
       "      <td>3646</td>\n",
       "      <td>8.138070</td>\n",
       "    </tr>\n",
       "    <tr>\n",
       "      <th>blue-collar</th>\n",
       "      <td>638</td>\n",
       "      <td>8616</td>\n",
       "      <td>6.894316</td>\n",
       "    </tr>\n",
       "  </tbody>\n",
       "</table>\n",
       "</div>"
      ],
      "text/plain": [
       "               NoOfYes  NoOfNo       %Yes\n",
       "job                                      \n",
       "student            275     600  31.428571\n",
       "retired            434    1286  25.232558\n",
       "unemployed         144     870  14.201183\n",
       "admin.            1352    9070  12.972558\n",
       "management         328    2596  11.217510\n",
       "unknown             37     293  11.212121\n",
       "technician         730    6013  10.826042\n",
       "self-employed      149    1272  10.485574\n",
       "housemaid          106     954  10.000000\n",
       "entrepreneur       124    1332   8.516484\n",
       "services           323    3646   8.138070\n",
       "blue-collar        638    8616   6.894316"
      ]
     },
     "execution_count": 19,
     "metadata": {},
     "output_type": "execute_result"
    }
   ],
   "source": [
    "### Printing observed contingency table for reference \n",
    "job_df2"
   ]
  },
  {
   "cell_type": "markdown",
   "id": "1a9b44a2",
   "metadata": {},
   "source": [
    "#### marital"
   ]
  },
  {
   "cell_type": "code",
   "execution_count": 20,
   "id": "7a56e8f3",
   "metadata": {},
   "outputs": [],
   "source": [
    "### tesnting its significance using chi-square test"
   ]
  },
  {
   "cell_type": "code",
   "execution_count": 21,
   "id": "30dcfa54",
   "metadata": {},
   "outputs": [
    {
     "name": "stdout",
     "output_type": "stream",
     "text": [
      "P value: 2.068014648442211e-26\n"
     ]
    }
   ],
   "source": [
    "stat, p, dof, expected, marital_df = chisquare(df,'marital','y')\n",
    "print(f\"P value: {p}\")"
   ]
  },
  {
   "cell_type": "code",
   "execution_count": 22,
   "id": "ca97357f",
   "metadata": {},
   "outputs": [
    {
     "data": {
      "text/html": [
       "<div>\n",
       "<style scoped>\n",
       "    .dataframe tbody tr th:only-of-type {\n",
       "        vertical-align: middle;\n",
       "    }\n",
       "\n",
       "    .dataframe tbody tr th {\n",
       "        vertical-align: top;\n",
       "    }\n",
       "\n",
       "    .dataframe thead th {\n",
       "        text-align: right;\n",
       "    }\n",
       "</style>\n",
       "<table border=\"1\" class=\"dataframe\">\n",
       "  <thead>\n",
       "    <tr style=\"text-align: right;\">\n",
       "      <th></th>\n",
       "      <th>NoOfYes</th>\n",
       "      <th>NoOfNo</th>\n",
       "      <th>%Yes</th>\n",
       "    </tr>\n",
       "    <tr>\n",
       "      <th>marital</th>\n",
       "      <th></th>\n",
       "      <th></th>\n",
       "      <th></th>\n",
       "    </tr>\n",
       "  </thead>\n",
       "  <tbody>\n",
       "    <tr>\n",
       "      <th>unknown</th>\n",
       "      <td>12</td>\n",
       "      <td>68</td>\n",
       "      <td>15.000000</td>\n",
       "    </tr>\n",
       "    <tr>\n",
       "      <th>single</th>\n",
       "      <td>1620</td>\n",
       "      <td>9948</td>\n",
       "      <td>14.004149</td>\n",
       "    </tr>\n",
       "    <tr>\n",
       "      <th>divorced</th>\n",
       "      <td>476</td>\n",
       "      <td>4136</td>\n",
       "      <td>10.320902</td>\n",
       "    </tr>\n",
       "    <tr>\n",
       "      <th>married</th>\n",
       "      <td>2532</td>\n",
       "      <td>22396</td>\n",
       "      <td>10.157253</td>\n",
       "    </tr>\n",
       "  </tbody>\n",
       "</table>\n",
       "</div>"
      ],
      "text/plain": [
       "          NoOfYes  NoOfNo       %Yes\n",
       "marital                             \n",
       "unknown        12      68  15.000000\n",
       "single       1620    9948  14.004149\n",
       "divorced      476    4136  10.320902\n",
       "married      2532   22396  10.157253"
      ]
     },
     "execution_count": 22,
     "metadata": {},
     "output_type": "execute_result"
    }
   ],
   "source": [
    "### Printing observed contingency table for reference \n",
    "marital_df"
   ]
  },
  {
   "cell_type": "markdown",
   "id": "40b49878",
   "metadata": {},
   "source": [
    "#### education"
   ]
  },
  {
   "cell_type": "code",
   "execution_count": 23,
   "id": "729677da",
   "metadata": {},
   "outputs": [],
   "source": [
    "### tesnting its significance using chi-square test"
   ]
  },
  {
   "cell_type": "code",
   "execution_count": 24,
   "id": "0891692d",
   "metadata": {},
   "outputs": [
    {
     "name": "stdout",
     "output_type": "stream",
     "text": [
      "P value: 3.3051890144025054e-38\n"
     ]
    }
   ],
   "source": [
    "stat, p, dof, expected, education_df = chisquare(df,'education','y')\n",
    "print(f\"P value: {p}\")"
   ]
  },
  {
   "cell_type": "code",
   "execution_count": 25,
   "id": "9c127481",
   "metadata": {},
   "outputs": [
    {
     "data": {
      "text/html": [
       "<div>\n",
       "<style scoped>\n",
       "    .dataframe tbody tr th:only-of-type {\n",
       "        vertical-align: middle;\n",
       "    }\n",
       "\n",
       "    .dataframe tbody tr th {\n",
       "        vertical-align: top;\n",
       "    }\n",
       "\n",
       "    .dataframe thead th {\n",
       "        text-align: right;\n",
       "    }\n",
       "</style>\n",
       "<table border=\"1\" class=\"dataframe\">\n",
       "  <thead>\n",
       "    <tr style=\"text-align: right;\">\n",
       "      <th></th>\n",
       "      <th>NoOfYes</th>\n",
       "      <th>NoOfNo</th>\n",
       "      <th>%Yes</th>\n",
       "    </tr>\n",
       "    <tr>\n",
       "      <th>education</th>\n",
       "      <th></th>\n",
       "      <th></th>\n",
       "      <th></th>\n",
       "    </tr>\n",
       "  </thead>\n",
       "  <tbody>\n",
       "    <tr>\n",
       "      <th>illiterate</th>\n",
       "      <td>4</td>\n",
       "      <td>14</td>\n",
       "      <td>22.222222</td>\n",
       "    </tr>\n",
       "    <tr>\n",
       "      <th>unknown</th>\n",
       "      <td>251</td>\n",
       "      <td>1480</td>\n",
       "      <td>14.500289</td>\n",
       "    </tr>\n",
       "    <tr>\n",
       "      <th>university.degree</th>\n",
       "      <td>1670</td>\n",
       "      <td>10498</td>\n",
       "      <td>13.724523</td>\n",
       "    </tr>\n",
       "    <tr>\n",
       "      <th>professional.course</th>\n",
       "      <td>595</td>\n",
       "      <td>4648</td>\n",
       "      <td>11.348465</td>\n",
       "    </tr>\n",
       "    <tr>\n",
       "      <th>high.school</th>\n",
       "      <td>1031</td>\n",
       "      <td>8484</td>\n",
       "      <td>10.835523</td>\n",
       "    </tr>\n",
       "    <tr>\n",
       "      <th>basic.4y</th>\n",
       "      <td>428</td>\n",
       "      <td>3748</td>\n",
       "      <td>10.249042</td>\n",
       "    </tr>\n",
       "    <tr>\n",
       "      <th>basic.6y</th>\n",
       "      <td>188</td>\n",
       "      <td>2104</td>\n",
       "      <td>8.202443</td>\n",
       "    </tr>\n",
       "    <tr>\n",
       "      <th>basic.9y</th>\n",
       "      <td>473</td>\n",
       "      <td>5572</td>\n",
       "      <td>7.824648</td>\n",
       "    </tr>\n",
       "  </tbody>\n",
       "</table>\n",
       "</div>"
      ],
      "text/plain": [
       "                     NoOfYes  NoOfNo       %Yes\n",
       "education                                      \n",
       "illiterate                 4      14  22.222222\n",
       "unknown                  251    1480  14.500289\n",
       "university.degree       1670   10498  13.724523\n",
       "professional.course      595    4648  11.348465\n",
       "high.school             1031    8484  10.835523\n",
       "basic.4y                 428    3748  10.249042\n",
       "basic.6y                 188    2104   8.202443\n",
       "basic.9y                 473    5572   7.824648"
      ]
     },
     "execution_count": 25,
     "metadata": {},
     "output_type": "execute_result"
    }
   ],
   "source": [
    "### Printing observed contingency table for reference \n",
    "education_df"
   ]
  },
  {
   "cell_type": "markdown",
   "id": "7a798608",
   "metadata": {},
   "source": [
    "#### default"
   ]
  },
  {
   "cell_type": "code",
   "execution_count": 26,
   "id": "f0041628",
   "metadata": {},
   "outputs": [],
   "source": [
    "### tesnting its significance using chi-square test"
   ]
  },
  {
   "cell_type": "code",
   "execution_count": 27,
   "id": "3cbdb036",
   "metadata": {},
   "outputs": [
    {
     "name": "stdout",
     "output_type": "stream",
     "text": [
      "P value: 5.161957951391489e-89\n"
     ]
    }
   ],
   "source": [
    "stat, p, dof, expected, default_df = chisquare(df,'default','y')\n",
    "print(f\"P value: {p}\")"
   ]
  },
  {
   "cell_type": "code",
   "execution_count": 28,
   "id": "dc9f4f08",
   "metadata": {},
   "outputs": [
    {
     "data": {
      "text/html": [
       "<div>\n",
       "<style scoped>\n",
       "    .dataframe tbody tr th:only-of-type {\n",
       "        vertical-align: middle;\n",
       "    }\n",
       "\n",
       "    .dataframe tbody tr th {\n",
       "        vertical-align: top;\n",
       "    }\n",
       "\n",
       "    .dataframe thead th {\n",
       "        text-align: right;\n",
       "    }\n",
       "</style>\n",
       "<table border=\"1\" class=\"dataframe\">\n",
       "  <thead>\n",
       "    <tr style=\"text-align: right;\">\n",
       "      <th></th>\n",
       "      <th>NoOfYes</th>\n",
       "      <th>NoOfNo</th>\n",
       "      <th>%Yes</th>\n",
       "    </tr>\n",
       "    <tr>\n",
       "      <th>default</th>\n",
       "      <th></th>\n",
       "      <th></th>\n",
       "      <th></th>\n",
       "    </tr>\n",
       "  </thead>\n",
       "  <tbody>\n",
       "    <tr>\n",
       "      <th>no</th>\n",
       "      <td>4197.0</td>\n",
       "      <td>28391</td>\n",
       "      <td>12.878974</td>\n",
       "    </tr>\n",
       "    <tr>\n",
       "      <th>unknown</th>\n",
       "      <td>443.0</td>\n",
       "      <td>8154</td>\n",
       "      <td>5.152960</td>\n",
       "    </tr>\n",
       "    <tr>\n",
       "      <th>yes</th>\n",
       "      <td>0.0</td>\n",
       "      <td>3</td>\n",
       "      <td>0.000000</td>\n",
       "    </tr>\n",
       "  </tbody>\n",
       "</table>\n",
       "</div>"
      ],
      "text/plain": [
       "         NoOfYes  NoOfNo       %Yes\n",
       "default                            \n",
       "no        4197.0   28391  12.878974\n",
       "unknown    443.0    8154   5.152960\n",
       "yes          0.0       3   0.000000"
      ]
     },
     "execution_count": 28,
     "metadata": {},
     "output_type": "execute_result"
    }
   ],
   "source": [
    "### Printing observed contingency table for reference \n",
    "default_df"
   ]
  },
  {
   "cell_type": "markdown",
   "id": "4763a0be",
   "metadata": {},
   "source": [
    "#### housing"
   ]
  },
  {
   "cell_type": "code",
   "execution_count": 29,
   "id": "36dec7d8",
   "metadata": {},
   "outputs": [],
   "source": [
    "### tesnting its significance using chi-square test"
   ]
  },
  {
   "cell_type": "code",
   "execution_count": 30,
   "id": "4b5decac",
   "metadata": {},
   "outputs": [
    {
     "name": "stdout",
     "output_type": "stream",
     "text": [
      "P value: 0.05829447669453452\n"
     ]
    }
   ],
   "source": [
    "stat, p, dof, expected, housing_df = chisquare(df,'housing','y')\n",
    "print(f\"P value: {p}\")"
   ]
  },
  {
   "cell_type": "code",
   "execution_count": 31,
   "id": "19c84947",
   "metadata": {},
   "outputs": [
    {
     "data": {
      "text/html": [
       "<div>\n",
       "<style scoped>\n",
       "    .dataframe tbody tr th:only-of-type {\n",
       "        vertical-align: middle;\n",
       "    }\n",
       "\n",
       "    .dataframe tbody tr th {\n",
       "        vertical-align: top;\n",
       "    }\n",
       "\n",
       "    .dataframe thead th {\n",
       "        text-align: right;\n",
       "    }\n",
       "</style>\n",
       "<table border=\"1\" class=\"dataframe\">\n",
       "  <thead>\n",
       "    <tr style=\"text-align: right;\">\n",
       "      <th></th>\n",
       "      <th>NoOfYes</th>\n",
       "      <th>NoOfNo</th>\n",
       "      <th>%Yes</th>\n",
       "    </tr>\n",
       "    <tr>\n",
       "      <th>housing</th>\n",
       "      <th></th>\n",
       "      <th></th>\n",
       "      <th></th>\n",
       "    </tr>\n",
       "  </thead>\n",
       "  <tbody>\n",
       "    <tr>\n",
       "      <th>yes</th>\n",
       "      <td>2507</td>\n",
       "      <td>19069</td>\n",
       "      <td>11.619392</td>\n",
       "    </tr>\n",
       "    <tr>\n",
       "      <th>no</th>\n",
       "      <td>2026</td>\n",
       "      <td>16596</td>\n",
       "      <td>10.879605</td>\n",
       "    </tr>\n",
       "    <tr>\n",
       "      <th>unknown</th>\n",
       "      <td>107</td>\n",
       "      <td>883</td>\n",
       "      <td>10.808081</td>\n",
       "    </tr>\n",
       "  </tbody>\n",
       "</table>\n",
       "</div>"
      ],
      "text/plain": [
       "         NoOfYes  NoOfNo       %Yes\n",
       "housing                            \n",
       "yes         2507   19069  11.619392\n",
       "no          2026   16596  10.879605\n",
       "unknown      107     883  10.808081"
      ]
     },
     "execution_count": 31,
     "metadata": {},
     "output_type": "execute_result"
    }
   ],
   "source": [
    "### Printing observed contingency table for reference \n",
    "housing_df"
   ]
  },
  {
   "cell_type": "markdown",
   "id": "3ee96089",
   "metadata": {},
   "source": [
    "#### loan"
   ]
  },
  {
   "cell_type": "code",
   "execution_count": 32,
   "id": "31d4ec00",
   "metadata": {},
   "outputs": [],
   "source": [
    "### tesnting its significance using chi-square test"
   ]
  },
  {
   "cell_type": "code",
   "execution_count": 33,
   "id": "84cff0b6",
   "metadata": {},
   "outputs": [
    {
     "name": "stdout",
     "output_type": "stream",
     "text": [
      "P value: 0.5786752870441755\n"
     ]
    }
   ],
   "source": [
    "stat, p, dof, expected, loan_df = chisquare(df,'loan','y')\n",
    "print(f\"P value: {p}\")"
   ]
  },
  {
   "cell_type": "code",
   "execution_count": 34,
   "id": "a3bb0890",
   "metadata": {},
   "outputs": [
    {
     "data": {
      "text/html": [
       "<div>\n",
       "<style scoped>\n",
       "    .dataframe tbody tr th:only-of-type {\n",
       "        vertical-align: middle;\n",
       "    }\n",
       "\n",
       "    .dataframe tbody tr th {\n",
       "        vertical-align: top;\n",
       "    }\n",
       "\n",
       "    .dataframe thead th {\n",
       "        text-align: right;\n",
       "    }\n",
       "</style>\n",
       "<table border=\"1\" class=\"dataframe\">\n",
       "  <thead>\n",
       "    <tr style=\"text-align: right;\">\n",
       "      <th></th>\n",
       "      <th>NoOfYes</th>\n",
       "      <th>NoOfNo</th>\n",
       "      <th>%Yes</th>\n",
       "    </tr>\n",
       "    <tr>\n",
       "      <th>loan</th>\n",
       "      <th></th>\n",
       "      <th></th>\n",
       "      <th></th>\n",
       "    </tr>\n",
       "  </thead>\n",
       "  <tbody>\n",
       "    <tr>\n",
       "      <th>no</th>\n",
       "      <td>3850</td>\n",
       "      <td>30100</td>\n",
       "      <td>11.340206</td>\n",
       "    </tr>\n",
       "    <tr>\n",
       "      <th>yes</th>\n",
       "      <td>683</td>\n",
       "      <td>5565</td>\n",
       "      <td>10.931498</td>\n",
       "    </tr>\n",
       "    <tr>\n",
       "      <th>unknown</th>\n",
       "      <td>107</td>\n",
       "      <td>883</td>\n",
       "      <td>10.808081</td>\n",
       "    </tr>\n",
       "  </tbody>\n",
       "</table>\n",
       "</div>"
      ],
      "text/plain": [
       "         NoOfYes  NoOfNo       %Yes\n",
       "loan                               \n",
       "no          3850   30100  11.340206\n",
       "yes          683    5565  10.931498\n",
       "unknown      107     883  10.808081"
      ]
     },
     "execution_count": 34,
     "metadata": {},
     "output_type": "execute_result"
    }
   ],
   "source": [
    "### Printing observed contingency table for reference \n",
    "loan_df"
   ]
  },
  {
   "cell_type": "markdown",
   "id": "6fd06285",
   "metadata": {},
   "source": [
    "#### month"
   ]
  },
  {
   "cell_type": "code",
   "execution_count": 35,
   "id": "a448e0f8",
   "metadata": {},
   "outputs": [],
   "source": [
    "### tesnting its significance using chi-square test"
   ]
  },
  {
   "cell_type": "code",
   "execution_count": 36,
   "id": "65778243",
   "metadata": {},
   "outputs": [
    {
     "name": "stdout",
     "output_type": "stream",
     "text": [
      "P value: 0.0\n"
     ]
    }
   ],
   "source": [
    "stat, p, dof, expected, month_df = chisquare(df,'month','y')\n",
    "print(f\"P value: {p}\")"
   ]
  },
  {
   "cell_type": "code",
   "execution_count": 37,
   "id": "d5a8cb9a",
   "metadata": {},
   "outputs": [
    {
     "data": {
      "text/html": [
       "<div>\n",
       "<style scoped>\n",
       "    .dataframe tbody tr th:only-of-type {\n",
       "        vertical-align: middle;\n",
       "    }\n",
       "\n",
       "    .dataframe tbody tr th {\n",
       "        vertical-align: top;\n",
       "    }\n",
       "\n",
       "    .dataframe thead th {\n",
       "        text-align: right;\n",
       "    }\n",
       "</style>\n",
       "<table border=\"1\" class=\"dataframe\">\n",
       "  <thead>\n",
       "    <tr style=\"text-align: right;\">\n",
       "      <th></th>\n",
       "      <th>NoOfYes</th>\n",
       "      <th>NoOfNo</th>\n",
       "      <th>%Yes</th>\n",
       "    </tr>\n",
       "    <tr>\n",
       "      <th>month</th>\n",
       "      <th></th>\n",
       "      <th></th>\n",
       "      <th></th>\n",
       "    </tr>\n",
       "  </thead>\n",
       "  <tbody>\n",
       "    <tr>\n",
       "      <th>mar</th>\n",
       "      <td>276</td>\n",
       "      <td>270</td>\n",
       "      <td>50.549451</td>\n",
       "    </tr>\n",
       "    <tr>\n",
       "      <th>dec</th>\n",
       "      <td>89</td>\n",
       "      <td>93</td>\n",
       "      <td>48.901099</td>\n",
       "    </tr>\n",
       "    <tr>\n",
       "      <th>sep</th>\n",
       "      <td>256</td>\n",
       "      <td>314</td>\n",
       "      <td>44.912281</td>\n",
       "    </tr>\n",
       "    <tr>\n",
       "      <th>oct</th>\n",
       "      <td>315</td>\n",
       "      <td>403</td>\n",
       "      <td>43.871866</td>\n",
       "    </tr>\n",
       "    <tr>\n",
       "      <th>apr</th>\n",
       "      <td>539</td>\n",
       "      <td>2093</td>\n",
       "      <td>20.478723</td>\n",
       "    </tr>\n",
       "    <tr>\n",
       "      <th>aug</th>\n",
       "      <td>655</td>\n",
       "      <td>5523</td>\n",
       "      <td>10.602137</td>\n",
       "    </tr>\n",
       "    <tr>\n",
       "      <th>jun</th>\n",
       "      <td>559</td>\n",
       "      <td>4759</td>\n",
       "      <td>10.511470</td>\n",
       "    </tr>\n",
       "    <tr>\n",
       "      <th>nov</th>\n",
       "      <td>416</td>\n",
       "      <td>3685</td>\n",
       "      <td>10.143867</td>\n",
       "    </tr>\n",
       "    <tr>\n",
       "      <th>jul</th>\n",
       "      <td>649</td>\n",
       "      <td>6525</td>\n",
       "      <td>9.046557</td>\n",
       "    </tr>\n",
       "    <tr>\n",
       "      <th>may</th>\n",
       "      <td>886</td>\n",
       "      <td>12883</td>\n",
       "      <td>6.434745</td>\n",
       "    </tr>\n",
       "  </tbody>\n",
       "</table>\n",
       "</div>"
      ],
      "text/plain": [
       "       NoOfYes  NoOfNo       %Yes\n",
       "month                            \n",
       "mar        276     270  50.549451\n",
       "dec         89      93  48.901099\n",
       "sep        256     314  44.912281\n",
       "oct        315     403  43.871866\n",
       "apr        539    2093  20.478723\n",
       "aug        655    5523  10.602137\n",
       "jun        559    4759  10.511470\n",
       "nov        416    3685  10.143867\n",
       "jul        649    6525   9.046557\n",
       "may        886   12883   6.434745"
      ]
     },
     "execution_count": 37,
     "metadata": {},
     "output_type": "execute_result"
    }
   ],
   "source": [
    "month_df"
   ]
  },
  {
   "cell_type": "markdown",
   "id": "c76b6958",
   "metadata": {},
   "source": [
    "#### day_of_week"
   ]
  },
  {
   "cell_type": "code",
   "execution_count": 38,
   "id": "4340283c",
   "metadata": {},
   "outputs": [],
   "source": [
    "### tesnting its significance using chi-square test"
   ]
  },
  {
   "cell_type": "code",
   "execution_count": 39,
   "id": "6839808b",
   "metadata": {},
   "outputs": [
    {
     "name": "stdout",
     "output_type": "stream",
     "text": [
      "P value: 2.9584820052785324e-05\n"
     ]
    }
   ],
   "source": [
    "stat, p, dof, expected, day_of_week_df = chisquare(df,'day_of_week','y')\n",
    "print(f\"P value: {p}\")"
   ]
  },
  {
   "cell_type": "code",
   "execution_count": 40,
   "id": "94d65b10",
   "metadata": {},
   "outputs": [
    {
     "data": {
      "text/html": [
       "<div>\n",
       "<style scoped>\n",
       "    .dataframe tbody tr th:only-of-type {\n",
       "        vertical-align: middle;\n",
       "    }\n",
       "\n",
       "    .dataframe tbody tr th {\n",
       "        vertical-align: top;\n",
       "    }\n",
       "\n",
       "    .dataframe thead th {\n",
       "        text-align: right;\n",
       "    }\n",
       "</style>\n",
       "<table border=\"1\" class=\"dataframe\">\n",
       "  <thead>\n",
       "    <tr style=\"text-align: right;\">\n",
       "      <th></th>\n",
       "      <th>NoOfYes</th>\n",
       "      <th>NoOfNo</th>\n",
       "      <th>%Yes</th>\n",
       "    </tr>\n",
       "    <tr>\n",
       "      <th>day_of_week</th>\n",
       "      <th></th>\n",
       "      <th></th>\n",
       "      <th></th>\n",
       "    </tr>\n",
       "  </thead>\n",
       "  <tbody>\n",
       "    <tr>\n",
       "      <th>thu</th>\n",
       "      <td>1045</td>\n",
       "      <td>7578</td>\n",
       "      <td>12.118752</td>\n",
       "    </tr>\n",
       "    <tr>\n",
       "      <th>tue</th>\n",
       "      <td>953</td>\n",
       "      <td>7137</td>\n",
       "      <td>11.779975</td>\n",
       "    </tr>\n",
       "    <tr>\n",
       "      <th>wed</th>\n",
       "      <td>949</td>\n",
       "      <td>7185</td>\n",
       "      <td>11.667076</td>\n",
       "    </tr>\n",
       "    <tr>\n",
       "      <th>fri</th>\n",
       "      <td>846</td>\n",
       "      <td>6981</td>\n",
       "      <td>10.808739</td>\n",
       "    </tr>\n",
       "    <tr>\n",
       "      <th>mon</th>\n",
       "      <td>847</td>\n",
       "      <td>7667</td>\n",
       "      <td>9.948320</td>\n",
       "    </tr>\n",
       "  </tbody>\n",
       "</table>\n",
       "</div>"
      ],
      "text/plain": [
       "             NoOfYes  NoOfNo       %Yes\n",
       "day_of_week                            \n",
       "thu             1045    7578  12.118752\n",
       "tue              953    7137  11.779975\n",
       "wed              949    7185  11.667076\n",
       "fri              846    6981  10.808739\n",
       "mon              847    7667   9.948320"
      ]
     },
     "execution_count": 40,
     "metadata": {},
     "output_type": "execute_result"
    }
   ],
   "source": [
    "### Printing observed contingency table for reference \n",
    "day_of_week_df"
   ]
  },
  {
   "cell_type": "markdown",
   "id": "e9b8b5bf",
   "metadata": {},
   "source": [
    "#### emp.var.rate"
   ]
  },
  {
   "cell_type": "code",
   "execution_count": 41,
   "id": "e553dd96",
   "metadata": {},
   "outputs": [
    {
     "data": {
      "text/plain": [
       "<seaborn.axisgrid.FacetGrid at 0x2054dd7edc0>"
      ]
     },
     "execution_count": 41,
     "metadata": {},
     "output_type": "execute_result"
    },
    {
     "data": {
      "image/png": "[encoded data removed]",
      "text/plain": [
       "<Figure size 360x360 with 1 Axes>"
      ]
     },
     "metadata": {
      "needs_background": "light"
     },
     "output_type": "display_data"
    }
   ],
   "source": [
    "sns.displot(x=df['emp.var.rate'])"
   ]
  },
  {
   "cell_type": "code",
   "execution_count": 42,
   "id": "d11eda61",
   "metadata": {},
   "outputs": [],
   "source": [
    "### tesnting its significance using chi-square test"
   ]
  },
  {
   "cell_type": "code",
   "execution_count": 43,
   "id": "baae7062",
   "metadata": {},
   "outputs": [
    {
     "name": "stdout",
     "output_type": "stream",
     "text": [
      "P value: 0.0\n"
     ]
    },
    {
     "data": {
      "text/html": [
       "<div>\n",
       "<style scoped>\n",
       "    .dataframe tbody tr th:only-of-type {\n",
       "        vertical-align: middle;\n",
       "    }\n",
       "\n",
       "    .dataframe tbody tr th {\n",
       "        vertical-align: top;\n",
       "    }\n",
       "\n",
       "    .dataframe thead th {\n",
       "        text-align: right;\n",
       "    }\n",
       "</style>\n",
       "<table border=\"1\" class=\"dataframe\">\n",
       "  <thead>\n",
       "    <tr style=\"text-align: right;\">\n",
       "      <th></th>\n",
       "      <th>NoOfYes</th>\n",
       "      <th>NoOfNo</th>\n",
       "      <th>%Yes</th>\n",
       "    </tr>\n",
       "    <tr>\n",
       "      <th>emp.var.rate</th>\n",
       "      <th></th>\n",
       "      <th></th>\n",
       "      <th></th>\n",
       "    </tr>\n",
       "  </thead>\n",
       "  <tbody>\n",
       "    <tr>\n",
       "      <th>-1.7</th>\n",
       "      <td>403</td>\n",
       "      <td>370</td>\n",
       "      <td>52.134541</td>\n",
       "    </tr>\n",
       "    <tr>\n",
       "      <th>-3.0</th>\n",
       "      <td>88</td>\n",
       "      <td>84</td>\n",
       "      <td>51.162791</td>\n",
       "    </tr>\n",
       "    <tr>\n",
       "      <th>-1.1</th>\n",
       "      <td>301</td>\n",
       "      <td>334</td>\n",
       "      <td>47.401575</td>\n",
       "    </tr>\n",
       "    <tr>\n",
       "      <th>-3.4</th>\n",
       "      <td>454</td>\n",
       "      <td>617</td>\n",
       "      <td>42.390289</td>\n",
       "    </tr>\n",
       "    <tr>\n",
       "      <th>-2.9</th>\n",
       "      <td>594</td>\n",
       "      <td>1069</td>\n",
       "      <td>35.718581</td>\n",
       "    </tr>\n",
       "    <tr>\n",
       "      <th>-1.8</th>\n",
       "      <td>1461</td>\n",
       "      <td>7723</td>\n",
       "      <td>15.908101</td>\n",
       "    </tr>\n",
       "    <tr>\n",
       "      <th>-0.2</th>\n",
       "      <td>1</td>\n",
       "      <td>9</td>\n",
       "      <td>10.000000</td>\n",
       "    </tr>\n",
       "    <tr>\n",
       "      <th>-0.1</th>\n",
       "      <td>232</td>\n",
       "      <td>3451</td>\n",
       "      <td>6.299213</td>\n",
       "    </tr>\n",
       "    <tr>\n",
       "      <th>1.4</th>\n",
       "      <td>866</td>\n",
       "      <td>15368</td>\n",
       "      <td>5.334483</td>\n",
       "    </tr>\n",
       "    <tr>\n",
       "      <th>1.1</th>\n",
       "      <td>240</td>\n",
       "      <td>7523</td>\n",
       "      <td>3.091588</td>\n",
       "    </tr>\n",
       "  </tbody>\n",
       "</table>\n",
       "</div>"
      ],
      "text/plain": [
       "              NoOfYes  NoOfNo       %Yes\n",
       "emp.var.rate                            \n",
       "-1.7              403     370  52.134541\n",
       "-3.0               88      84  51.162791\n",
       "-1.1              301     334  47.401575\n",
       "-3.4              454     617  42.390289\n",
       "-2.9              594    1069  35.718581\n",
       "-1.8             1461    7723  15.908101\n",
       "-0.2                1       9  10.000000\n",
       "-0.1              232    3451   6.299213\n",
       " 1.4              866   15368   5.334483\n",
       " 1.1              240    7523   3.091588"
      ]
     },
     "execution_count": 43,
     "metadata": {},
     "output_type": "execute_result"
    }
   ],
   "source": [
    "stat, p, dof, expected, emp_var_rate_df = chisquare(df,'emp.var.rate','y')\n",
    "print(f\"P value: {p}\")\n",
    "\n",
    "### Printing observed contingency table for reference \n",
    "emp_var_rate_df"
   ]
  },
  {
   "cell_type": "code",
   "execution_count": 44,
   "id": "ecfbe1d1",
   "metadata": {},
   "outputs": [
    {
     "data": {
      "image/png": "[encoded data removed]",
      "text/plain": [
       "<Figure size 432x288 with 1 Axes>"
      ]
     },
     "metadata": {
      "needs_background": "light"
     },
     "output_type": "display_data"
    }
   ],
   "source": [
    "emp_var_rate_df.reset_index(inplace=True)\n",
    "emp_var_rate_df.rename(columns = {'index':'emp.var.rate'})\n",
    "emp_var_rate_df\n",
    "\n",
    "sns.scatterplot(x='emp.var.rate', y='%Yes', data=emp_var_rate_df)\n",
    "plt.show()"
   ]
  },
  {
   "cell_type": "code",
   "execution_count": 45,
   "id": "85d786b4",
   "metadata": {},
   "outputs": [
    {
     "data": {
      "text/html": [
       "<div>\n",
       "<style scoped>\n",
       "    .dataframe tbody tr th:only-of-type {\n",
       "        vertical-align: middle;\n",
       "    }\n",
       "\n",
       "    .dataframe tbody tr th {\n",
       "        vertical-align: top;\n",
       "    }\n",
       "\n",
       "    .dataframe thead th {\n",
       "        text-align: right;\n",
       "    }\n",
       "</style>\n",
       "<table border=\"1\" class=\"dataframe\">\n",
       "  <thead>\n",
       "    <tr style=\"text-align: right;\">\n",
       "      <th></th>\n",
       "      <th>emp.var.rate</th>\n",
       "      <th>%Yes</th>\n",
       "    </tr>\n",
       "  </thead>\n",
       "  <tbody>\n",
       "    <tr>\n",
       "      <th>emp.var.rate</th>\n",
       "      <td>1.000000</td>\n",
       "      <td>-0.785899</td>\n",
       "    </tr>\n",
       "    <tr>\n",
       "      <th>%Yes</th>\n",
       "      <td>-0.785899</td>\n",
       "      <td>1.000000</td>\n",
       "    </tr>\n",
       "  </tbody>\n",
       "</table>\n",
       "</div>"
      ],
      "text/plain": [
       "              emp.var.rate      %Yes\n",
       "emp.var.rate      1.000000 -0.785899\n",
       "%Yes             -0.785899  1.000000"
      ]
     },
     "execution_count": 45,
     "metadata": {},
     "output_type": "execute_result"
    }
   ],
   "source": [
    "emp_var_rate_df[['emp.var.rate','%Yes']].corr()"
   ]
  },
  {
   "cell_type": "markdown",
   "id": "07ec38dc",
   "metadata": {},
   "source": [
    "### cons.price.idx"
   ]
  },
  {
   "cell_type": "code",
   "execution_count": 46,
   "id": "356b8524",
   "metadata": {},
   "outputs": [
    {
     "data": {
      "image/png": "[encoded data removed]",
      "text/plain": [
       "<Figure size 432x288 with 1 Axes>"
      ]
     },
     "metadata": {
      "needs_background": "light"
     },
     "output_type": "display_data"
    }
   ],
   "source": [
    "df['cons.price.idx'].plot(kind='hist')\n",
    "plt.show()"
   ]
  },
  {
   "cell_type": "code",
   "execution_count": 47,
   "id": "744f3796",
   "metadata": {},
   "outputs": [
    {
     "name": "stdout",
     "output_type": "stream",
     "text": [
      "P value: 0.0\n"
     ]
    },
    {
     "data": {
      "text/html": [
       "<div>\n",
       "<style scoped>\n",
       "    .dataframe tbody tr th:only-of-type {\n",
       "        vertical-align: middle;\n",
       "    }\n",
       "\n",
       "    .dataframe tbody tr th {\n",
       "        vertical-align: top;\n",
       "    }\n",
       "\n",
       "    .dataframe thead th {\n",
       "        text-align: right;\n",
       "    }\n",
       "</style>\n",
       "<table border=\"1\" class=\"dataframe\">\n",
       "  <thead>\n",
       "    <tr style=\"text-align: right;\">\n",
       "      <th></th>\n",
       "      <th>NoOfYes</th>\n",
       "      <th>NoOfNo</th>\n",
       "      <th>%Yes</th>\n",
       "    </tr>\n",
       "    <tr>\n",
       "      <th>cons.price.idx</th>\n",
       "      <th></th>\n",
       "      <th></th>\n",
       "      <th></th>\n",
       "    </tr>\n",
       "  </thead>\n",
       "  <tbody>\n",
       "    <tr>\n",
       "      <th>93.798</th>\n",
       "      <td>42</td>\n",
       "      <td>25</td>\n",
       "      <td>62.686567</td>\n",
       "    </tr>\n",
       "    <tr>\n",
       "      <th>93.876</th>\n",
       "      <td>122</td>\n",
       "      <td>90</td>\n",
       "      <td>57.547170</td>\n",
       "    </tr>\n",
       "    <tr>\n",
       "      <th>93.369</th>\n",
       "      <td>150</td>\n",
       "      <td>114</td>\n",
       "      <td>56.818182</td>\n",
       "    </tr>\n",
       "    <tr>\n",
       "      <th>94.215</th>\n",
       "      <td>176</td>\n",
       "      <td>135</td>\n",
       "      <td>56.591640</td>\n",
       "    </tr>\n",
       "    <tr>\n",
       "      <th>93.749</th>\n",
       "      <td>97</td>\n",
       "      <td>77</td>\n",
       "      <td>55.747126</td>\n",
       "    </tr>\n",
       "    <tr>\n",
       "      <th>94.027</th>\n",
       "      <td>120</td>\n",
       "      <td>113</td>\n",
       "      <td>51.502146</td>\n",
       "    </tr>\n",
       "    <tr>\n",
       "      <th>92.713</th>\n",
       "      <td>88</td>\n",
       "      <td>84</td>\n",
       "      <td>51.162791</td>\n",
       "    </tr>\n",
       "    <tr>\n",
       "      <th>94.199</th>\n",
       "      <td>150</td>\n",
       "      <td>153</td>\n",
       "      <td>49.504950</td>\n",
       "    </tr>\n",
       "    <tr>\n",
       "      <th>92.649</th>\n",
       "      <td>168</td>\n",
       "      <td>189</td>\n",
       "      <td>47.058824</td>\n",
       "    </tr>\n",
       "    <tr>\n",
       "      <th>94.055</th>\n",
       "      <td>107</td>\n",
       "      <td>122</td>\n",
       "      <td>46.724891</td>\n",
       "    </tr>\n",
       "    <tr>\n",
       "      <th>94.601</th>\n",
       "      <td>93</td>\n",
       "      <td>111</td>\n",
       "      <td>45.588235</td>\n",
       "    </tr>\n",
       "    <tr>\n",
       "      <th>94.767</th>\n",
       "      <td>58</td>\n",
       "      <td>70</td>\n",
       "      <td>45.312500</td>\n",
       "    </tr>\n",
       "    <tr>\n",
       "      <th>92.843</th>\n",
       "      <td>126</td>\n",
       "      <td>156</td>\n",
       "      <td>44.680851</td>\n",
       "    </tr>\n",
       "    <tr>\n",
       "      <th>92.431</th>\n",
       "      <td>180</td>\n",
       "      <td>267</td>\n",
       "      <td>40.268456</td>\n",
       "    </tr>\n",
       "    <tr>\n",
       "      <th>92.379</th>\n",
       "      <td>106</td>\n",
       "      <td>161</td>\n",
       "      <td>39.700375</td>\n",
       "    </tr>\n",
       "    <tr>\n",
       "      <th>92.469</th>\n",
       "      <td>66</td>\n",
       "      <td>112</td>\n",
       "      <td>37.078652</td>\n",
       "    </tr>\n",
       "    <tr>\n",
       "      <th>92.963</th>\n",
       "      <td>264</td>\n",
       "      <td>451</td>\n",
       "      <td>36.923077</td>\n",
       "    </tr>\n",
       "    <tr>\n",
       "      <th>92.201</th>\n",
       "      <td>264</td>\n",
       "      <td>506</td>\n",
       "      <td>34.285714</td>\n",
       "    </tr>\n",
       "    <tr>\n",
       "      <th>93.075</th>\n",
       "      <td>442</td>\n",
       "      <td>2016</td>\n",
       "      <td>17.982099</td>\n",
       "    </tr>\n",
       "    <tr>\n",
       "      <th>92.756</th>\n",
       "      <td>1</td>\n",
       "      <td>9</td>\n",
       "      <td>10.000000</td>\n",
       "    </tr>\n",
       "    <tr>\n",
       "      <th>92.893</th>\n",
       "      <td>524</td>\n",
       "      <td>5270</td>\n",
       "      <td>9.043838</td>\n",
       "    </tr>\n",
       "    <tr>\n",
       "      <th>93.918</th>\n",
       "      <td>407</td>\n",
       "      <td>6278</td>\n",
       "      <td>6.088257</td>\n",
       "    </tr>\n",
       "    <tr>\n",
       "      <th>93.200</th>\n",
       "      <td>190</td>\n",
       "      <td>3426</td>\n",
       "      <td>5.254425</td>\n",
       "    </tr>\n",
       "    <tr>\n",
       "      <th>93.444</th>\n",
       "      <td>271</td>\n",
       "      <td>4904</td>\n",
       "      <td>5.236715</td>\n",
       "    </tr>\n",
       "    <tr>\n",
       "      <th>94.465</th>\n",
       "      <td>188</td>\n",
       "      <td>4186</td>\n",
       "      <td>4.298125</td>\n",
       "    </tr>\n",
       "    <tr>\n",
       "      <th>93.994</th>\n",
       "      <td>240</td>\n",
       "      <td>7523</td>\n",
       "      <td>3.091588</td>\n",
       "    </tr>\n",
       "  </tbody>\n",
       "</table>\n",
       "</div>"
      ],
      "text/plain": [
       "                NoOfYes  NoOfNo       %Yes\n",
       "cons.price.idx                            \n",
       "93.798               42      25  62.686567\n",
       "93.876              122      90  57.547170\n",
       "93.369              150     114  56.818182\n",
       "94.215              176     135  56.591640\n",
       "93.749               97      77  55.747126\n",
       "94.027              120     113  51.502146\n",
       "92.713               88      84  51.162791\n",
       "94.199              150     153  49.504950\n",
       "92.649              168     189  47.058824\n",
       "94.055              107     122  46.724891\n",
       "94.601               93     111  45.588235\n",
       "94.767               58      70  45.312500\n",
       "92.843              126     156  44.680851\n",
       "92.431              180     267  40.268456\n",
       "92.379              106     161  39.700375\n",
       "92.469               66     112  37.078652\n",
       "92.963              264     451  36.923077\n",
       "92.201              264     506  34.285714\n",
       "93.075              442    2016  17.982099\n",
       "92.756                1       9  10.000000\n",
       "92.893              524    5270   9.043838\n",
       "93.918              407    6278   6.088257\n",
       "93.200              190    3426   5.254425\n",
       "93.444              271    4904   5.236715\n",
       "94.465              188    4186   4.298125\n",
       "93.994              240    7523   3.091588"
      ]
     },
     "execution_count": 47,
     "metadata": {},
     "output_type": "execute_result"
    }
   ],
   "source": [
    "stat, p, dof, expected, cons_price_idx_df = chisquare(df,'cons.price.idx','y')\n",
    "print(f\"P value: {p}\")\n",
    "\n",
    "### Printing observed contingency table for reference \n",
    "cons_price_idx_df"
   ]
  },
  {
   "cell_type": "code",
   "execution_count": 48,
   "id": "d8ed2dbc",
   "metadata": {},
   "outputs": [
    {
     "data": {
      "image/png": "[encoded data removed]",
      "text/plain": [
       "<Figure size 432x288 with 1 Axes>"
      ]
     },
     "metadata": {
      "needs_background": "light"
     },
     "output_type": "display_data"
    }
   ],
   "source": [
    "cons_price_idx_df.reset_index(inplace=True)\n",
    "cons_price_idx_df.rename(columns = {'index':'cons.price.idx'})\n",
    "cons_price_idx_df\n",
    "\n",
    "sns.scatterplot(x='cons.price.idx', y='%Yes', data=cons_price_idx_df)\n",
    "plt.show()"
   ]
  },
  {
   "cell_type": "code",
   "execution_count": 49,
   "id": "e3104b49",
   "metadata": {},
   "outputs": [
    {
     "data": {
      "text/plain": [
       "<AxesSubplot: xlabel='y', ylabel='cons.price.idx'>"
      ]
     },
     "execution_count": 49,
     "metadata": {},
     "output_type": "execute_result"
    },
    {
     "data": {
      "image/png": "[encoded data removed]",
      "text/plain": [
       "<Figure size 432x288 with 1 Axes>"
      ]
     },
     "metadata": {
      "needs_background": "light"
     },
     "output_type": "display_data"
    }
   ],
   "source": [
    "sns.boxplot(x='y',y='cons.price.idx',data=df)"
   ]
  },
  {
   "cell_type": "code",
   "execution_count": 50,
   "id": "14e87c66",
   "metadata": {},
   "outputs": [],
   "source": [
    "### 2nd method: using one way ANOVA"
   ]
  },
  {
   "cell_type": "code",
   "execution_count": 51,
   "id": "e33e9879",
   "metadata": {},
   "outputs": [
    {
     "data": {
      "text/plain": [
       "F_onewayResult(statistic=778.5897856865838, pvalue=9.318964779562635e-170)"
      ]
     },
     "execution_count": 51,
     "metadata": {},
     "output_type": "execute_result"
    }
   ],
   "source": [
    "stats.f_oneway(df.loc[df['y']=='yes','cons.price.idx'],\n",
    "                df.loc[df['y']=='no','cons.price.idx'])"
   ]
  },
  {
   "cell_type": "code",
   "execution_count": null,
   "id": "c76d1654",
   "metadata": {},
   "outputs": [],
   "source": []
  },
  {
   "cell_type": "markdown",
   "id": "79f104bf",
   "metadata": {},
   "source": [
    "### euribor3m"
   ]
  },
  {
   "cell_type": "code",
   "execution_count": 52,
   "id": "e9a64410",
   "metadata": {},
   "outputs": [
    {
     "data": {
      "image/png": "[encoded data removed]",
      "text/plain": [
       "<Figure size 432x288 with 1 Axes>"
      ]
     },
     "metadata": {
      "needs_background": "light"
     },
     "output_type": "display_data"
    }
   ],
   "source": [
    "df['euribor3m'].plot(kind='hist')\n",
    "plt.show()"
   ]
  },
  {
   "cell_type": "code",
   "execution_count": 53,
   "id": "d3301fd0",
   "metadata": {},
   "outputs": [
    {
     "name": "stdout",
     "output_type": "stream",
     "text": [
      "P value: 0.0\n"
     ]
    },
    {
     "data": {
      "text/html": [
       "<div>\n",
       "<style scoped>\n",
       "    .dataframe tbody tr th:only-of-type {\n",
       "        vertical-align: middle;\n",
       "    }\n",
       "\n",
       "    .dataframe tbody tr th {\n",
       "        vertical-align: top;\n",
       "    }\n",
       "\n",
       "    .dataframe thead th {\n",
       "        text-align: right;\n",
       "    }\n",
       "</style>\n",
       "<table border=\"1\" class=\"dataframe\">\n",
       "  <thead>\n",
       "    <tr style=\"text-align: right;\">\n",
       "      <th></th>\n",
       "      <th>NoOfYes</th>\n",
       "      <th>NoOfNo</th>\n",
       "      <th>%Yes</th>\n",
       "    </tr>\n",
       "    <tr>\n",
       "      <th>euribor3m</th>\n",
       "      <th></th>\n",
       "      <th></th>\n",
       "      <th></th>\n",
       "    </tr>\n",
       "  </thead>\n",
       "  <tbody>\n",
       "    <tr>\n",
       "      <th>3.053</th>\n",
       "      <td>1.0</td>\n",
       "      <td>0.0</td>\n",
       "      <td>100.000000</td>\n",
       "    </tr>\n",
       "    <tr>\n",
       "      <th>0.688</th>\n",
       "      <td>3.0</td>\n",
       "      <td>0.0</td>\n",
       "      <td>100.000000</td>\n",
       "    </tr>\n",
       "    <tr>\n",
       "      <th>0.933</th>\n",
       "      <td>1.0</td>\n",
       "      <td>0.0</td>\n",
       "      <td>100.000000</td>\n",
       "    </tr>\n",
       "    <tr>\n",
       "      <th>0.870</th>\n",
       "      <td>12.0</td>\n",
       "      <td>1.0</td>\n",
       "      <td>92.307692</td>\n",
       "    </tr>\n",
       "    <tr>\n",
       "      <th>0.885</th>\n",
       "      <td>9.0</td>\n",
       "      <td>1.0</td>\n",
       "      <td>90.000000</td>\n",
       "    </tr>\n",
       "    <tr>\n",
       "      <th>...</th>\n",
       "      <td>...</td>\n",
       "      <td>...</td>\n",
       "      <td>...</td>\n",
       "    </tr>\n",
       "    <tr>\n",
       "      <th>0.914</th>\n",
       "      <td>0.0</td>\n",
       "      <td>3.0</td>\n",
       "      <td>0.000000</td>\n",
       "    </tr>\n",
       "    <tr>\n",
       "      <th>0.894</th>\n",
       "      <td>0.0</td>\n",
       "      <td>3.0</td>\n",
       "      <td>0.000000</td>\n",
       "    </tr>\n",
       "    <tr>\n",
       "      <th>0.891</th>\n",
       "      <td>0.0</td>\n",
       "      <td>4.0</td>\n",
       "      <td>0.000000</td>\n",
       "    </tr>\n",
       "    <tr>\n",
       "      <th>0.890</th>\n",
       "      <td>0.0</td>\n",
       "      <td>8.0</td>\n",
       "      <td>0.000000</td>\n",
       "    </tr>\n",
       "    <tr>\n",
       "      <th>4.733</th>\n",
       "      <td>0.0</td>\n",
       "      <td>2.0</td>\n",
       "      <td>0.000000</td>\n",
       "    </tr>\n",
       "  </tbody>\n",
       "</table>\n",
       "<p>316 rows × 3 columns</p>\n",
       "</div>"
      ],
      "text/plain": [
       "           NoOfYes  NoOfNo        %Yes\n",
       "euribor3m                             \n",
       "3.053          1.0     0.0  100.000000\n",
       "0.688          3.0     0.0  100.000000\n",
       "0.933          1.0     0.0  100.000000\n",
       "0.870         12.0     1.0   92.307692\n",
       "0.885          9.0     1.0   90.000000\n",
       "...            ...     ...         ...\n",
       "0.914          0.0     3.0    0.000000\n",
       "0.894          0.0     3.0    0.000000\n",
       "0.891          0.0     4.0    0.000000\n",
       "0.890          0.0     8.0    0.000000\n",
       "4.733          0.0     2.0    0.000000\n",
       "\n",
       "[316 rows x 3 columns]"
      ]
     },
     "execution_count": 53,
     "metadata": {},
     "output_type": "execute_result"
    }
   ],
   "source": [
    "stat, p, dof, expected, euribor3m_df = chisquare(df,'euribor3m','y')\n",
    "print(f\"P value: {p}\")\n",
    "\n",
    "### Printing observed contingency table for reference \n",
    "euribor3m_df"
   ]
  },
  {
   "cell_type": "code",
   "execution_count": 54,
   "id": "32094cd1",
   "metadata": {},
   "outputs": [
    {
     "data": {
      "image/png": "[encoded data removed]",
      "text/plain": [
       "<Figure size 432x288 with 1 Axes>"
      ]
     },
     "metadata": {
      "needs_background": "light"
     },
     "output_type": "display_data"
    }
   ],
   "source": [
    "euribor3m_df.reset_index(inplace=True)\n",
    "euribor3m_df.rename(columns = {'index':'euribor3m'})\n",
    "euribor3m_df\n",
    "\n",
    "sns.scatterplot(x='euribor3m', y='%Yes', data=euribor3m_df)\n",
    "plt.show()"
   ]
  },
  {
   "cell_type": "code",
   "execution_count": 55,
   "id": "7fe9bb6e",
   "metadata": {},
   "outputs": [
    {
     "data": {
      "image/png": "[encoded data removed]",
      "text/plain": [
       "<Figure size 432x288 with 1 Axes>"
      ]
     },
     "metadata": {
      "needs_background": "light"
     },
     "output_type": "display_data"
    }
   ],
   "source": [
    "sns.boxplot(x='y',y='euribor3m',data=df)\n",
    "plt.show()"
   ]
  },
  {
   "cell_type": "code",
   "execution_count": 56,
   "id": "0efb0ace",
   "metadata": {},
   "outputs": [],
   "source": [
    "### 2nd method: using one way ANOVA"
   ]
  },
  {
   "cell_type": "code",
   "execution_count": 57,
   "id": "8480e5ba",
   "metadata": {},
   "outputs": [
    {
     "data": {
      "text/plain": [
       "F_onewayResult(statistic=4309.479048107805, pvalue=0.0)"
      ]
     },
     "execution_count": 57,
     "metadata": {},
     "output_type": "execute_result"
    }
   ],
   "source": [
    "stats.f_oneway(df.loc[df['y']=='yes','euribor3m'],\n",
    "                df.loc[df['y']=='no','euribor3m'])"
   ]
  },
  {
   "cell_type": "markdown",
   "id": "6c33b1ea",
   "metadata": {},
   "source": [
    "### nr.employed"
   ]
  },
  {
   "cell_type": "code",
   "execution_count": 58,
   "id": "c6ee88e9",
   "metadata": {},
   "outputs": [
    {
     "data": {
      "image/png": "[encoded data removed]",
      "text/plain": [
       "<Figure size 432x288 with 1 Axes>"
      ]
     },
     "metadata": {
      "needs_background": "light"
     },
     "output_type": "display_data"
    }
   ],
   "source": [
    "df['nr.employed'].plot(kind='hist')\n",
    "plt.show()\n",
    "\n"
   ]
  },
  {
   "cell_type": "code",
   "execution_count": 59,
   "id": "2833733b",
   "metadata": {},
   "outputs": [
    {
     "name": "stdout",
     "output_type": "stream",
     "text": [
      "P value: 0.0\n"
     ]
    },
    {
     "data": {
      "text/html": [
       "<div>\n",
       "<style scoped>\n",
       "    .dataframe tbody tr th:only-of-type {\n",
       "        vertical-align: middle;\n",
       "    }\n",
       "\n",
       "    .dataframe tbody tr th {\n",
       "        vertical-align: top;\n",
       "    }\n",
       "\n",
       "    .dataframe thead th {\n",
       "        text-align: right;\n",
       "    }\n",
       "</style>\n",
       "<table border=\"1\" class=\"dataframe\">\n",
       "  <thead>\n",
       "    <tr style=\"text-align: right;\">\n",
       "      <th></th>\n",
       "      <th>NoOfYes</th>\n",
       "      <th>NoOfNo</th>\n",
       "      <th>%Yes</th>\n",
       "    </tr>\n",
       "    <tr>\n",
       "      <th>nr.employed</th>\n",
       "      <th></th>\n",
       "      <th></th>\n",
       "      <th></th>\n",
       "    </tr>\n",
       "  </thead>\n",
       "  <tbody>\n",
       "    <tr>\n",
       "      <th>5008.7</th>\n",
       "      <td>369</td>\n",
       "      <td>281</td>\n",
       "      <td>56.769231</td>\n",
       "    </tr>\n",
       "    <tr>\n",
       "      <th>4991.6</th>\n",
       "      <td>403</td>\n",
       "      <td>370</td>\n",
       "      <td>52.134541</td>\n",
       "    </tr>\n",
       "    <tr>\n",
       "      <th>5023.5</th>\n",
       "      <td>88</td>\n",
       "      <td>84</td>\n",
       "      <td>51.162791</td>\n",
       "    </tr>\n",
       "    <tr>\n",
       "      <th>4963.6</th>\n",
       "      <td>301</td>\n",
       "      <td>334</td>\n",
       "      <td>47.401575</td>\n",
       "    </tr>\n",
       "    <tr>\n",
       "      <th>5017.5</th>\n",
       "      <td>454</td>\n",
       "      <td>617</td>\n",
       "      <td>42.390289</td>\n",
       "    </tr>\n",
       "    <tr>\n",
       "      <th>5076.2</th>\n",
       "      <td>594</td>\n",
       "      <td>1069</td>\n",
       "      <td>35.718581</td>\n",
       "    </tr>\n",
       "    <tr>\n",
       "      <th>5099.1</th>\n",
       "      <td>1092</td>\n",
       "      <td>7442</td>\n",
       "      <td>12.795875</td>\n",
       "    </tr>\n",
       "    <tr>\n",
       "      <th>5176.3</th>\n",
       "      <td>1</td>\n",
       "      <td>9</td>\n",
       "      <td>10.000000</td>\n",
       "    </tr>\n",
       "    <tr>\n",
       "      <th>5195.8</th>\n",
       "      <td>232</td>\n",
       "      <td>3451</td>\n",
       "      <td>6.299213</td>\n",
       "    </tr>\n",
       "    <tr>\n",
       "      <th>5228.1</th>\n",
       "      <td>866</td>\n",
       "      <td>15368</td>\n",
       "      <td>5.334483</td>\n",
       "    </tr>\n",
       "    <tr>\n",
       "      <th>5191.0</th>\n",
       "      <td>240</td>\n",
       "      <td>7523</td>\n",
       "      <td>3.091588</td>\n",
       "    </tr>\n",
       "  </tbody>\n",
       "</table>\n",
       "</div>"
      ],
      "text/plain": [
       "             NoOfYes  NoOfNo       %Yes\n",
       "nr.employed                            \n",
       "5008.7           369     281  56.769231\n",
       "4991.6           403     370  52.134541\n",
       "5023.5            88      84  51.162791\n",
       "4963.6           301     334  47.401575\n",
       "5017.5           454     617  42.390289\n",
       "5076.2           594    1069  35.718581\n",
       "5099.1          1092    7442  12.795875\n",
       "5176.3             1       9  10.000000\n",
       "5195.8           232    3451   6.299213\n",
       "5228.1           866   15368   5.334483\n",
       "5191.0           240    7523   3.091588"
      ]
     },
     "execution_count": 59,
     "metadata": {},
     "output_type": "execute_result"
    }
   ],
   "source": [
    "stat, p, dof, expected, nr_employed_df = chisquare(df,'nr.employed','y')\n",
    "print(f\"P value: {p}\")\n",
    "\n",
    "### Printing observed contingency table for reference \n",
    "nr_employed_df"
   ]
  },
  {
   "cell_type": "code",
   "execution_count": 60,
   "id": "0b6269b2",
   "metadata": {},
   "outputs": [
    {
     "data": {
      "image/png": "[encoded data removed]",
      "text/plain": [
       "<Figure size 432x288 with 1 Axes>"
      ]
     },
     "metadata": {
      "needs_background": "light"
     },
     "output_type": "display_data"
    }
   ],
   "source": [
    "nr_employed_df.reset_index(inplace=True)\n",
    "nr_employed_df.rename(columns = {'index':'nr.employed'})\n",
    "nr_employed_df\n",
    "\n",
    "sns.scatterplot(x='nr.employed', y='%Yes', data=nr_employed_df)\n",
    "plt.show()"
   ]
  },
  {
   "cell_type": "markdown",
   "id": "c33d65b7",
   "metadata": {},
   "source": [
    "### campaign"
   ]
  },
  {
   "cell_type": "code",
   "execution_count": 61,
   "id": "05c07723",
   "metadata": {},
   "outputs": [
    {
     "data": {
      "image/png": "[encoded data removed]",
      "text/plain": [
       "<Figure size 432x288 with 1 Axes>"
      ]
     },
     "metadata": {
      "needs_background": "light"
     },
     "output_type": "display_data"
    }
   ],
   "source": [
    "df['campaign'].plot(kind='hist',color='red')\n",
    "plt.show()"
   ]
  },
  {
   "cell_type": "code",
   "execution_count": 62,
   "id": "bf2a7cdd",
   "metadata": {},
   "outputs": [
    {
     "data": {
      "text/plain": [
       "<AxesSubplot: xlabel='y', ylabel='campaign'>"
      ]
     },
     "execution_count": 62,
     "metadata": {},
     "output_type": "execute_result"
    },
    {
     "data": {
      "image/png": "[encoded data removed]",
      "text/plain": [
       "<Figure size 432x288 with 1 Axes>"
      ]
     },
     "metadata": {
      "needs_background": "light"
     },
     "output_type": "display_data"
    }
   ],
   "source": [
    "sns.boxplot(x='y',y='campaign',data=df[df['campaign']<7])"
   ]
  },
  {
   "cell_type": "markdown",
   "id": "8396ad68",
   "metadata": {},
   "source": [
    "## Final Feature processing\n",
    "\n",
    "implementing feature processign on entire data before splitting as the focus is not on the feature\n",
    "preprocessing"
   ]
  },
  {
   "cell_type": "code",
   "execution_count": 63,
   "id": "1c4ccafd",
   "metadata": {},
   "outputs": [],
   "source": [
    "from sklearn.preprocessing import StandardScaler, OneHotEncoder\n",
    "from sklearn.model_selection import train_test_split\n",
    "\n",
    "### removign age above 70 and campaign above 7\n",
    "data = df[(df['age']<71) & (df['campaign']<=7)]\n",
    "\n",
    "### Converting job to onehot\n",
    "oe = OneHotEncoder(sparse=False)\n",
    "data[oe.get_feature_names(['job'])] = oe.fit_transform(data['job'].to_numpy().reshape(-1, 1))\n",
    "data.drop(columns=['job'], inplace=True)\n",
    "\n",
    "### Converting poutcome to onehot\n",
    "oe = OneHotEncoder(sparse=False)\n",
    "data[oe.get_feature_names(['poutcome'])] = oe.fit_transform(data['poutcome'].to_numpy().reshape(-1, 1))\n",
    "data.drop(columns=['poutcome'], inplace=True)\n",
    "\n",
    "### Converting marital to onehot\n",
    "oe = OneHotEncoder(sparse=False)\n",
    "data[oe.get_feature_names(['marital'])] = oe.fit_transform(data['marital'].to_numpy().reshape(-1, 1))\n",
    "data.drop(columns=['marital'], inplace=True)\n",
    "\n",
    "### Converting education to onehot\n",
    "oe = OneHotEncoder(sparse=False)\n",
    "data[oe.get_feature_names(['education'])] = oe.fit_transform(data['education'].to_numpy().reshape(-1, 1))\n",
    "data.drop(columns=['education'], inplace=True)\n",
    "\n",
    "### Converting default to onehot\n",
    "oe = OneHotEncoder(sparse=False)\n",
    "data[oe.get_feature_names(['default'])] = oe.fit_transform(data['default'].to_numpy().reshape(-1, 1))\n",
    "data.drop(columns=['default'], inplace=True)\n",
    "\n",
    "### month mean encoding\n",
    "\n",
    "month_df = pd.concat([data[data['y']=='yes'].groupby(['month']).size(),\n",
    "            data[data['y']=='no'].groupby(['month']).size()],\n",
    "          axis=1\n",
    "         )\n",
    "month_df.reset_index(inplace=True)\n",
    "month_df.columns = ['month', 'yes', 'no']\n",
    "month_df['%yes'] = month_df['yes'] / (month_df['yes']+month_df['no']) * 100\n",
    "\n",
    "month_means = dict(zip(month_df['month'],month_df['%yes']))\n",
    "data.replace({'month':month_means},inplace=True)\n",
    "\n",
    "### day_of_week mean encoding\n",
    "\n",
    "day_df = pd.concat([data[data['y']=='yes'].groupby(['day_of_week']).size(),\n",
    "            data[data['y']=='no'].groupby(['day_of_week']).size()],\n",
    "          axis=1\n",
    "         )\n",
    "day_df.reset_index(inplace=True)\n",
    "day_df.columns = ['day_of_week', 'yes', 'no']\n",
    "day_df['%yes'] = day_df['yes'] / (day_df['yes']+day_df['no']) * 100\n",
    "\n",
    "day_means = dict(zip(day_df['day_of_week'],day_df['%yes']))\n",
    "data.replace({'day_of_week':day_means},inplace=True)\n",
    "\n",
    "\n",
    "\n",
    "### Standard scaling all numeric columns\n",
    "scaler = StandardScaler()\n",
    "data.loc[:,['age','month', 'day_of_week', \n",
    "            'campaign', 'emp.var.rate', 'cons.price.idx',\n",
    "            'cons.conf.idx', 'euribor3m', 'nr.employed']] = scaler.fit_transform(data[['age','month', 'day_of_week', \n",
    "                                                                                    'campaign', 'emp.var.rate', 'cons.price.idx',\n",
    "                                                                                       'cons.conf.idx', 'euribor3m', 'nr.employed']])\n",
    "\n",
    "\n",
    "### Removing all other non significant features\n",
    "data.drop(columns=['housing','loan','contact','duration','pdays','previous'],inplace=True)"
   ]
  },
  {
   "cell_type": "code",
   "execution_count": 64,
   "id": "49f56ca7",
   "metadata": {},
   "outputs": [],
   "source": [
    "### Processign target columns\n",
    "\n",
    "data['y'] = np.where(data['y']=='yes',1,0)"
   ]
  },
  {
   "cell_type": "code",
   "execution_count": 65,
   "id": "afbb7c0a",
   "metadata": {},
   "outputs": [
    {
     "data": {
      "text/html": [
       "<div>\n",
       "<style scoped>\n",
       "    .dataframe tbody tr th:only-of-type {\n",
       "        vertical-align: middle;\n",
       "    }\n",
       "\n",
       "    .dataframe tbody tr th {\n",
       "        vertical-align: top;\n",
       "    }\n",
       "\n",
       "    .dataframe thead th {\n",
       "        text-align: right;\n",
       "    }\n",
       "</style>\n",
       "<table border=\"1\" class=\"dataframe\">\n",
       "  <thead>\n",
       "    <tr style=\"text-align: right;\">\n",
       "      <th></th>\n",
       "      <th>age</th>\n",
       "      <th>month</th>\n",
       "      <th>day_of_week</th>\n",
       "      <th>campaign</th>\n",
       "      <th>emp.var.rate</th>\n",
       "      <th>cons.price.idx</th>\n",
       "      <th>cons.conf.idx</th>\n",
       "      <th>euribor3m</th>\n",
       "      <th>nr.employed</th>\n",
       "      <th>y</th>\n",
       "      <th>job_admin.</th>\n",
       "      <th>job_blue-collar</th>\n",
       "      <th>job_entrepreneur</th>\n",
       "      <th>job_housemaid</th>\n",
       "      <th>job_management</th>\n",
       "      <th>job_retired</th>\n",
       "      <th>job_self-employed</th>\n",
       "      <th>job_services</th>\n",
       "      <th>job_student</th>\n",
       "      <th>job_technician</th>\n",
       "      <th>job_unemployed</th>\n",
       "      <th>job_unknown</th>\n",
       "      <th>poutcome_failure</th>\n",
       "      <th>poutcome_nonexistent</th>\n",
       "      <th>poutcome_success</th>\n",
       "      <th>marital_divorced</th>\n",
       "      <th>marital_married</th>\n",
       "      <th>marital_single</th>\n",
       "      <th>marital_unknown</th>\n",
       "      <th>education_basic.4y</th>\n",
       "      <th>education_basic.6y</th>\n",
       "      <th>education_basic.9y</th>\n",
       "      <th>education_high.school</th>\n",
       "      <th>education_illiterate</th>\n",
       "      <th>education_professional.course</th>\n",
       "      <th>education_university.degree</th>\n",
       "      <th>education_unknown</th>\n",
       "      <th>default_no</th>\n",
       "      <th>default_unknown</th>\n",
       "      <th>default_yes</th>\n",
       "    </tr>\n",
       "  </thead>\n",
       "  <tbody>\n",
       "    <tr>\n",
       "      <th>0</th>\n",
       "      <td>1.683161</td>\n",
       "      <td>-0.54696</td>\n",
       "      <td>-1.576141</td>\n",
       "      <td>-0.796328</td>\n",
       "      <td>0.658544</td>\n",
       "      <td>0.738689</td>\n",
       "      <td>0.898068</td>\n",
       "      <td>0.719619</td>\n",
       "      <td>0.338203</td>\n",
       "      <td>0</td>\n",
       "      <td>0.0</td>\n",
       "      <td>0.0</td>\n",
       "      <td>0.0</td>\n",
       "      <td>1.0</td>\n",
       "      <td>0.0</td>\n",
       "      <td>0.0</td>\n",
       "      <td>0.0</td>\n",
       "      <td>0.0</td>\n",
       "      <td>0.0</td>\n",
       "      <td>0.0</td>\n",
       "      <td>0.0</td>\n",
       "      <td>0.0</td>\n",
       "      <td>0.0</td>\n",
       "      <td>1.0</td>\n",
       "      <td>0.0</td>\n",
       "      <td>0.0</td>\n",
       "      <td>1.0</td>\n",
       "      <td>0.0</td>\n",
       "      <td>0.0</td>\n",
       "      <td>1.0</td>\n",
       "      <td>0.0</td>\n",
       "      <td>0.0</td>\n",
       "      <td>0.0</td>\n",
       "      <td>0.0</td>\n",
       "      <td>0.0</td>\n",
       "      <td>0.0</td>\n",
       "      <td>0.0</td>\n",
       "      <td>1.0</td>\n",
       "      <td>0.0</td>\n",
       "      <td>0.0</td>\n",
       "    </tr>\n",
       "    <tr>\n",
       "      <th>1</th>\n",
       "      <td>1.785903</td>\n",
       "      <td>-0.54696</td>\n",
       "      <td>-1.576141</td>\n",
       "      <td>-0.796328</td>\n",
       "      <td>0.658544</td>\n",
       "      <td>0.738689</td>\n",
       "      <td>0.898068</td>\n",
       "      <td>0.719619</td>\n",
       "      <td>0.338203</td>\n",
       "      <td>0</td>\n",
       "      <td>0.0</td>\n",
       "      <td>0.0</td>\n",
       "      <td>0.0</td>\n",
       "      <td>0.0</td>\n",
       "      <td>0.0</td>\n",
       "      <td>0.0</td>\n",
       "      <td>0.0</td>\n",
       "      <td>1.0</td>\n",
       "      <td>0.0</td>\n",
       "      <td>0.0</td>\n",
       "      <td>0.0</td>\n",
       "      <td>0.0</td>\n",
       "      <td>0.0</td>\n",
       "      <td>1.0</td>\n",
       "      <td>0.0</td>\n",
       "      <td>0.0</td>\n",
       "      <td>1.0</td>\n",
       "      <td>0.0</td>\n",
       "      <td>0.0</td>\n",
       "      <td>0.0</td>\n",
       "      <td>0.0</td>\n",
       "      <td>0.0</td>\n",
       "      <td>1.0</td>\n",
       "      <td>0.0</td>\n",
       "      <td>0.0</td>\n",
       "      <td>0.0</td>\n",
       "      <td>0.0</td>\n",
       "      <td>0.0</td>\n",
       "      <td>1.0</td>\n",
       "      <td>0.0</td>\n",
       "    </tr>\n",
       "    <tr>\n",
       "      <th>2</th>\n",
       "      <td>-0.268946</td>\n",
       "      <td>-0.54696</td>\n",
       "      <td>-1.576141</td>\n",
       "      <td>-0.796328</td>\n",
       "      <td>0.658544</td>\n",
       "      <td>0.738689</td>\n",
       "      <td>0.898068</td>\n",
       "      <td>0.719619</td>\n",
       "      <td>0.338203</td>\n",
       "      <td>0</td>\n",
       "      <td>0.0</td>\n",
       "      <td>0.0</td>\n",
       "      <td>0.0</td>\n",
       "      <td>0.0</td>\n",
       "      <td>0.0</td>\n",
       "      <td>0.0</td>\n",
       "      <td>0.0</td>\n",
       "      <td>1.0</td>\n",
       "      <td>0.0</td>\n",
       "      <td>0.0</td>\n",
       "      <td>0.0</td>\n",
       "      <td>0.0</td>\n",
       "      <td>0.0</td>\n",
       "      <td>1.0</td>\n",
       "      <td>0.0</td>\n",
       "      <td>0.0</td>\n",
       "      <td>1.0</td>\n",
       "      <td>0.0</td>\n",
       "      <td>0.0</td>\n",
       "      <td>0.0</td>\n",
       "      <td>0.0</td>\n",
       "      <td>0.0</td>\n",
       "      <td>1.0</td>\n",
       "      <td>0.0</td>\n",
       "      <td>0.0</td>\n",
       "      <td>0.0</td>\n",
       "      <td>0.0</td>\n",
       "      <td>1.0</td>\n",
       "      <td>0.0</td>\n",
       "      <td>0.0</td>\n",
       "    </tr>\n",
       "    <tr>\n",
       "      <th>3</th>\n",
       "      <td>0.039281</td>\n",
       "      <td>-0.54696</td>\n",
       "      <td>-1.576141</td>\n",
       "      <td>-0.796328</td>\n",
       "      <td>0.658544</td>\n",
       "      <td>0.738689</td>\n",
       "      <td>0.898068</td>\n",
       "      <td>0.719619</td>\n",
       "      <td>0.338203</td>\n",
       "      <td>0</td>\n",
       "      <td>1.0</td>\n",
       "      <td>0.0</td>\n",
       "      <td>0.0</td>\n",
       "      <td>0.0</td>\n",
       "      <td>0.0</td>\n",
       "      <td>0.0</td>\n",
       "      <td>0.0</td>\n",
       "      <td>0.0</td>\n",
       "      <td>0.0</td>\n",
       "      <td>0.0</td>\n",
       "      <td>0.0</td>\n",
       "      <td>0.0</td>\n",
       "      <td>0.0</td>\n",
       "      <td>1.0</td>\n",
       "      <td>0.0</td>\n",
       "      <td>0.0</td>\n",
       "      <td>1.0</td>\n",
       "      <td>0.0</td>\n",
       "      <td>0.0</td>\n",
       "      <td>0.0</td>\n",
       "      <td>1.0</td>\n",
       "      <td>0.0</td>\n",
       "      <td>0.0</td>\n",
       "      <td>0.0</td>\n",
       "      <td>0.0</td>\n",
       "      <td>0.0</td>\n",
       "      <td>0.0</td>\n",
       "      <td>1.0</td>\n",
       "      <td>0.0</td>\n",
       "      <td>0.0</td>\n",
       "    </tr>\n",
       "    <tr>\n",
       "      <th>4</th>\n",
       "      <td>1.683161</td>\n",
       "      <td>-0.54696</td>\n",
       "      <td>-1.576141</td>\n",
       "      <td>-0.796328</td>\n",
       "      <td>0.658544</td>\n",
       "      <td>0.738689</td>\n",
       "      <td>0.898068</td>\n",
       "      <td>0.719619</td>\n",
       "      <td>0.338203</td>\n",
       "      <td>0</td>\n",
       "      <td>0.0</td>\n",
       "      <td>0.0</td>\n",
       "      <td>0.0</td>\n",
       "      <td>0.0</td>\n",
       "      <td>0.0</td>\n",
       "      <td>0.0</td>\n",
       "      <td>0.0</td>\n",
       "      <td>1.0</td>\n",
       "      <td>0.0</td>\n",
       "      <td>0.0</td>\n",
       "      <td>0.0</td>\n",
       "      <td>0.0</td>\n",
       "      <td>0.0</td>\n",
       "      <td>1.0</td>\n",
       "      <td>0.0</td>\n",
       "      <td>0.0</td>\n",
       "      <td>1.0</td>\n",
       "      <td>0.0</td>\n",
       "      <td>0.0</td>\n",
       "      <td>0.0</td>\n",
       "      <td>0.0</td>\n",
       "      <td>0.0</td>\n",
       "      <td>1.0</td>\n",
       "      <td>0.0</td>\n",
       "      <td>0.0</td>\n",
       "      <td>0.0</td>\n",
       "      <td>0.0</td>\n",
       "      <td>1.0</td>\n",
       "      <td>0.0</td>\n",
       "      <td>0.0</td>\n",
       "    </tr>\n",
       "  </tbody>\n",
       "</table>\n",
       "</div>"
      ],
      "text/plain": [
       "        age    month  day_of_week  campaign  emp.var.rate  cons.price.idx  \\\n",
       "0  1.683161 -0.54696    -1.576141 -0.796328      0.658544        0.738689   \n",
       "1  1.785903 -0.54696    -1.576141 -0.796328      0.658544        0.738689   \n",
       "2 -0.268946 -0.54696    -1.576141 -0.796328      0.658544        0.738689   \n",
       "3  0.039281 -0.54696    -1.576141 -0.796328      0.658544        0.738689   \n",
       "4  1.683161 -0.54696    -1.576141 -0.796328      0.658544        0.738689   \n",
       "\n",
       "   cons.conf.idx  euribor3m  nr.employed  y  job_admin.  job_blue-collar  \\\n",
       "0       0.898068   0.719619     0.338203  0         0.0              0.0   \n",
       "1       0.898068   0.719619     0.338203  0         0.0              0.0   \n",
       "2       0.898068   0.719619     0.338203  0         0.0              0.0   \n",
       "3       0.898068   0.719619     0.338203  0         1.0              0.0   \n",
       "4       0.898068   0.719619     0.338203  0         0.0              0.0   \n",
       "\n",
       "   job_entrepreneur  job_housemaid  job_management  job_retired  \\\n",
       "0               0.0            1.0             0.0          0.0   \n",
       "1               0.0            0.0             0.0          0.0   \n",
       "2               0.0            0.0             0.0          0.0   \n",
       "3               0.0            0.0             0.0          0.0   \n",
       "4               0.0            0.0             0.0          0.0   \n",
       "\n",
       "   job_self-employed  job_services  job_student  job_technician  \\\n",
       "0                0.0           0.0          0.0             0.0   \n",
       "1                0.0           1.0          0.0             0.0   \n",
       "2                0.0           1.0          0.0             0.0   \n",
       "3                0.0           0.0          0.0             0.0   \n",
       "4                0.0           1.0          0.0             0.0   \n",
       "\n",
       "   job_unemployed  job_unknown  poutcome_failure  poutcome_nonexistent  \\\n",
       "0             0.0          0.0               0.0                   1.0   \n",
       "1             0.0          0.0               0.0                   1.0   \n",
       "2             0.0          0.0               0.0                   1.0   \n",
       "3             0.0          0.0               0.0                   1.0   \n",
       "4             0.0          0.0               0.0                   1.0   \n",
       "\n",
       "   poutcome_success  marital_divorced  marital_married  marital_single  \\\n",
       "0               0.0               0.0              1.0             0.0   \n",
       "1               0.0               0.0              1.0             0.0   \n",
       "2               0.0               0.0              1.0             0.0   \n",
       "3               0.0               0.0              1.0             0.0   \n",
       "4               0.0               0.0              1.0             0.0   \n",
       "\n",
       "   marital_unknown  education_basic.4y  education_basic.6y  \\\n",
       "0              0.0                 1.0                 0.0   \n",
       "1              0.0                 0.0                 0.0   \n",
       "2              0.0                 0.0                 0.0   \n",
       "3              0.0                 0.0                 1.0   \n",
       "4              0.0                 0.0                 0.0   \n",
       "\n",
       "   education_basic.9y  education_high.school  education_illiterate  \\\n",
       "0                 0.0                    0.0                   0.0   \n",
       "1                 0.0                    1.0                   0.0   \n",
       "2                 0.0                    1.0                   0.0   \n",
       "3                 0.0                    0.0                   0.0   \n",
       "4                 0.0                    1.0                   0.0   \n",
       "\n",
       "   education_professional.course  education_university.degree  \\\n",
       "0                            0.0                          0.0   \n",
       "1                            0.0                          0.0   \n",
       "2                            0.0                          0.0   \n",
       "3                            0.0                          0.0   \n",
       "4                            0.0                          0.0   \n",
       "\n",
       "   education_unknown  default_no  default_unknown  default_yes  \n",
       "0                0.0         1.0              0.0          0.0  \n",
       "1                0.0         0.0              1.0          0.0  \n",
       "2                0.0         1.0              0.0          0.0  \n",
       "3                0.0         1.0              0.0          0.0  \n",
       "4                0.0         1.0              0.0          0.0  "
      ]
     },
     "execution_count": 65,
     "metadata": {},
     "output_type": "execute_result"
    }
   ],
   "source": [
    "data.head()\n",
    "\n"
   ]
  },
  {
   "cell_type": "code",
   "execution_count": 66,
   "id": "a413177b",
   "metadata": {},
   "outputs": [
    {
     "data": {
      "text/plain": [
       "(38998, 40)"
      ]
     },
     "execution_count": 66,
     "metadata": {},
     "output_type": "execute_result"
    }
   ],
   "source": [
    "data.shape"
   ]
  },
  {
   "cell_type": "markdown",
   "id": "352172ab",
   "metadata": {},
   "source": [
    "### Ddvide the data"
   ]
  },
  {
   "cell_type": "code",
   "execution_count": 67,
   "id": "732b297a",
   "metadata": {},
   "outputs": [],
   "source": [
    "X = data.drop(columns=['y'])\n",
    "y = data['y']\n",
    "\n",
    "X_train, X_rest, y_train, y_rest = train_test_split(X, y, test_size=0.4, random_state=42, stratify=y)\n",
    "X_valid, X_test, y_valid, y_test = train_test_split(X_rest, y_rest, test_size=0.5, random_state=42, stratify=y_rest)"
   ]
  },
  {
   "cell_type": "code",
   "execution_count": 68,
   "id": "f15a436e",
   "metadata": {},
   "outputs": [
    {
     "data": {
      "text/plain": [
       "((23398, 39), (23398,), (7800, 39), (7800,), (7800, 39), (7800,))"
      ]
     },
     "execution_count": 68,
     "metadata": {},
     "output_type": "execute_result"
    }
   ],
   "source": [
    "X_train.shape,y_train.shape,X_valid.shape,y_valid.shape,X_test.shape,y_test.shape"
   ]
  },
  {
   "cell_type": "markdown",
   "id": "0213164d",
   "metadata": {},
   "source": [
    "## Models"
   ]
  },
  {
   "cell_type": "markdown",
   "id": "bbe20c2d",
   "metadata": {},
   "source": [
    "Implementing Logistic regression from scratch"
   ]
  },
  {
   "cell_type": "code",
   "execution_count": 313,
   "id": "cb5ad8f4",
   "metadata": {},
   "outputs": [],
   "source": [
    "def logisticLoss(y,y_hat):\n",
    "    return -y*np.log(y_hat) - (1-y)*np.log(1-y_hat)\n",
    "\n",
    "class Adam:\n",
    "    def __init__(self,lr=10**-1):\n",
    "        self.lr = lr\n",
    "        self.m = None\n",
    "        self.v = None\n",
    "        self.beta1 = 0.99\n",
    "        self.beta2 = 0.9\n",
    "        self.epsilon = 10**-8\n",
    "        \n",
    "    def optimize(self, model, grads):\n",
    "        if self.m is None and self.v is None:\n",
    "            self.m = np.zeros_like(grads)\n",
    "            self.v = np.zeros_like(grads)\n",
    "        self.m = self.beta1 * self.m + (1-self.beta1) * grads\n",
    "        self.v = self.beta2 * self.v + (1-self.beta2) * grads ** 2\n",
    "        \n",
    "        m_hat = self.m / (1-self.beta1)\n",
    "        v_hat = self.v / (1-self.beta2)\n",
    "        \n",
    "        model.W -= lr * m_hat / (np.sqrt(v_hat+self.epsilon))\n",
    "        \n",
    "\n",
    "class LogisticRegression:\n",
    "    \n",
    "    def __init__(self):\n",
    "        self.W = None        \n",
    "        self.history = {'loss':[], 'weights':(), 'accuracy':[], 'val_accuracy':[]}        \n",
    "    \n",
    "        \n",
    "    def train(self,X,y,epochs=10,lr=10**-3):\n",
    "        X = X.to_numpy()\n",
    "        y = y.to_numpy()        \n",
    "        n = X.shape[0] ## Number of examples\n",
    "        \n",
    "        ## Initialize the weights\n",
    "        n_params = X.shape[1]+1 ## Number of parameters(or weights) + 1 for bias\n",
    "        lower, upper = -(1.0 / math.sqrt(n_params)), (1.0 / math.sqrt(n_params))\n",
    "        self.W = np.random.uniform(lower, upper, size=n_params).reshape(n_params,1)\n",
    "        self.W[0,0] = 1 ## bias\n",
    "        \n",
    "        ## Training loop for number of epochs\n",
    "        for e in range(epochs):\n",
    "            ## Loss and gradients of this iteration set to zeros\n",
    "            L = 0\n",
    "            grads = np.zeros((n_params,1))\n",
    "            \n",
    "            ## Forword propagation\n",
    "            ## For each training example calculate loss and gradient\n",
    "            for i in range(n):\n",
    "                x = X[i,:].reshape(X.shape[1],1)\n",
    "                x = np.vstack((np.ones((1,1)),x)) ## adding x0 = 1\n",
    "                z = np.dot(self.W.T,x) \n",
    "                y_hat = 1 / (1 + np.exp(-z))\n",
    "                error = logisticLoss(y[i],y_hat)\n",
    "                L += error\n",
    "                \n",
    "                ## Find gradients                \n",
    "                dy_hat = y_hat * (1-y[i]) - y[i] * (1-y_hat)/ (y_hat * (1-y_hat))\n",
    "                dz = np.exp(-z)/(1+np.exp(-z))**2\n",
    "                grads +=  dy_hat * dz * x\n",
    "\n",
    "            \n",
    "            ## For each epoch calculate metrics and update weights\n",
    "            loss = L/n\n",
    "            val_accuracy = accuracy_score(y_test,self.predict(X_test))\n",
    "            accuracy = accuracy_score(y_train,self.predict(X_train))\n",
    "            \n",
    "            ### Log history\n",
    "            self.history['loss'].append(loss[0][0])\n",
    "            self.history['weights'] += (np.copy(self.W),)            \n",
    "            self.history['accuracy'].append(accuracy)\n",
    "            self.history['val_accuracy'].append(val_accuracy)            \n",
    "            print(f\"Epoch {e+1} / {epochs} \\n loss: {loss[0][0]} Accuracy: {accuracy} val_accuracy: {val_accuracy}\")\n",
    "            \n",
    "            ### Update parameters    \n",
    "            \n",
    "            self.W -= lr * grads / n\n",
    "                 \n",
    "            \n",
    "            \n",
    "                    \n",
    "    def predict(self,X,thresh=0.5):\n",
    "        X = np.hstack((np.ones((X.shape[0],1)),X)) ## adding x0 = 1\n",
    "        z = np.dot(X,self.W) \n",
    "        y_hat = 1 / (1 + np.exp(-z))\n",
    "        y_hat = np.where(y_hat > thresh,1,0)\n",
    "        return y_hat\n",
    "    def weights(self):\n",
    "        return self.W"
   ]
  },
  {
   "cell_type": "code",
   "execution_count": 314,
   "id": "23c624ec",
   "metadata": {},
   "outputs": [
    {
     "name": "stdout",
     "output_type": "stream",
     "text": [
      "Epoch 1 / 100 \n",
      " loss: 1.1430049670821747 Accuracy: 0.11133430207710061 val_accuracy: 0.11217948717948718\n",
      "Epoch 2 / 100 \n",
      " loss: 1.1230024426186422 Accuracy: 0.11193264381571075 val_accuracy: 0.11269230769230769\n",
      "Epoch 3 / 100 \n",
      " loss: 1.1031560672057203 Accuracy: 0.11188990512009574 val_accuracy: 0.11269230769230769\n",
      "Epoch 4 / 100 \n",
      " loss: 1.0834967675808571 Accuracy: 0.11163347294640567 val_accuracy: 0.11320512820512821\n",
      "Epoch 5 / 100 \n",
      " loss: 1.0640555057496404 Accuracy: 0.11180442772886572 val_accuracy: 0.1141025641025641\n",
      "Epoch 6 / 100 \n",
      " loss: 1.0448629325671037 Accuracy: 0.11193264381571075 val_accuracy: 0.11384615384615385\n",
      "Epoch 7 / 100 \n",
      " loss: 1.0259490284940673 Accuracy: 0.11188990512009574 val_accuracy: 0.1135897435897436\n",
      "Epoch 8 / 100 \n",
      " loss: 1.0073427413190612 Accuracy: 0.11210359859817079 val_accuracy: 0.11307692307692307\n",
      "Epoch 9 / 100 \n",
      " loss: 0.9890716314607751 Accuracy: 0.11206085990255578 val_accuracy: 0.11333333333333333\n",
      "Epoch 10 / 100 \n",
      " loss: 0.9711615357498725 Accuracy: 0.11223181468501581 val_accuracy: 0.11294871794871796\n",
      "Epoch 11 / 100 \n",
      " loss: 0.9536362602687193 Accuracy: 0.11193264381571075 val_accuracy: 0.11307692307692307\n",
      "Epoch 12 / 100 \n",
      " loss: 0.9365173118911495 Accuracy: 0.1117616890332507 val_accuracy: 0.11294871794871796\n",
      "Epoch 13 / 100 \n",
      " loss: 0.9198236766551581 Accuracy: 0.11193264381571075 val_accuracy: 0.11256410256410257\n",
      "Epoch 14 / 100 \n",
      " loss: 0.9035716511177433 Accuracy: 0.11201812120694077 val_accuracy: 0.11282051282051282\n",
      "Epoch 15 / 100 \n",
      " loss: 0.8877747305263332 Accuracy: 0.11240276946747585 val_accuracy: 0.11307692307692307\n",
      "Epoch 16 / 100 \n",
      " loss: 0.8724435551656435 Accuracy: 0.11483887511753141 val_accuracy: 0.11423076923076923\n",
      "Epoch 17 / 100 \n",
      " loss: 0.8575859137872593 Accuracy: 0.11996751859133259 val_accuracy: 0.12102564102564102\n",
      "Epoch 18 / 100 \n",
      " loss: 0.8432068007708757 Accuracy: 0.13018206684331995 val_accuracy: 0.13012820512820514\n",
      "Epoch 19 / 100 \n",
      " loss: 0.829308521746438 Accuracy: 0.14702111291563383 val_accuracy: 0.14692307692307693\n",
      "Epoch 20 / 100 \n",
      " loss: 0.8158908409281738 Accuracy: 0.1686896315924438 val_accuracy: 0.16807692307692307\n",
      "Epoch 21 / 100 \n",
      " loss: 0.8029511624291408 Accuracy: 0.19625609026412513 val_accuracy: 0.20012820512820512\n",
      "Epoch 22 / 100 \n",
      " loss: 0.7904847373473817 Accuracy: 0.226087699803402 val_accuracy: 0.22974358974358974\n",
      "Epoch 23 / 100 \n",
      " loss: 0.7784848884065559 Accuracy: 0.26331310368407557 val_accuracy: 0.2580769230769231\n",
      "Epoch 24 / 100 \n",
      " loss: 0.7669432443299968 Accuracy: 0.29964099495683394 val_accuracy: 0.2985897435897436\n",
      "Epoch 25 / 100 \n",
      " loss: 0.7558499768387605 Accuracy: 0.334814941447987 val_accuracy: 0.33589743589743587\n",
      "Epoch 26 / 100 \n",
      " loss: 0.745194034097352 Accuracy: 0.373920847935721 val_accuracy: 0.3721794871794872\n",
      "Epoch 27 / 100 \n",
      " loss: 0.734963365490054 Accuracy: 0.417343362680571 val_accuracy: 0.4169230769230769\n",
      "Epoch 28 / 100 \n",
      " loss: 0.7251451337127388 Accuracy: 0.4633729378579366 val_accuracy: 0.46692307692307694\n",
      "Epoch 29 / 100 \n",
      " loss: 0.7157259112392395 Accuracy: 0.5064962817334815 val_accuracy: 0.51\n",
      "Epoch 30 / 100 \n",
      " loss: 0.7066918592154725 Accuracy: 0.5443627660483802 val_accuracy: 0.5443589743589744\n",
      "Epoch 31 / 100 \n",
      " loss: 0.6980288877139283 Accuracy: 0.5776134712368578 val_accuracy: 0.5824358974358974\n",
      "Epoch 32 / 100 \n",
      " loss: 0.6897227970244656 Accuracy: 0.6072741259936747 val_accuracy: 0.6130769230769231\n",
      "Epoch 33 / 100 \n",
      " loss: 0.6817594002605294 Accuracy: 0.6351397555346611 val_accuracy: 0.6410256410256411\n",
      "Epoch 34 / 100 \n",
      " loss: 0.6741246280243061 Accuracy: 0.6545003846482605 val_accuracy: 0.6588461538461539\n",
      "Epoch 35 / 100 \n",
      " loss: 0.6668046162124673 Accuracy: 0.6671510385503034 val_accuracy: 0.6734615384615384\n",
      "Epoch 36 / 100 \n",
      " loss: 0.659785778270192 Accuracy: 0.6791178733225062 val_accuracy: 0.6873076923076923\n",
      "Epoch 37 / 100 \n",
      " loss: 0.6530548633326787 Accuracy: 0.6880929994016582 val_accuracy: 0.6962820512820512\n",
      "Epoch 38 / 100 \n",
      " loss: 0.6465990017485477 Accuracy: 0.6956150098299 val_accuracy: 0.705\n",
      "Epoch 39 / 100 \n",
      " loss: 0.6404057394742698 Accuracy: 0.7007436533037011 val_accuracy: 0.7098717948717949\n",
      "Epoch 40 / 100 \n",
      " loss: 0.6344630627793564 Accuracy: 0.7061287289511924 val_accuracy: 0.7143589743589743\n",
      "Epoch 41 / 100 \n",
      " loss: 0.6287594146209039 Accuracy: 0.7113001111206086 val_accuracy: 0.7194871794871794\n",
      "Epoch 42 / 100 \n",
      " loss: 0.6232837039445951 Accuracy: 0.7159158902470296 val_accuracy: 0.7228205128205129\n",
      "Epoch 43 / 100 \n",
      " loss: 0.6180253090563894 Accuracy: 0.7202752371997606 val_accuracy: 0.7282051282051282\n",
      "Epoch 44 / 100 \n",
      " loss: 0.6129740760911697 Accuracy: 0.7245491067612616 val_accuracy: 0.7314102564102564\n",
      "Epoch 45 / 100 \n",
      " loss: 0.6081203134878715 Accuracy: 0.7284383280622275 val_accuracy: 0.735897435897436\n",
      "Epoch 46 / 100 \n",
      " loss: 0.6034547832672261 Accuracy: 0.7326694589281135 val_accuracy: 0.7397435897435898\n",
      "Epoch 47 / 100 \n",
      " loss: 0.5989686898023557 Accuracy: 0.7369005897939995 val_accuracy: 0.7447435897435898\n",
      "Epoch 48 / 100 \n",
      " loss: 0.5946536666741735 Accuracy: 0.7407043337037353 val_accuracy: 0.7482051282051282\n",
      "Epoch 49 / 100 \n",
      " loss: 0.5905017621149472 Accuracy: 0.7450636806564663 val_accuracy: 0.7515384615384615\n",
      "Epoch 50 / 100 \n",
      " loss: 0.5865054234632018 Accuracy: 0.7482690828275921 val_accuracy: 0.7553846153846154\n",
      "Epoch 51 / 100 \n",
      " loss: 0.5826574809831032 Accuracy: 0.7519018719548679 val_accuracy: 0.7573076923076923\n",
      "Epoch 52 / 100 \n",
      " loss: 0.578951131339404 Accuracy: 0.7555346610821437 val_accuracy: 0.7601282051282051\n",
      "Epoch 53 / 100 \n",
      " loss: 0.5753799209654666 Accuracy: 0.7585691084708095 val_accuracy: 0.762948717948718\n",
      "Epoch 54 / 100 \n",
      " loss: 0.5719377295157124 Accuracy: 0.7616462945550901 val_accuracy: 0.7661538461538462\n",
      "Epoch 55 / 100 \n",
      " loss: 0.5686187535544943 Accuracy: 0.7644243097700658 val_accuracy: 0.7693589743589744\n",
      "Epoch 56 / 100 \n",
      " loss: 0.5654174905997432 Accuracy: 0.7672878023762715 val_accuracy: 0.7728205128205128\n",
      "Epoch 57 / 100 \n",
      " loss: 0.5623287236119625 Accuracy: 0.7706641593298572 val_accuracy: 0.7755128205128206\n",
      "Epoch 58 / 100 \n",
      " loss: 0.559347505995267 Accuracy: 0.7724164458500726 val_accuracy: 0.7776923076923077\n",
      "Epoch 59 / 100 \n",
      " loss: 0.5564691471580792 Accuracy: 0.7752371997606633 val_accuracy: 0.7808974358974359\n",
      "Epoch 60 / 100 \n",
      " loss: 0.5536891986647473 Accuracy: 0.778100692366869 val_accuracy: 0.7834615384615384\n",
      "Epoch 61 / 100 \n",
      " loss: 0.5510034409965069 Accuracy: 0.7806222754081545 val_accuracy: 0.7858974358974359\n",
      "Epoch 62 / 100 \n",
      " loss: 0.5484078709296246 Accuracy: 0.78263099410206 val_accuracy: 0.7875641025641026\n",
      "Epoch 63 / 100 \n",
      " loss: 0.5458986895301192 Accuracy: 0.7840413710573553 val_accuracy: 0.7897435897435897\n",
      "Epoch 64 / 100 \n",
      " loss: 0.543472290757775 Accuracy: 0.7857509188819557 val_accuracy: 0.7917948717948718\n",
      "Epoch 65 / 100 \n",
      " loss: 0.5411252506671634 Accuracy: 0.7875459440977861 val_accuracy: 0.793974358974359\n",
      "Epoch 66 / 100 \n",
      " loss: 0.5388543171894041 Accuracy: 0.7890845371399264 val_accuracy: 0.7952564102564103\n",
      "Epoch 67 / 100 \n",
      " loss: 0.536656400475515 Accuracy: 0.7906231301820669 val_accuracy: 0.7971794871794872\n",
      "Epoch 68 / 100 \n",
      " loss: 0.5345285637801139 Accuracy: 0.7918625523549021 val_accuracy: 0.7991025641025641\n",
      "Epoch 69 / 100 \n",
      " loss: 0.5324680148630213 Accuracy: 0.7930164971365073 val_accuracy: 0.8002564102564103\n",
      "Epoch 70 / 100 \n",
      " loss: 0.5304720978854449 Accuracy: 0.7947260449611078 val_accuracy: 0.801025641025641\n",
      "Epoch 71 / 100 \n",
      " loss: 0.5285382857769267 Accuracy: 0.7954526027865629 val_accuracy: 0.8016666666666666\n",
      "Epoch 72 / 100 \n",
      " loss: 0.5266641730494832 Accuracy: 0.7964783314813232 val_accuracy: 0.8028205128205128\n",
      "Epoch 73 / 100 \n",
      " loss: 0.5248474690354307 Accuracy: 0.7972048893067784 val_accuracy: 0.8042307692307692\n",
      "Epoch 74 / 100 \n",
      " loss: 0.5230859915259306 Accuracy: 0.7978887084366185 val_accuracy: 0.8052564102564103\n",
      "Epoch 75 / 100 \n",
      " loss: 0.5213776607879583 Accuracy: 0.7984870501752287 val_accuracy: 0.8061538461538461\n",
      "Epoch 76 / 100 \n",
      " loss: 0.5197204939380938 Accuracy: 0.7990426532182238 val_accuracy: 0.8073076923076923\n",
      "Epoch 77 / 100 \n",
      " loss: 0.5181125996524136 Accuracy: 0.7996409949568339 val_accuracy: 0.8076923076923077\n",
      "Epoch 78 / 100 \n",
      " loss: 0.5165521731926055 Accuracy: 0.8005812462603641 val_accuracy: 0.8085897435897436\n",
      "Epoch 79 / 100 \n",
      " loss: 0.5150374917294055 Accuracy: 0.8011795879989743 val_accuracy: 0.8096153846153846\n"
     ]
    },
    {
     "name": "stdout",
     "output_type": "stream",
     "text": [
      "Epoch 80 / 100 \n",
      " loss: 0.5135669099453584 Accuracy: 0.8020343619112744 val_accuracy: 0.8106410256410257\n",
      "Epoch 81 / 100 \n",
      " loss: 0.5121388558997961 Accuracy: 0.8023762714761945 val_accuracy: 0.8108974358974359\n",
      "Epoch 82 / 100 \n",
      " loss: 0.5107518271399664 Accuracy: 0.8030173519104197 val_accuracy: 0.8115384615384615\n",
      "Epoch 83 / 100 \n",
      " loss: 0.5094043870429987 Accuracy: 0.8034020001709548 val_accuracy: 0.8116666666666666\n",
      "Epoch 84 / 100 \n",
      " loss: 0.5080951613744074 Accuracy: 0.80429951277887 val_accuracy: 0.8125641025641026\n",
      "Epoch 85 / 100 \n",
      " loss: 0.5068228350495415 Accuracy: 0.8048551158218651 val_accuracy: 0.8128205128205128\n",
      "Epoch 86 / 100 \n",
      " loss: 0.5055861490853872 Accuracy: 0.8052397640824002 val_accuracy: 0.8132051282051282\n",
      "Epoch 87 / 100 \n",
      " loss: 0.5043838977306488 Accuracy: 0.8057526284297803 val_accuracy: 0.8134615384615385\n",
      "Epoch 88 / 100 \n",
      " loss: 0.5032149257630645 Accuracy: 0.8066074023420805 val_accuracy: 0.8146153846153846\n",
      "Epoch 89 / 100 \n",
      " loss: 0.5020781259433338 Accuracy: 0.8074621762543808 val_accuracy: 0.8151282051282052\n",
      "Epoch 90 / 100 \n",
      " loss: 0.5009724366159343 Accuracy: 0.8083596888622959 val_accuracy: 0.8158974358974359\n",
      "Epoch 91 / 100 \n",
      " loss: 0.4998968394475245 Accuracy: 0.8089152919052911 val_accuracy: 0.816025641025641\n",
      "Epoch 92 / 100 \n",
      " loss: 0.4988503572944144 Accuracy: 0.8096845884263613 val_accuracy: 0.8165384615384615\n",
      "Epoch 93 / 100 \n",
      " loss: 0.4978320521910196 Accuracy: 0.8101974527737413 val_accuracy: 0.8167948717948718\n",
      "Epoch 94 / 100 \n",
      " loss: 0.4968410234516935 Accuracy: 0.8107103171211215 val_accuracy: 0.8165384615384615\n",
      "Epoch 95 / 100 \n",
      " loss: 0.4958764058789994 Accuracy: 0.8111377040772716 val_accuracy: 0.8170512820512821\n",
      "Epoch 96 / 100 \n",
      " loss: 0.49493736807175953 Accuracy: 0.8119497392939568 val_accuracy: 0.8171794871794872\n",
      "Epoch 97 / 100 \n",
      " loss: 0.4940231108267746 Accuracy: 0.8127190358150269 val_accuracy: 0.8179487179487179\n",
      "Epoch 98 / 100 \n",
      " loss: 0.49313286562836345 Accuracy: 0.8132746388580221 val_accuracy: 0.8184615384615385\n",
      "Epoch 99 / 100 \n",
      " loss: 0.4922658932205516 Accuracy: 0.8138729805966322 val_accuracy: 0.8184615384615385\n",
      "Epoch 100 / 100 \n",
      " loss: 0.49142148225657756 Accuracy: 0.8140439353790923 val_accuracy: 0.8188461538461539\n"
     ]
    }
   ],
   "source": [
    "lr = LogisticRegression()\n",
    "grads = lr.train(X_train,y_train,100,10**-1)"
   ]
  },
  {
   "cell_type": "markdown",
   "id": "1b147759",
   "metadata": {},
   "source": [
    "### Training History Plots"
   ]
  },
  {
   "cell_type": "code",
   "execution_count": 315,
   "id": "518cbe2d",
   "metadata": {},
   "outputs": [
    {
     "data": {
      "image/png": "[encoded data removed]",
      "text/plain": [
       "<Figure size 432x288 with 1 Axes>"
      ]
     },
     "metadata": {
      "needs_background": "light"
     },
     "output_type": "display_data"
    }
   ],
   "source": [
    "plt.plot(lr.history['accuracy'])\n",
    "plt.plot(lr.history['val_accuracy'])\n",
    "plt.title('model accuracy')\n",
    "plt.ylabel('accuracy')\n",
    "plt.xlabel('epoch')\n",
    "plt.legend(['train', 'val'], loc='upper left')\n",
    "plt.show()"
   ]
  },
  {
   "cell_type": "code",
   "execution_count": 324,
   "id": "187f35ab",
   "metadata": {},
   "outputs": [],
   "source": [
    "#### Plotting change in loss with change in bias"
   ]
  },
  {
   "cell_type": "code",
   "execution_count": 325,
   "id": "d0bef903",
   "metadata": {},
   "outputs": [],
   "source": [
    "loss = lr.history['loss']\n",
    "weights = np.hstack(lr.history['weights'])"
   ]
  },
  {
   "cell_type": "code",
   "execution_count": 326,
   "id": "7b602a8f",
   "metadata": {},
   "outputs": [
    {
     "data": {
      "image/png": "[encoded data removed]",
      "text/plain": [
       "<Figure size 432x288 with 1 Axes>"
      ]
     },
     "metadata": {
      "needs_background": "light"
     },
     "output_type": "display_data"
    }
   ],
   "source": [
    "sns.lineplot(x=weights[0],y=loss)\n",
    "plt.show()"
   ]
  },
  {
   "cell_type": "markdown",
   "id": "9e391b25",
   "metadata": {},
   "source": [
    "# -------------------------------------- END -----------------------------------"
   ]
  },
  {
   "cell_type": "code",
   "execution_count": 142,
   "id": "cee7acf3",
   "metadata": {
    "scrolled": true
   },
   "outputs": [
    {
     "data": {
      "text/html": [
       "<div>\n",
       "<style scoped>\n",
       "    .dataframe tbody tr th:only-of-type {\n",
       "        vertical-align: middle;\n",
       "    }\n",
       "\n",
       "    .dataframe tbody tr th {\n",
       "        vertical-align: top;\n",
       "    }\n",
       "\n",
       "    .dataframe thead th {\n",
       "        text-align: right;\n",
       "    }\n",
       "</style>\n",
       "<table border=\"1\" class=\"dataframe\">\n",
       "  <thead>\n",
       "    <tr style=\"text-align: right;\">\n",
       "      <th></th>\n",
       "      <th>age</th>\n",
       "      <th>outcome</th>\n",
       "    </tr>\n",
       "  </thead>\n",
       "  <tbody>\n",
       "    <tr>\n",
       "      <th>0</th>\n",
       "      <td>25</td>\n",
       "      <td>1</td>\n",
       "    </tr>\n",
       "    <tr>\n",
       "      <th>1</th>\n",
       "      <td>22</td>\n",
       "      <td>1</td>\n",
       "    </tr>\n",
       "    <tr>\n",
       "      <th>2</th>\n",
       "      <td>23</td>\n",
       "      <td>1</td>\n",
       "    </tr>\n",
       "    <tr>\n",
       "      <th>3</th>\n",
       "      <td>22</td>\n",
       "      <td>1</td>\n",
       "    </tr>\n",
       "    <tr>\n",
       "      <th>4</th>\n",
       "      <td>45</td>\n",
       "      <td>0</td>\n",
       "    </tr>\n",
       "    <tr>\n",
       "      <th>5</th>\n",
       "      <td>39</td>\n",
       "      <td>0</td>\n",
       "    </tr>\n",
       "    <tr>\n",
       "      <th>6</th>\n",
       "      <td>40</td>\n",
       "      <td>0</td>\n",
       "    </tr>\n",
       "    <tr>\n",
       "      <th>7</th>\n",
       "      <td>42</td>\n",
       "      <td>0</td>\n",
       "    </tr>\n",
       "  </tbody>\n",
       "</table>\n",
       "</div>"
      ],
      "text/plain": [
       "   age  outcome\n",
       "0   25        1\n",
       "1   22        1\n",
       "2   23        1\n",
       "3   22        1\n",
       "4   45        0\n",
       "5   39        0\n",
       "6   40        0\n",
       "7   42        0"
      ]
     },
     "execution_count": 142,
     "metadata": {},
     "output_type": "execute_result"
    }
   ],
   "source": [
    "import pandas as pd\n",
    "import numpy as np\n",
    "import matplotlib.pyplot as plt\n",
    "import seaborn as sns\n",
    "data = [(25,1),(22,1),(23,1),(22,1),(45,0),(39,0),(40,0),(42,0)]\n",
    "data = pd.DataFrame(data,columns=['age','outcome'])\n",
    "data"
   ]
  },
  {
   "cell_type": "code",
   "execution_count": 143,
   "id": "f44c2959",
   "metadata": {},
   "outputs": [],
   "source": [
    "def logLoss(y_hat,y):\n",
    "    return -(y*np.log(y_hat) + (1-y)*np.log(1-y_hat))\n",
    "def findLoss(w):\n",
    "    loss = 0\n",
    "    b = 16\n",
    "    for index,row in data.iterrows():\n",
    "        x,y = row['age'],row['outcome']\n",
    "        z = w*x + b        \n",
    "        y_hat = 1/(1+np.exp(-z))\n",
    "        if y_hat == 1.0:\n",
    "            y_hat = 1-10**-8        \n",
    "        loss += logLoss(y_hat,y)\n",
    "        #print(f\"{y}, {y_hat}, {error}\")\n",
    "    return loss\n",
    "    "
   ]
  },
  {
   "cell_type": "code",
   "execution_count": 152,
   "id": "a15c9c9f",
   "metadata": {},
   "outputs": [],
   "source": [
    "weights = list(np.arange(-1.5,0,0.15)) + list(np.arange(0,0.6,0.15))\n",
    "losses = list(map(findLoss,weights))\n"
   ]
  },
  {
   "cell_type": "code",
   "execution_count": 153,
   "id": "3b0d595e",
   "metadata": {},
   "outputs": [
    {
     "data": {
      "text/plain": [
       "<AxesSubplot: >"
      ]
     },
     "execution_count": 153,
     "metadata": {},
     "output_type": "execute_result"
    },
    {
     "data": {
      "image/png": "[encoded data removed]",
      "text/plain": [
       "<Figure size 432x288 with 1 Axes>"
      ]
     },
     "metadata": {
      "needs_background": "light"
     },
     "output_type": "display_data"
    }
   ],
   "source": [
    "sns.lineplot(x=weights,y=losses, color='red')"
   ]
  },
  {
   "cell_type": "code",
   "execution_count": 139,
   "id": "eebf1597",
   "metadata": {},
   "outputs": [
    {
     "data": {
      "text/html": [
       "<div>\n",
       "<style scoped>\n",
       "    .dataframe tbody tr th:only-of-type {\n",
       "        vertical-align: middle;\n",
       "    }\n",
       "\n",
       "    .dataframe tbody tr th {\n",
       "        vertical-align: top;\n",
       "    }\n",
       "\n",
       "    .dataframe thead th {\n",
       "        text-align: right;\n",
       "    }\n",
       "</style>\n",
       "<table border=\"1\" class=\"dataframe\">\n",
       "  <thead>\n",
       "    <tr style=\"text-align: right;\">\n",
       "      <th></th>\n",
       "      <th>weights</th>\n",
       "      <th>losses</th>\n",
       "    </tr>\n",
       "  </thead>\n",
       "  <tbody>\n",
       "    <tr>\n",
       "      <th>0</th>\n",
       "      <td>-1.5</td>\n",
       "      <td>65.000001</td>\n",
       "    </tr>\n",
       "    <tr>\n",
       "      <th>1</th>\n",
       "      <td>-1.4</td>\n",
       "      <td>56.400008</td>\n",
       "    </tr>\n",
       "    <tr>\n",
       "      <th>2</th>\n",
       "      <td>-1.3</td>\n",
       "      <td>47.800062</td>\n",
       "    </tr>\n",
       "    <tr>\n",
       "      <th>3</th>\n",
       "      <td>-1.2</td>\n",
       "      <td>39.200476</td>\n",
       "    </tr>\n",
       "    <tr>\n",
       "      <th>4</th>\n",
       "      <td>-1.1</td>\n",
       "      <td>30.603666</td>\n",
       "    </tr>\n",
       "    <tr>\n",
       "      <th>5</th>\n",
       "      <td>-1.0</td>\n",
       "      <td>22.028252</td>\n",
       "    </tr>\n",
       "    <tr>\n",
       "      <th>6</th>\n",
       "      <td>-0.9</td>\n",
       "      <td>13.611669</td>\n",
       "    </tr>\n",
       "    <tr>\n",
       "      <th>7</th>\n",
       "      <td>-0.8</td>\n",
       "      <td>6.134985</td>\n",
       "    </tr>\n",
       "    <tr>\n",
       "      <th>8</th>\n",
       "      <td>-0.7</td>\n",
       "      <td>1.549833</td>\n",
       "    </tr>\n",
       "    <tr>\n",
       "      <th>9</th>\n",
       "      <td>-0.6</td>\n",
       "      <td>0.215771</td>\n",
       "    </tr>\n",
       "    <tr>\n",
       "      <th>10</th>\n",
       "      <td>-0.5</td>\n",
       "      <td>0.064309</td>\n",
       "    </tr>\n",
       "    <tr>\n",
       "      <th>11</th>\n",
       "      <td>-0.4</td>\n",
       "      <td>1.843241</td>\n",
       "    </tr>\n",
       "    <tr>\n",
       "      <th>12</th>\n",
       "      <td>-0.3</td>\n",
       "      <td>14.319766</td>\n",
       "    </tr>\n",
       "    <tr>\n",
       "      <th>13</th>\n",
       "      <td>-0.2</td>\n",
       "      <td>30.801890</td>\n",
       "    </tr>\n",
       "    <tr>\n",
       "      <th>14</th>\n",
       "      <td>-0.1</td>\n",
       "      <td>47.400033</td>\n",
       "    </tr>\n",
       "    <tr>\n",
       "      <th>15</th>\n",
       "      <td>0.0</td>\n",
       "      <td>64.000001</td>\n",
       "    </tr>\n",
       "    <tr>\n",
       "      <th>16</th>\n",
       "      <td>0.1</td>\n",
       "      <td>80.600000</td>\n",
       "    </tr>\n",
       "    <tr>\n",
       "      <th>17</th>\n",
       "      <td>0.2</td>\n",
       "      <td>97.200001</td>\n",
       "    </tr>\n",
       "    <tr>\n",
       "      <th>18</th>\n",
       "      <td>0.3</td>\n",
       "      <td>113.799966</td>\n",
       "    </tr>\n",
       "    <tr>\n",
       "      <th>19</th>\n",
       "      <td>0.4</td>\n",
       "      <td>130.402666</td>\n",
       "    </tr>\n",
       "    <tr>\n",
       "      <th>20</th>\n",
       "      <td>0.5</td>\n",
       "      <td>108.928668</td>\n",
       "    </tr>\n",
       "    <tr>\n",
       "      <th>21</th>\n",
       "      <td>0.6</td>\n",
       "      <td>73.682723</td>\n",
       "    </tr>\n",
       "    <tr>\n",
       "      <th>22</th>\n",
       "      <td>0.7</td>\n",
       "      <td>73.682723</td>\n",
       "    </tr>\n",
       "    <tr>\n",
       "      <th>23</th>\n",
       "      <td>0.8</td>\n",
       "      <td>73.682723</td>\n",
       "    </tr>\n",
       "    <tr>\n",
       "      <th>24</th>\n",
       "      <td>0.9</td>\n",
       "      <td>73.682723</td>\n",
       "    </tr>\n",
       "  </tbody>\n",
       "</table>\n",
       "</div>"
      ],
      "text/plain": [
       "    weights      losses\n",
       "0      -1.5   65.000001\n",
       "1      -1.4   56.400008\n",
       "2      -1.3   47.800062\n",
       "3      -1.2   39.200476\n",
       "4      -1.1   30.603666\n",
       "5      -1.0   22.028252\n",
       "6      -0.9   13.611669\n",
       "7      -0.8    6.134985\n",
       "8      -0.7    1.549833\n",
       "9      -0.6    0.215771\n",
       "10     -0.5    0.064309\n",
       "11     -0.4    1.843241\n",
       "12     -0.3   14.319766\n",
       "13     -0.2   30.801890\n",
       "14     -0.1   47.400033\n",
       "15      0.0   64.000001\n",
       "16      0.1   80.600000\n",
       "17      0.2   97.200001\n",
       "18      0.3  113.799966\n",
       "19      0.4  130.402666\n",
       "20      0.5  108.928668\n",
       "21      0.6   73.682723\n",
       "22      0.7   73.682723\n",
       "23      0.8   73.682723\n",
       "24      0.9   73.682723"
      ]
     },
     "execution_count": 139,
     "metadata": {},
     "output_type": "execute_result"
    }
   ],
   "source": [
    "w_l = pd.DataFrame(zip(weights,losses),columns=['weights','losses'])\n",
    "w_l"
   ]
  },
  {
   "cell_type": "code",
   "execution_count": 120,
   "id": "0d92e811",
   "metadata": {},
   "outputs": [
    {
     "data": {
      "text/plain": [
       "LogisticRegression()"
      ]
     },
     "execution_count": 120,
     "metadata": {},
     "output_type": "execute_result"
    }
   ],
   "source": [
    "from sklearn.linear_model import LogisticRegression\n",
    "lr = LogisticRegression()\n",
    "lr.fit(data['age'].to_numpy().reshape(-1,1),data['outcome'].to_numpy())\n"
   ]
  },
  {
   "cell_type": "code",
   "execution_count": 121,
   "id": "973e6967",
   "metadata": {},
   "outputs": [
    {
     "data": {
      "text/plain": [
       "array([[-0.51390454]])"
      ]
     },
     "execution_count": 121,
     "metadata": {},
     "output_type": "execute_result"
    }
   ],
   "source": [
    "lr.coef_"
   ]
  },
  {
   "cell_type": "code",
   "execution_count": 125,
   "id": "42651ef4",
   "metadata": {},
   "outputs": [
    {
     "data": {
      "text/plain": [
       "array([16.18862615])"
      ]
     },
     "execution_count": 125,
     "metadata": {},
     "output_type": "execute_result"
    }
   ],
   "source": [
    "lr.intercept_"
   ]
  },
  {
   "cell_type": "code",
   "execution_count": null,
   "id": "1176b636",
   "metadata": {},
   "outputs": [],
   "source": []
  }
 ],
 "metadata": {
  "kernelspec": {
   "display_name": "Python 3",
   "language": "python",
   "name": "python3"
  },
  "language_info": {
   "codemirror_mode": {
    "name": "ipython",
    "version": 3
   },
   "file_extension": ".py",
   "mimetype": "text/x-python",
   "name": "python",
   "nbconvert_exporter": "python",
   "pygments_lexer": "ipython3",
   "version": "3.8.8"
  }
 },
 "nbformat": 4,
 "nbformat_minor": 5
}

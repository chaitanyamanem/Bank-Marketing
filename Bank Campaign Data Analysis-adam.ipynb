{
 "cells": [
  {
   "cell_type": "code",
   "execution_count": 1,
   "id": "920beac0",
   "metadata": {},
   "outputs": [],
   "source": [
    "import pandas as pd\n",
    "import matplotlib.pyplot as plt\n",
    "import seaborn as sns\n",
    "import math\n",
    "import scipy.stats as stats\n",
    "import numpy as np\n",
    "from sklearn.metrics import accuracy_score"
   ]
  },
  {
   "cell_type": "code",
   "execution_count": 2,
   "id": "d8742d7b",
   "metadata": {},
   "outputs": [],
   "source": [
    "pd.set_option('display.max_columns', None)\n",
    "import warnings\n",
    "warnings.filterwarnings('ignore')"
   ]
  },
  {
   "cell_type": "markdown",
   "id": "6c15c1e5",
   "metadata": {},
   "source": [
    "# Data"
   ]
  },
  {
   "cell_type": "code",
   "execution_count": 3,
   "id": "536cfe96",
   "metadata": {},
   "outputs": [
    {
     "data": {
      "text/html": [
       "<div>\n",
       "<style scoped>\n",
       "    .dataframe tbody tr th:only-of-type {\n",
       "        vertical-align: middle;\n",
       "    }\n",
       "\n",
       "    .dataframe tbody tr th {\n",
       "        vertical-align: top;\n",
       "    }\n",
       "\n",
       "    .dataframe thead th {\n",
       "        text-align: right;\n",
       "    }\n",
       "</style>\n",
       "<table border=\"1\" class=\"dataframe\">\n",
       "  <thead>\n",
       "    <tr style=\"text-align: right;\">\n",
       "      <th></th>\n",
       "      <th>age</th>\n",
       "      <th>job</th>\n",
       "      <th>marital</th>\n",
       "      <th>education</th>\n",
       "      <th>default</th>\n",
       "      <th>housing</th>\n",
       "      <th>loan</th>\n",
       "      <th>contact</th>\n",
       "      <th>month</th>\n",
       "      <th>day_of_week</th>\n",
       "      <th>duration</th>\n",
       "      <th>campaign</th>\n",
       "      <th>pdays</th>\n",
       "      <th>previous</th>\n",
       "      <th>poutcome</th>\n",
       "      <th>emp.var.rate</th>\n",
       "      <th>cons.price.idx</th>\n",
       "      <th>cons.conf.idx</th>\n",
       "      <th>euribor3m</th>\n",
       "      <th>nr.employed</th>\n",
       "      <th>y</th>\n",
       "    </tr>\n",
       "  </thead>\n",
       "  <tbody>\n",
       "    <tr>\n",
       "      <th>0</th>\n",
       "      <td>56</td>\n",
       "      <td>housemaid</td>\n",
       "      <td>married</td>\n",
       "      <td>basic.4y</td>\n",
       "      <td>no</td>\n",
       "      <td>no</td>\n",
       "      <td>no</td>\n",
       "      <td>telephone</td>\n",
       "      <td>may</td>\n",
       "      <td>mon</td>\n",
       "      <td>261</td>\n",
       "      <td>1</td>\n",
       "      <td>999</td>\n",
       "      <td>0</td>\n",
       "      <td>nonexistent</td>\n",
       "      <td>1.1</td>\n",
       "      <td>93.994</td>\n",
       "      <td>-36.4</td>\n",
       "      <td>4.857</td>\n",
       "      <td>5191.0</td>\n",
       "      <td>no</td>\n",
       "    </tr>\n",
       "    <tr>\n",
       "      <th>1</th>\n",
       "      <td>57</td>\n",
       "      <td>services</td>\n",
       "      <td>married</td>\n",
       "      <td>high.school</td>\n",
       "      <td>unknown</td>\n",
       "      <td>no</td>\n",
       "      <td>no</td>\n",
       "      <td>telephone</td>\n",
       "      <td>may</td>\n",
       "      <td>mon</td>\n",
       "      <td>149</td>\n",
       "      <td>1</td>\n",
       "      <td>999</td>\n",
       "      <td>0</td>\n",
       "      <td>nonexistent</td>\n",
       "      <td>1.1</td>\n",
       "      <td>93.994</td>\n",
       "      <td>-36.4</td>\n",
       "      <td>4.857</td>\n",
       "      <td>5191.0</td>\n",
       "      <td>no</td>\n",
       "    </tr>\n",
       "    <tr>\n",
       "      <th>2</th>\n",
       "      <td>37</td>\n",
       "      <td>services</td>\n",
       "      <td>married</td>\n",
       "      <td>high.school</td>\n",
       "      <td>no</td>\n",
       "      <td>yes</td>\n",
       "      <td>no</td>\n",
       "      <td>telephone</td>\n",
       "      <td>may</td>\n",
       "      <td>mon</td>\n",
       "      <td>226</td>\n",
       "      <td>1</td>\n",
       "      <td>999</td>\n",
       "      <td>0</td>\n",
       "      <td>nonexistent</td>\n",
       "      <td>1.1</td>\n",
       "      <td>93.994</td>\n",
       "      <td>-36.4</td>\n",
       "      <td>4.857</td>\n",
       "      <td>5191.0</td>\n",
       "      <td>no</td>\n",
       "    </tr>\n",
       "    <tr>\n",
       "      <th>3</th>\n",
       "      <td>40</td>\n",
       "      <td>admin.</td>\n",
       "      <td>married</td>\n",
       "      <td>basic.6y</td>\n",
       "      <td>no</td>\n",
       "      <td>no</td>\n",
       "      <td>no</td>\n",
       "      <td>telephone</td>\n",
       "      <td>may</td>\n",
       "      <td>mon</td>\n",
       "      <td>151</td>\n",
       "      <td>1</td>\n",
       "      <td>999</td>\n",
       "      <td>0</td>\n",
       "      <td>nonexistent</td>\n",
       "      <td>1.1</td>\n",
       "      <td>93.994</td>\n",
       "      <td>-36.4</td>\n",
       "      <td>4.857</td>\n",
       "      <td>5191.0</td>\n",
       "      <td>no</td>\n",
       "    </tr>\n",
       "    <tr>\n",
       "      <th>4</th>\n",
       "      <td>56</td>\n",
       "      <td>services</td>\n",
       "      <td>married</td>\n",
       "      <td>high.school</td>\n",
       "      <td>no</td>\n",
       "      <td>no</td>\n",
       "      <td>yes</td>\n",
       "      <td>telephone</td>\n",
       "      <td>may</td>\n",
       "      <td>mon</td>\n",
       "      <td>307</td>\n",
       "      <td>1</td>\n",
       "      <td>999</td>\n",
       "      <td>0</td>\n",
       "      <td>nonexistent</td>\n",
       "      <td>1.1</td>\n",
       "      <td>93.994</td>\n",
       "      <td>-36.4</td>\n",
       "      <td>4.857</td>\n",
       "      <td>5191.0</td>\n",
       "      <td>no</td>\n",
       "    </tr>\n",
       "  </tbody>\n",
       "</table>\n",
       "</div>"
      ],
      "text/plain": [
       "   age        job  marital    education  default housing loan    contact  \\\n",
       "0   56  housemaid  married     basic.4y       no      no   no  telephone   \n",
       "1   57   services  married  high.school  unknown      no   no  telephone   \n",
       "2   37   services  married  high.school       no     yes   no  telephone   \n",
       "3   40     admin.  married     basic.6y       no      no   no  telephone   \n",
       "4   56   services  married  high.school       no      no  yes  telephone   \n",
       "\n",
       "  month day_of_week  duration  campaign  pdays  previous     poutcome  \\\n",
       "0   may         mon       261         1    999         0  nonexistent   \n",
       "1   may         mon       149         1    999         0  nonexistent   \n",
       "2   may         mon       226         1    999         0  nonexistent   \n",
       "3   may         mon       151         1    999         0  nonexistent   \n",
       "4   may         mon       307         1    999         0  nonexistent   \n",
       "\n",
       "   emp.var.rate  cons.price.idx  cons.conf.idx  euribor3m  nr.employed   y  \n",
       "0           1.1          93.994          -36.4      4.857       5191.0  no  \n",
       "1           1.1          93.994          -36.4      4.857       5191.0  no  \n",
       "2           1.1          93.994          -36.4      4.857       5191.0  no  \n",
       "3           1.1          93.994          -36.4      4.857       5191.0  no  \n",
       "4           1.1          93.994          -36.4      4.857       5191.0  no  "
      ]
     },
     "execution_count": 3,
     "metadata": {},
     "output_type": "execute_result"
    }
   ],
   "source": [
    "df = pd.read_csv(r\"data/bank-additional-full.csv\")\n",
    "df.head()"
   ]
  },
  {
   "cell_type": "markdown",
   "id": "92ba0566",
   "metadata": {},
   "source": [
    "### Attributes information\n",
    "\n",
    "Attribute Information:\n",
    "\n",
    "Input variables:\n",
    "**bank client data:**\n",
    "1. age (numeric)\n",
    "2. job : type of job (categorical: 'admin.','blue-collar','entrepreneur','housemaid','management','retired','self-employed','services','student','technician','unemployed','unknown')\n",
    "3. marital : marital status (categorical: 'divorced','married','single','unknown'; note: 'divorced' means divorced or widowed)\n",
    "4. education (categorical: 'basic.4y','basic.6y','basic.9y','high.school','illiterate','professional.course','university.degree','unknown')\n",
    "5. default: has credit in default? (categorical: 'no','yes','unknown')\n",
    "6. housing: has housing loan? (categorical: 'no','yes','unknown')\n",
    "7. loan: has personal loan? (categorical: 'no','yes','unknown')\n",
    "\n",
    "**related with the last contact of the current campaign:**\n",
    "\n",
    "8. contact: contact communication type (categorical: 'cellular','telephone')\n",
    "9. month: last contact month of year (categorical: 'jan', 'feb', 'mar', ..., 'nov', 'dec')\n",
    "10. day_of_week: last contact day of the week (categorical: 'mon','tue','wed','thu','fri')\n",
    "11. duration: last contact duration, in seconds (numeric). Important note: this attribute highly affects the output target (e.g., if duration=0 then y='no'). Yet, the duration is not known before a call is performed. Also, after the end of the call y is obviously known. Thus, this input should only be included for benchmark purposes and should be discarded if the intention is to have a realistic predictive model.\n",
    "\n",
    "**other attributes:**\n",
    "\n",
    "12. campaign: number of contacts performed during this campaign and for this client (numeric, includes last contact)\n",
    "13. pdays: number of days that passed by after the client was last contacted from a previous campaign (numeric; 999 means client was not previously contacted)\n",
    "14. previous: number of contacts performed before this campaign and for this client (numeric)\n",
    "15. poutcome: outcome of the previous marketing campaign (categorical: 'failure','nonexistent','success')\n",
    "\n",
    "**social and economic context attributes**\n",
    "\n",
    "16. emp.var.rate: employment variation rate - quarterly indicator (numeric)\n",
    "17. cons.price.idx: consumer price index - monthly indicator (numeric)\n",
    "18. cons.conf.idx: consumer confidence index - monthly indicator (numeric)\n",
    "19. euribor3m: euribor 3 month rate - daily indicator (numeric)\n",
    "20. nr.employed: number of employees - quarterly indicator (numeric)\n",
    "\n",
    "**Output variable (desired target):**\n",
    "\n",
    "21. y - has the client subscribed a term deposit? (binary: 'yes','no')\n",
    "\n"
   ]
  },
  {
   "cell_type": "markdown",
   "id": "3673f19e",
   "metadata": {},
   "source": [
    "# Analysis"
   ]
  },
  {
   "cell_type": "code",
   "execution_count": 16,
   "id": "74958faa",
   "metadata": {},
   "outputs": [],
   "source": [
    "#### Helper functions for analysis"
   ]
  },
  {
   "cell_type": "code",
   "execution_count": 17,
   "id": "88969ebf",
   "metadata": {},
   "outputs": [],
   "source": [
    "def chisquare(df,x,y='y'):\n",
    "    df = pd.concat([df.loc[df['y']=='yes',[x,'y']].groupby(x).agg({'y':'count'}).rename(columns={'y':'NoOfYes'}),\n",
    "           df.loc[df['y']=='no',[x,'y']].groupby(x).agg({'y':'count'}).rename(columns={'y':'NoOfNo'})],axis=1)       \n",
    "    df.fillna(0,inplace=True)\n",
    "    stat, p, dof, expected = stats.chi2_contingency(df)\n",
    "    df['%Yes'] = df['NoOfYes'] / (df['NoOfNo']+df['NoOfYes']) * 100\n",
    "    df.sort_values('%Yes',ascending=False,inplace=True)   \n",
    "    \n",
    "    \n",
    "    return stat, p, dof, expected, df"
   ]
  },
  {
   "cell_type": "markdown",
   "id": "3516f3d0",
   "metadata": {},
   "source": [
    "### Checking target variable ratio"
   ]
  },
  {
   "cell_type": "code",
   "execution_count": 18,
   "id": "67d2c21b",
   "metadata": {},
   "outputs": [
    {
     "data": {
      "text/plain": [
       "no     0.887346\n",
       "yes    0.112654\n",
       "Name: y, dtype: float64"
      ]
     },
     "execution_count": 18,
     "metadata": {},
     "output_type": "execute_result"
    }
   ],
   "source": [
    "df['y'].value_counts()/df['y'].shape[0]"
   ]
  },
  {
   "cell_type": "code",
   "execution_count": 19,
   "id": "126d5c2a",
   "metadata": {},
   "outputs": [
    {
     "data": {
      "image/png": "[encoded data removed]",
      "text/plain": [
       "<Figure size 432x288 with 1 Axes>"
      ]
     },
     "metadata": {
      "needs_background": "light"
     },
     "output_type": "display_data"
    }
   ],
   "source": [
    "df['y'].value_counts().plot(kind='bar', color='darkblue')\n",
    "plt.show()"
   ]
  },
  {
   "cell_type": "markdown",
   "id": "d7a0da57",
   "metadata": {},
   "source": [
    "### Understanding each variable"
   ]
  },
  {
   "cell_type": "markdown",
   "id": "7be2e4f4",
   "metadata": {},
   "source": [
    "#### Age"
   ]
  },
  {
   "cell_type": "code",
   "execution_count": 20,
   "id": "e092ad7e",
   "metadata": {},
   "outputs": [
    {
     "data": {
      "image/png": "[encoded data removed]",
      "text/plain": [
       "<Figure size 432x288 with 1 Axes>"
      ]
     },
     "metadata": {
      "needs_background": "light"
     },
     "output_type": "display_data"
    }
   ],
   "source": [
    "sns.histplot(data=df, x='age', hue='y', kde=True)\n",
    "plt.show()"
   ]
  },
  {
   "cell_type": "code",
   "execution_count": 21,
   "id": "29632d94",
   "metadata": {},
   "outputs": [
    {
     "data": {
      "image/png": "[encoded data removed]",
      "text/plain": [
       "<Figure size 432x288 with 1 Axes>"
      ]
     },
     "metadata": {
      "needs_background": "light"
     },
     "output_type": "display_data"
    }
   ],
   "source": [
    "sns.boxplot(x=df['age'])\n",
    "plt.show()"
   ]
  },
  {
   "cell_type": "markdown",
   "id": "1d32d830",
   "metadata": {},
   "source": [
    "> Lets remove Age above 70 for further analysis if age has any factor of influence on outcome"
   ]
  },
  {
   "cell_type": "code",
   "execution_count": 22,
   "id": "08ed8890",
   "metadata": {},
   "outputs": [],
   "source": [
    "### Remove outliers from age"
   ]
  },
  {
   "cell_type": "code",
   "execution_count": 23,
   "id": "926b30dc",
   "metadata": {},
   "outputs": [],
   "source": [
    "df_age = df.loc[df['age'] <= 70,['age','y']]"
   ]
  },
  {
   "cell_type": "code",
   "execution_count": 24,
   "id": "bcc19f5b",
   "metadata": {},
   "outputs": [],
   "source": [
    "### First method: comparing two means"
   ]
  },
  {
   "cell_type": "code",
   "execution_count": 25,
   "id": "5c3c5575",
   "metadata": {},
   "outputs": [
    {
     "data": {
      "text/plain": [
       "Ttest_indResult(statistic=6.172087109640128, pvalue=6.80213641846347e-10)"
      ]
     },
     "execution_count": 25,
     "metadata": {},
     "output_type": "execute_result"
    }
   ],
   "source": [
    "stats.ttest_ind(df.loc[df['y']=='yes','age'],\n",
    "                df.loc[df['y']=='no','age'])"
   ]
  },
  {
   "cell_type": "code",
   "execution_count": 26,
   "id": "0cb0e607",
   "metadata": {},
   "outputs": [],
   "source": [
    "### 2nd method: using one way ANOVA"
   ]
  },
  {
   "cell_type": "code",
   "execution_count": 27,
   "id": "5efbdbd4",
   "metadata": {},
   "outputs": [
    {
     "data": {
      "text/plain": [
       "F_onewayResult(statistic=38.09465928898563, pvalue=6.802136418528356e-10)"
      ]
     },
     "execution_count": 27,
     "metadata": {},
     "output_type": "execute_result"
    }
   ],
   "source": [
    "stats.f_oneway(df.loc[df['y']=='yes','age'],\n",
    "                df.loc[df['y']=='no','age'])"
   ]
  },
  {
   "cell_type": "markdown",
   "id": "55b18580",
   "metadata": {},
   "source": [
    "#### job"
   ]
  },
  {
   "cell_type": "code",
   "execution_count": 28,
   "id": "86ad51ef",
   "metadata": {},
   "outputs": [],
   "source": [
    "### tesnting its significance using chi-square test"
   ]
  },
  {
   "cell_type": "code",
   "execution_count": 29,
   "id": "96e97f0b",
   "metadata": {},
   "outputs": [
    {
     "name": "stdout",
     "output_type": "stream",
     "text": [
      "P value: 4.189763287563623e-199\n"
     ]
    }
   ],
   "source": [
    "stat, p, dof, expected, job_df2 = chisquare(df,'job','y')\n",
    "print(f\"P value: {p}\")"
   ]
  },
  {
   "cell_type": "code",
   "execution_count": 30,
   "id": "1d69b4de",
   "metadata": {},
   "outputs": [
    {
     "data": {
      "text/html": [
       "<div>\n",
       "<style scoped>\n",
       "    .dataframe tbody tr th:only-of-type {\n",
       "        vertical-align: middle;\n",
       "    }\n",
       "\n",
       "    .dataframe tbody tr th {\n",
       "        vertical-align: top;\n",
       "    }\n",
       "\n",
       "    .dataframe thead th {\n",
       "        text-align: right;\n",
       "    }\n",
       "</style>\n",
       "<table border=\"1\" class=\"dataframe\">\n",
       "  <thead>\n",
       "    <tr style=\"text-align: right;\">\n",
       "      <th></th>\n",
       "      <th>NoOfYes</th>\n",
       "      <th>NoOfNo</th>\n",
       "      <th>%Yes</th>\n",
       "    </tr>\n",
       "    <tr>\n",
       "      <th>job</th>\n",
       "      <th></th>\n",
       "      <th></th>\n",
       "      <th></th>\n",
       "    </tr>\n",
       "  </thead>\n",
       "  <tbody>\n",
       "    <tr>\n",
       "      <th>student</th>\n",
       "      <td>275</td>\n",
       "      <td>600</td>\n",
       "      <td>31.428571</td>\n",
       "    </tr>\n",
       "    <tr>\n",
       "      <th>retired</th>\n",
       "      <td>434</td>\n",
       "      <td>1286</td>\n",
       "      <td>25.232558</td>\n",
       "    </tr>\n",
       "    <tr>\n",
       "      <th>unemployed</th>\n",
       "      <td>144</td>\n",
       "      <td>870</td>\n",
       "      <td>14.201183</td>\n",
       "    </tr>\n",
       "    <tr>\n",
       "      <th>admin.</th>\n",
       "      <td>1352</td>\n",
       "      <td>9070</td>\n",
       "      <td>12.972558</td>\n",
       "    </tr>\n",
       "    <tr>\n",
       "      <th>management</th>\n",
       "      <td>328</td>\n",
       "      <td>2596</td>\n",
       "      <td>11.217510</td>\n",
       "    </tr>\n",
       "    <tr>\n",
       "      <th>unknown</th>\n",
       "      <td>37</td>\n",
       "      <td>293</td>\n",
       "      <td>11.212121</td>\n",
       "    </tr>\n",
       "    <tr>\n",
       "      <th>technician</th>\n",
       "      <td>730</td>\n",
       "      <td>6013</td>\n",
       "      <td>10.826042</td>\n",
       "    </tr>\n",
       "    <tr>\n",
       "      <th>self-employed</th>\n",
       "      <td>149</td>\n",
       "      <td>1272</td>\n",
       "      <td>10.485574</td>\n",
       "    </tr>\n",
       "    <tr>\n",
       "      <th>housemaid</th>\n",
       "      <td>106</td>\n",
       "      <td>954</td>\n",
       "      <td>10.000000</td>\n",
       "    </tr>\n",
       "    <tr>\n",
       "      <th>entrepreneur</th>\n",
       "      <td>124</td>\n",
       "      <td>1332</td>\n",
       "      <td>8.516484</td>\n",
       "    </tr>\n",
       "    <tr>\n",
       "      <th>services</th>\n",
       "      <td>323</td>\n",
       "      <td>3646</td>\n",
       "      <td>8.138070</td>\n",
       "    </tr>\n",
       "    <tr>\n",
       "      <th>blue-collar</th>\n",
       "      <td>638</td>\n",
       "      <td>8616</td>\n",
       "      <td>6.894316</td>\n",
       "    </tr>\n",
       "  </tbody>\n",
       "</table>\n",
       "</div>"
      ],
      "text/plain": [
       "               NoOfYes  NoOfNo       %Yes\n",
       "job                                      \n",
       "student            275     600  31.428571\n",
       "retired            434    1286  25.232558\n",
       "unemployed         144     870  14.201183\n",
       "admin.            1352    9070  12.972558\n",
       "management         328    2596  11.217510\n",
       "unknown             37     293  11.212121\n",
       "technician         730    6013  10.826042\n",
       "self-employed      149    1272  10.485574\n",
       "housemaid          106     954  10.000000\n",
       "entrepreneur       124    1332   8.516484\n",
       "services           323    3646   8.138070\n",
       "blue-collar        638    8616   6.894316"
      ]
     },
     "execution_count": 30,
     "metadata": {},
     "output_type": "execute_result"
    }
   ],
   "source": [
    "### Printing observed contingency table for reference \n",
    "job_df2"
   ]
  },
  {
   "cell_type": "markdown",
   "id": "1a9b44a2",
   "metadata": {},
   "source": [
    "#### marital"
   ]
  },
  {
   "cell_type": "code",
   "execution_count": 31,
   "id": "7a56e8f3",
   "metadata": {},
   "outputs": [],
   "source": [
    "### tesnting its significance using chi-square test"
   ]
  },
  {
   "cell_type": "code",
   "execution_count": 32,
   "id": "30dcfa54",
   "metadata": {},
   "outputs": [
    {
     "name": "stdout",
     "output_type": "stream",
     "text": [
      "P value: 2.068014648442211e-26\n"
     ]
    }
   ],
   "source": [
    "stat, p, dof, expected, marital_df = chisquare(df,'marital','y')\n",
    "print(f\"P value: {p}\")"
   ]
  },
  {
   "cell_type": "code",
   "execution_count": 33,
   "id": "ca97357f",
   "metadata": {},
   "outputs": [
    {
     "data": {
      "text/html": [
       "<div>\n",
       "<style scoped>\n",
       "    .dataframe tbody tr th:only-of-type {\n",
       "        vertical-align: middle;\n",
       "    }\n",
       "\n",
       "    .dataframe tbody tr th {\n",
       "        vertical-align: top;\n",
       "    }\n",
       "\n",
       "    .dataframe thead th {\n",
       "        text-align: right;\n",
       "    }\n",
       "</style>\n",
       "<table border=\"1\" class=\"dataframe\">\n",
       "  <thead>\n",
       "    <tr style=\"text-align: right;\">\n",
       "      <th></th>\n",
       "      <th>NoOfYes</th>\n",
       "      <th>NoOfNo</th>\n",
       "      <th>%Yes</th>\n",
       "    </tr>\n",
       "    <tr>\n",
       "      <th>marital</th>\n",
       "      <th></th>\n",
       "      <th></th>\n",
       "      <th></th>\n",
       "    </tr>\n",
       "  </thead>\n",
       "  <tbody>\n",
       "    <tr>\n",
       "      <th>unknown</th>\n",
       "      <td>12</td>\n",
       "      <td>68</td>\n",
       "      <td>15.000000</td>\n",
       "    </tr>\n",
       "    <tr>\n",
       "      <th>single</th>\n",
       "      <td>1620</td>\n",
       "      <td>9948</td>\n",
       "      <td>14.004149</td>\n",
       "    </tr>\n",
       "    <tr>\n",
       "      <th>divorced</th>\n",
       "      <td>476</td>\n",
       "      <td>4136</td>\n",
       "      <td>10.320902</td>\n",
       "    </tr>\n",
       "    <tr>\n",
       "      <th>married</th>\n",
       "      <td>2532</td>\n",
       "      <td>22396</td>\n",
       "      <td>10.157253</td>\n",
       "    </tr>\n",
       "  </tbody>\n",
       "</table>\n",
       "</div>"
      ],
      "text/plain": [
       "          NoOfYes  NoOfNo       %Yes\n",
       "marital                             \n",
       "unknown        12      68  15.000000\n",
       "single       1620    9948  14.004149\n",
       "divorced      476    4136  10.320902\n",
       "married      2532   22396  10.157253"
      ]
     },
     "execution_count": 33,
     "metadata": {},
     "output_type": "execute_result"
    }
   ],
   "source": [
    "### Printing observed contingency table for reference \n",
    "marital_df"
   ]
  },
  {
   "cell_type": "markdown",
   "id": "40b49878",
   "metadata": {},
   "source": [
    "#### education"
   ]
  },
  {
   "cell_type": "code",
   "execution_count": 34,
   "id": "729677da",
   "metadata": {},
   "outputs": [],
   "source": [
    "### tesnting its significance using chi-square test"
   ]
  },
  {
   "cell_type": "code",
   "execution_count": 35,
   "id": "0891692d",
   "metadata": {},
   "outputs": [
    {
     "name": "stdout",
     "output_type": "stream",
     "text": [
      "P value: 3.3051890144025054e-38\n"
     ]
    }
   ],
   "source": [
    "stat, p, dof, expected, education_df = chisquare(df,'education','y')\n",
    "print(f\"P value: {p}\")"
   ]
  },
  {
   "cell_type": "code",
   "execution_count": 36,
   "id": "9c127481",
   "metadata": {},
   "outputs": [
    {
     "data": {
      "text/html": [
       "<div>\n",
       "<style scoped>\n",
       "    .dataframe tbody tr th:only-of-type {\n",
       "        vertical-align: middle;\n",
       "    }\n",
       "\n",
       "    .dataframe tbody tr th {\n",
       "        vertical-align: top;\n",
       "    }\n",
       "\n",
       "    .dataframe thead th {\n",
       "        text-align: right;\n",
       "    }\n",
       "</style>\n",
       "<table border=\"1\" class=\"dataframe\">\n",
       "  <thead>\n",
       "    <tr style=\"text-align: right;\">\n",
       "      <th></th>\n",
       "      <th>NoOfYes</th>\n",
       "      <th>NoOfNo</th>\n",
       "      <th>%Yes</th>\n",
       "    </tr>\n",
       "    <tr>\n",
       "      <th>education</th>\n",
       "      <th></th>\n",
       "      <th></th>\n",
       "      <th></th>\n",
       "    </tr>\n",
       "  </thead>\n",
       "  <tbody>\n",
       "    <tr>\n",
       "      <th>illiterate</th>\n",
       "      <td>4</td>\n",
       "      <td>14</td>\n",
       "      <td>22.222222</td>\n",
       "    </tr>\n",
       "    <tr>\n",
       "      <th>unknown</th>\n",
       "      <td>251</td>\n",
       "      <td>1480</td>\n",
       "      <td>14.500289</td>\n",
       "    </tr>\n",
       "    <tr>\n",
       "      <th>university.degree</th>\n",
       "      <td>1670</td>\n",
       "      <td>10498</td>\n",
       "      <td>13.724523</td>\n",
       "    </tr>\n",
       "    <tr>\n",
       "      <th>professional.course</th>\n",
       "      <td>595</td>\n",
       "      <td>4648</td>\n",
       "      <td>11.348465</td>\n",
       "    </tr>\n",
       "    <tr>\n",
       "      <th>high.school</th>\n",
       "      <td>1031</td>\n",
       "      <td>8484</td>\n",
       "      <td>10.835523</td>\n",
       "    </tr>\n",
       "    <tr>\n",
       "      <th>basic.4y</th>\n",
       "      <td>428</td>\n",
       "      <td>3748</td>\n",
       "      <td>10.249042</td>\n",
       "    </tr>\n",
       "    <tr>\n",
       "      <th>basic.6y</th>\n",
       "      <td>188</td>\n",
       "      <td>2104</td>\n",
       "      <td>8.202443</td>\n",
       "    </tr>\n",
       "    <tr>\n",
       "      <th>basic.9y</th>\n",
       "      <td>473</td>\n",
       "      <td>5572</td>\n",
       "      <td>7.824648</td>\n",
       "    </tr>\n",
       "  </tbody>\n",
       "</table>\n",
       "</div>"
      ],
      "text/plain": [
       "                     NoOfYes  NoOfNo       %Yes\n",
       "education                                      \n",
       "illiterate                 4      14  22.222222\n",
       "unknown                  251    1480  14.500289\n",
       "university.degree       1670   10498  13.724523\n",
       "professional.course      595    4648  11.348465\n",
       "high.school             1031    8484  10.835523\n",
       "basic.4y                 428    3748  10.249042\n",
       "basic.6y                 188    2104   8.202443\n",
       "basic.9y                 473    5572   7.824648"
      ]
     },
     "execution_count": 36,
     "metadata": {},
     "output_type": "execute_result"
    }
   ],
   "source": [
    "### Printing observed contingency table for reference \n",
    "education_df"
   ]
  },
  {
   "cell_type": "markdown",
   "id": "7a798608",
   "metadata": {},
   "source": [
    "#### default"
   ]
  },
  {
   "cell_type": "code",
   "execution_count": 37,
   "id": "f0041628",
   "metadata": {},
   "outputs": [],
   "source": [
    "### tesnting its significance using chi-square test"
   ]
  },
  {
   "cell_type": "code",
   "execution_count": 38,
   "id": "3cbdb036",
   "metadata": {},
   "outputs": [
    {
     "name": "stdout",
     "output_type": "stream",
     "text": [
      "P value: 5.161957951391489e-89\n"
     ]
    }
   ],
   "source": [
    "stat, p, dof, expected, default_df = chisquare(df,'default','y')\n",
    "print(f\"P value: {p}\")"
   ]
  },
  {
   "cell_type": "code",
   "execution_count": 39,
   "id": "dc9f4f08",
   "metadata": {},
   "outputs": [
    {
     "data": {
      "text/html": [
       "<div>\n",
       "<style scoped>\n",
       "    .dataframe tbody tr th:only-of-type {\n",
       "        vertical-align: middle;\n",
       "    }\n",
       "\n",
       "    .dataframe tbody tr th {\n",
       "        vertical-align: top;\n",
       "    }\n",
       "\n",
       "    .dataframe thead th {\n",
       "        text-align: right;\n",
       "    }\n",
       "</style>\n",
       "<table border=\"1\" class=\"dataframe\">\n",
       "  <thead>\n",
       "    <tr style=\"text-align: right;\">\n",
       "      <th></th>\n",
       "      <th>NoOfYes</th>\n",
       "      <th>NoOfNo</th>\n",
       "      <th>%Yes</th>\n",
       "    </tr>\n",
       "    <tr>\n",
       "      <th>default</th>\n",
       "      <th></th>\n",
       "      <th></th>\n",
       "      <th></th>\n",
       "    </tr>\n",
       "  </thead>\n",
       "  <tbody>\n",
       "    <tr>\n",
       "      <th>no</th>\n",
       "      <td>4197.0</td>\n",
       "      <td>28391</td>\n",
       "      <td>12.878974</td>\n",
       "    </tr>\n",
       "    <tr>\n",
       "      <th>unknown</th>\n",
       "      <td>443.0</td>\n",
       "      <td>8154</td>\n",
       "      <td>5.152960</td>\n",
       "    </tr>\n",
       "    <tr>\n",
       "      <th>yes</th>\n",
       "      <td>0.0</td>\n",
       "      <td>3</td>\n",
       "      <td>0.000000</td>\n",
       "    </tr>\n",
       "  </tbody>\n",
       "</table>\n",
       "</div>"
      ],
      "text/plain": [
       "         NoOfYes  NoOfNo       %Yes\n",
       "default                            \n",
       "no        4197.0   28391  12.878974\n",
       "unknown    443.0    8154   5.152960\n",
       "yes          0.0       3   0.000000"
      ]
     },
     "execution_count": 39,
     "metadata": {},
     "output_type": "execute_result"
    }
   ],
   "source": [
    "### Printing observed contingency table for reference \n",
    "default_df"
   ]
  },
  {
   "cell_type": "markdown",
   "id": "4763a0be",
   "metadata": {},
   "source": [
    "#### housing"
   ]
  },
  {
   "cell_type": "code",
   "execution_count": 40,
   "id": "36dec7d8",
   "metadata": {},
   "outputs": [],
   "source": [
    "### tesnting its significance using chi-square test"
   ]
  },
  {
   "cell_type": "code",
   "execution_count": 41,
   "id": "4b5decac",
   "metadata": {},
   "outputs": [
    {
     "name": "stdout",
     "output_type": "stream",
     "text": [
      "P value: 0.05829447669453452\n"
     ]
    }
   ],
   "source": [
    "stat, p, dof, expected, housing_df = chisquare(df,'housing','y')\n",
    "print(f\"P value: {p}\")"
   ]
  },
  {
   "cell_type": "code",
   "execution_count": 42,
   "id": "19c84947",
   "metadata": {},
   "outputs": [
    {
     "data": {
      "text/html": [
       "<div>\n",
       "<style scoped>\n",
       "    .dataframe tbody tr th:only-of-type {\n",
       "        vertical-align: middle;\n",
       "    }\n",
       "\n",
       "    .dataframe tbody tr th {\n",
       "        vertical-align: top;\n",
       "    }\n",
       "\n",
       "    .dataframe thead th {\n",
       "        text-align: right;\n",
       "    }\n",
       "</style>\n",
       "<table border=\"1\" class=\"dataframe\">\n",
       "  <thead>\n",
       "    <tr style=\"text-align: right;\">\n",
       "      <th></th>\n",
       "      <th>NoOfYes</th>\n",
       "      <th>NoOfNo</th>\n",
       "      <th>%Yes</th>\n",
       "    </tr>\n",
       "    <tr>\n",
       "      <th>housing</th>\n",
       "      <th></th>\n",
       "      <th></th>\n",
       "      <th></th>\n",
       "    </tr>\n",
       "  </thead>\n",
       "  <tbody>\n",
       "    <tr>\n",
       "      <th>yes</th>\n",
       "      <td>2507</td>\n",
       "      <td>19069</td>\n",
       "      <td>11.619392</td>\n",
       "    </tr>\n",
       "    <tr>\n",
       "      <th>no</th>\n",
       "      <td>2026</td>\n",
       "      <td>16596</td>\n",
       "      <td>10.879605</td>\n",
       "    </tr>\n",
       "    <tr>\n",
       "      <th>unknown</th>\n",
       "      <td>107</td>\n",
       "      <td>883</td>\n",
       "      <td>10.808081</td>\n",
       "    </tr>\n",
       "  </tbody>\n",
       "</table>\n",
       "</div>"
      ],
      "text/plain": [
       "         NoOfYes  NoOfNo       %Yes\n",
       "housing                            \n",
       "yes         2507   19069  11.619392\n",
       "no          2026   16596  10.879605\n",
       "unknown      107     883  10.808081"
      ]
     },
     "execution_count": 42,
     "metadata": {},
     "output_type": "execute_result"
    }
   ],
   "source": [
    "### Printing observed contingency table for reference \n",
    "housing_df"
   ]
  },
  {
   "cell_type": "markdown",
   "id": "3ee96089",
   "metadata": {},
   "source": [
    "#### loan"
   ]
  },
  {
   "cell_type": "code",
   "execution_count": 43,
   "id": "31d4ec00",
   "metadata": {},
   "outputs": [],
   "source": [
    "### tesnting its significance using chi-square test"
   ]
  },
  {
   "cell_type": "code",
   "execution_count": 44,
   "id": "84cff0b6",
   "metadata": {},
   "outputs": [
    {
     "name": "stdout",
     "output_type": "stream",
     "text": [
      "P value: 0.5786752870441755\n"
     ]
    }
   ],
   "source": [
    "stat, p, dof, expected, loan_df = chisquare(df,'loan','y')\n",
    "print(f\"P value: {p}\")"
   ]
  },
  {
   "cell_type": "code",
   "execution_count": 45,
   "id": "a3bb0890",
   "metadata": {},
   "outputs": [
    {
     "data": {
      "text/html": [
       "<div>\n",
       "<style scoped>\n",
       "    .dataframe tbody tr th:only-of-type {\n",
       "        vertical-align: middle;\n",
       "    }\n",
       "\n",
       "    .dataframe tbody tr th {\n",
       "        vertical-align: top;\n",
       "    }\n",
       "\n",
       "    .dataframe thead th {\n",
       "        text-align: right;\n",
       "    }\n",
       "</style>\n",
       "<table border=\"1\" class=\"dataframe\">\n",
       "  <thead>\n",
       "    <tr style=\"text-align: right;\">\n",
       "      <th></th>\n",
       "      <th>NoOfYes</th>\n",
       "      <th>NoOfNo</th>\n",
       "      <th>%Yes</th>\n",
       "    </tr>\n",
       "    <tr>\n",
       "      <th>loan</th>\n",
       "      <th></th>\n",
       "      <th></th>\n",
       "      <th></th>\n",
       "    </tr>\n",
       "  </thead>\n",
       "  <tbody>\n",
       "    <tr>\n",
       "      <th>no</th>\n",
       "      <td>3850</td>\n",
       "      <td>30100</td>\n",
       "      <td>11.340206</td>\n",
       "    </tr>\n",
       "    <tr>\n",
       "      <th>yes</th>\n",
       "      <td>683</td>\n",
       "      <td>5565</td>\n",
       "      <td>10.931498</td>\n",
       "    </tr>\n",
       "    <tr>\n",
       "      <th>unknown</th>\n",
       "      <td>107</td>\n",
       "      <td>883</td>\n",
       "      <td>10.808081</td>\n",
       "    </tr>\n",
       "  </tbody>\n",
       "</table>\n",
       "</div>"
      ],
      "text/plain": [
       "         NoOfYes  NoOfNo       %Yes\n",
       "loan                               \n",
       "no          3850   30100  11.340206\n",
       "yes          683    5565  10.931498\n",
       "unknown      107     883  10.808081"
      ]
     },
     "execution_count": 45,
     "metadata": {},
     "output_type": "execute_result"
    }
   ],
   "source": [
    "### Printing observed contingency table for reference \n",
    "loan_df"
   ]
  },
  {
   "cell_type": "markdown",
   "id": "6fd06285",
   "metadata": {},
   "source": [
    "#### month"
   ]
  },
  {
   "cell_type": "code",
   "execution_count": 46,
   "id": "a448e0f8",
   "metadata": {},
   "outputs": [],
   "source": [
    "### tesnting its significance using chi-square test"
   ]
  },
  {
   "cell_type": "code",
   "execution_count": 47,
   "id": "65778243",
   "metadata": {},
   "outputs": [
    {
     "name": "stdout",
     "output_type": "stream",
     "text": [
      "P value: 0.0\n"
     ]
    }
   ],
   "source": [
    "stat, p, dof, expected, month_df = chisquare(df,'month','y')\n",
    "print(f\"P value: {p}\")"
   ]
  },
  {
   "cell_type": "code",
   "execution_count": 48,
   "id": "d5a8cb9a",
   "metadata": {},
   "outputs": [
    {
     "data": {
      "text/html": [
       "<div>\n",
       "<style scoped>\n",
       "    .dataframe tbody tr th:only-of-type {\n",
       "        vertical-align: middle;\n",
       "    }\n",
       "\n",
       "    .dataframe tbody tr th {\n",
       "        vertical-align: top;\n",
       "    }\n",
       "\n",
       "    .dataframe thead th {\n",
       "        text-align: right;\n",
       "    }\n",
       "</style>\n",
       "<table border=\"1\" class=\"dataframe\">\n",
       "  <thead>\n",
       "    <tr style=\"text-align: right;\">\n",
       "      <th></th>\n",
       "      <th>NoOfYes</th>\n",
       "      <th>NoOfNo</th>\n",
       "      <th>%Yes</th>\n",
       "    </tr>\n",
       "    <tr>\n",
       "      <th>month</th>\n",
       "      <th></th>\n",
       "      <th></th>\n",
       "      <th></th>\n",
       "    </tr>\n",
       "  </thead>\n",
       "  <tbody>\n",
       "    <tr>\n",
       "      <th>mar</th>\n",
       "      <td>276</td>\n",
       "      <td>270</td>\n",
       "      <td>50.549451</td>\n",
       "    </tr>\n",
       "    <tr>\n",
       "      <th>dec</th>\n",
       "      <td>89</td>\n",
       "      <td>93</td>\n",
       "      <td>48.901099</td>\n",
       "    </tr>\n",
       "    <tr>\n",
       "      <th>sep</th>\n",
       "      <td>256</td>\n",
       "      <td>314</td>\n",
       "      <td>44.912281</td>\n",
       "    </tr>\n",
       "    <tr>\n",
       "      <th>oct</th>\n",
       "      <td>315</td>\n",
       "      <td>403</td>\n",
       "      <td>43.871866</td>\n",
       "    </tr>\n",
       "    <tr>\n",
       "      <th>apr</th>\n",
       "      <td>539</td>\n",
       "      <td>2093</td>\n",
       "      <td>20.478723</td>\n",
       "    </tr>\n",
       "    <tr>\n",
       "      <th>aug</th>\n",
       "      <td>655</td>\n",
       "      <td>5523</td>\n",
       "      <td>10.602137</td>\n",
       "    </tr>\n",
       "    <tr>\n",
       "      <th>jun</th>\n",
       "      <td>559</td>\n",
       "      <td>4759</td>\n",
       "      <td>10.511470</td>\n",
       "    </tr>\n",
       "    <tr>\n",
       "      <th>nov</th>\n",
       "      <td>416</td>\n",
       "      <td>3685</td>\n",
       "      <td>10.143867</td>\n",
       "    </tr>\n",
       "    <tr>\n",
       "      <th>jul</th>\n",
       "      <td>649</td>\n",
       "      <td>6525</td>\n",
       "      <td>9.046557</td>\n",
       "    </tr>\n",
       "    <tr>\n",
       "      <th>may</th>\n",
       "      <td>886</td>\n",
       "      <td>12883</td>\n",
       "      <td>6.434745</td>\n",
       "    </tr>\n",
       "  </tbody>\n",
       "</table>\n",
       "</div>"
      ],
      "text/plain": [
       "       NoOfYes  NoOfNo       %Yes\n",
       "month                            \n",
       "mar        276     270  50.549451\n",
       "dec         89      93  48.901099\n",
       "sep        256     314  44.912281\n",
       "oct        315     403  43.871866\n",
       "apr        539    2093  20.478723\n",
       "aug        655    5523  10.602137\n",
       "jun        559    4759  10.511470\n",
       "nov        416    3685  10.143867\n",
       "jul        649    6525   9.046557\n",
       "may        886   12883   6.434745"
      ]
     },
     "execution_count": 48,
     "metadata": {},
     "output_type": "execute_result"
    }
   ],
   "source": [
    "month_df"
   ]
  },
  {
   "cell_type": "markdown",
   "id": "c76b6958",
   "metadata": {},
   "source": [
    "#### day_of_week"
   ]
  },
  {
   "cell_type": "code",
   "execution_count": 49,
   "id": "4340283c",
   "metadata": {},
   "outputs": [],
   "source": [
    "### tesnting its significance using chi-square test"
   ]
  },
  {
   "cell_type": "code",
   "execution_count": 50,
   "id": "6839808b",
   "metadata": {},
   "outputs": [
    {
     "name": "stdout",
     "output_type": "stream",
     "text": [
      "P value: 2.9584820052785324e-05\n"
     ]
    }
   ],
   "source": [
    "stat, p, dof, expected, day_of_week_df = chisquare(df,'day_of_week','y')\n",
    "print(f\"P value: {p}\")"
   ]
  },
  {
   "cell_type": "code",
   "execution_count": 51,
   "id": "94d65b10",
   "metadata": {},
   "outputs": [
    {
     "data": {
      "text/html": [
       "<div>\n",
       "<style scoped>\n",
       "    .dataframe tbody tr th:only-of-type {\n",
       "        vertical-align: middle;\n",
       "    }\n",
       "\n",
       "    .dataframe tbody tr th {\n",
       "        vertical-align: top;\n",
       "    }\n",
       "\n",
       "    .dataframe thead th {\n",
       "        text-align: right;\n",
       "    }\n",
       "</style>\n",
       "<table border=\"1\" class=\"dataframe\">\n",
       "  <thead>\n",
       "    <tr style=\"text-align: right;\">\n",
       "      <th></th>\n",
       "      <th>NoOfYes</th>\n",
       "      <th>NoOfNo</th>\n",
       "      <th>%Yes</th>\n",
       "    </tr>\n",
       "    <tr>\n",
       "      <th>day_of_week</th>\n",
       "      <th></th>\n",
       "      <th></th>\n",
       "      <th></th>\n",
       "    </tr>\n",
       "  </thead>\n",
       "  <tbody>\n",
       "    <tr>\n",
       "      <th>thu</th>\n",
       "      <td>1045</td>\n",
       "      <td>7578</td>\n",
       "      <td>12.118752</td>\n",
       "    </tr>\n",
       "    <tr>\n",
       "      <th>tue</th>\n",
       "      <td>953</td>\n",
       "      <td>7137</td>\n",
       "      <td>11.779975</td>\n",
       "    </tr>\n",
       "    <tr>\n",
       "      <th>wed</th>\n",
       "      <td>949</td>\n",
       "      <td>7185</td>\n",
       "      <td>11.667076</td>\n",
       "    </tr>\n",
       "    <tr>\n",
       "      <th>fri</th>\n",
       "      <td>846</td>\n",
       "      <td>6981</td>\n",
       "      <td>10.808739</td>\n",
       "    </tr>\n",
       "    <tr>\n",
       "      <th>mon</th>\n",
       "      <td>847</td>\n",
       "      <td>7667</td>\n",
       "      <td>9.948320</td>\n",
       "    </tr>\n",
       "  </tbody>\n",
       "</table>\n",
       "</div>"
      ],
      "text/plain": [
       "             NoOfYes  NoOfNo       %Yes\n",
       "day_of_week                            \n",
       "thu             1045    7578  12.118752\n",
       "tue              953    7137  11.779975\n",
       "wed              949    7185  11.667076\n",
       "fri              846    6981  10.808739\n",
       "mon              847    7667   9.948320"
      ]
     },
     "execution_count": 51,
     "metadata": {},
     "output_type": "execute_result"
    }
   ],
   "source": [
    "### Printing observed contingency table for reference \n",
    "day_of_week_df"
   ]
  },
  {
   "cell_type": "markdown",
   "id": "e9b8b5bf",
   "metadata": {},
   "source": [
    "#### emp.var.rate"
   ]
  },
  {
   "cell_type": "code",
   "execution_count": 52,
   "id": "e553dd96",
   "metadata": {},
   "outputs": [
    {
     "data": {
      "text/plain": [
       "<seaborn.axisgrid.FacetGrid at 0x1df7987fee0>"
      ]
     },
     "execution_count": 52,
     "metadata": {},
     "output_type": "execute_result"
    },
    {
     "data": {
      "image/png": "[encoded data removed]",
      "text/plain": [
       "<Figure size 360x360 with 1 Axes>"
      ]
     },
     "metadata": {
      "needs_background": "light"
     },
     "output_type": "display_data"
    }
   ],
   "source": [
    "sns.displot(x=df['emp.var.rate'])"
   ]
  },
  {
   "cell_type": "code",
   "execution_count": 53,
   "id": "d11eda61",
   "metadata": {},
   "outputs": [],
   "source": [
    "### tesnting its significance using chi-square test"
   ]
  },
  {
   "cell_type": "code",
   "execution_count": 54,
   "id": "baae7062",
   "metadata": {},
   "outputs": [
    {
     "name": "stdout",
     "output_type": "stream",
     "text": [
      "P value: 0.0\n"
     ]
    },
    {
     "data": {
      "text/html": [
       "<div>\n",
       "<style scoped>\n",
       "    .dataframe tbody tr th:only-of-type {\n",
       "        vertical-align: middle;\n",
       "    }\n",
       "\n",
       "    .dataframe tbody tr th {\n",
       "        vertical-align: top;\n",
       "    }\n",
       "\n",
       "    .dataframe thead th {\n",
       "        text-align: right;\n",
       "    }\n",
       "</style>\n",
       "<table border=\"1\" class=\"dataframe\">\n",
       "  <thead>\n",
       "    <tr style=\"text-align: right;\">\n",
       "      <th></th>\n",
       "      <th>NoOfYes</th>\n",
       "      <th>NoOfNo</th>\n",
       "      <th>%Yes</th>\n",
       "    </tr>\n",
       "    <tr>\n",
       "      <th>emp.var.rate</th>\n",
       "      <th></th>\n",
       "      <th></th>\n",
       "      <th></th>\n",
       "    </tr>\n",
       "  </thead>\n",
       "  <tbody>\n",
       "    <tr>\n",
       "      <th>-1.7</th>\n",
       "      <td>403</td>\n",
       "      <td>370</td>\n",
       "      <td>52.134541</td>\n",
       "    </tr>\n",
       "    <tr>\n",
       "      <th>-3.0</th>\n",
       "      <td>88</td>\n",
       "      <td>84</td>\n",
       "      <td>51.162791</td>\n",
       "    </tr>\n",
       "    <tr>\n",
       "      <th>-1.1</th>\n",
       "      <td>301</td>\n",
       "      <td>334</td>\n",
       "      <td>47.401575</td>\n",
       "    </tr>\n",
       "    <tr>\n",
       "      <th>-3.4</th>\n",
       "      <td>454</td>\n",
       "      <td>617</td>\n",
       "      <td>42.390289</td>\n",
       "    </tr>\n",
       "    <tr>\n",
       "      <th>-2.9</th>\n",
       "      <td>594</td>\n",
       "      <td>1069</td>\n",
       "      <td>35.718581</td>\n",
       "    </tr>\n",
       "    <tr>\n",
       "      <th>-1.8</th>\n",
       "      <td>1461</td>\n",
       "      <td>7723</td>\n",
       "      <td>15.908101</td>\n",
       "    </tr>\n",
       "    <tr>\n",
       "      <th>-0.2</th>\n",
       "      <td>1</td>\n",
       "      <td>9</td>\n",
       "      <td>10.000000</td>\n",
       "    </tr>\n",
       "    <tr>\n",
       "      <th>-0.1</th>\n",
       "      <td>232</td>\n",
       "      <td>3451</td>\n",
       "      <td>6.299213</td>\n",
       "    </tr>\n",
       "    <tr>\n",
       "      <th>1.4</th>\n",
       "      <td>866</td>\n",
       "      <td>15368</td>\n",
       "      <td>5.334483</td>\n",
       "    </tr>\n",
       "    <tr>\n",
       "      <th>1.1</th>\n",
       "      <td>240</td>\n",
       "      <td>7523</td>\n",
       "      <td>3.091588</td>\n",
       "    </tr>\n",
       "  </tbody>\n",
       "</table>\n",
       "</div>"
      ],
      "text/plain": [
       "              NoOfYes  NoOfNo       %Yes\n",
       "emp.var.rate                            \n",
       "-1.7              403     370  52.134541\n",
       "-3.0               88      84  51.162791\n",
       "-1.1              301     334  47.401575\n",
       "-3.4              454     617  42.390289\n",
       "-2.9              594    1069  35.718581\n",
       "-1.8             1461    7723  15.908101\n",
       "-0.2                1       9  10.000000\n",
       "-0.1              232    3451   6.299213\n",
       " 1.4              866   15368   5.334483\n",
       " 1.1              240    7523   3.091588"
      ]
     },
     "execution_count": 54,
     "metadata": {},
     "output_type": "execute_result"
    }
   ],
   "source": [
    "stat, p, dof, expected, emp_var_rate_df = chisquare(df,'emp.var.rate','y')\n",
    "print(f\"P value: {p}\")\n",
    "\n",
    "### Printing observed contingency table for reference \n",
    "emp_var_rate_df"
   ]
  },
  {
   "cell_type": "code",
   "execution_count": 55,
   "id": "ecfbe1d1",
   "metadata": {},
   "outputs": [
    {
     "data": {
      "image/png": "[encoded data removed]",
      "text/plain": [
       "<Figure size 432x288 with 1 Axes>"
      ]
     },
     "metadata": {
      "needs_background": "light"
     },
     "output_type": "display_data"
    }
   ],
   "source": [
    "emp_var_rate_df.reset_index(inplace=True)\n",
    "emp_var_rate_df.rename(columns = {'index':'emp.var.rate'})\n",
    "emp_var_rate_df\n",
    "\n",
    "sns.scatterplot(x='emp.var.rate', y='%Yes', data=emp_var_rate_df)\n",
    "plt.show()"
   ]
  },
  {
   "cell_type": "code",
   "execution_count": 56,
   "id": "85d786b4",
   "metadata": {},
   "outputs": [
    {
     "data": {
      "text/html": [
       "<div>\n",
       "<style scoped>\n",
       "    .dataframe tbody tr th:only-of-type {\n",
       "        vertical-align: middle;\n",
       "    }\n",
       "\n",
       "    .dataframe tbody tr th {\n",
       "        vertical-align: top;\n",
       "    }\n",
       "\n",
       "    .dataframe thead th {\n",
       "        text-align: right;\n",
       "    }\n",
       "</style>\n",
       "<table border=\"1\" class=\"dataframe\">\n",
       "  <thead>\n",
       "    <tr style=\"text-align: right;\">\n",
       "      <th></th>\n",
       "      <th>emp.var.rate</th>\n",
       "      <th>%Yes</th>\n",
       "    </tr>\n",
       "  </thead>\n",
       "  <tbody>\n",
       "    <tr>\n",
       "      <th>emp.var.rate</th>\n",
       "      <td>1.000000</td>\n",
       "      <td>-0.785899</td>\n",
       "    </tr>\n",
       "    <tr>\n",
       "      <th>%Yes</th>\n",
       "      <td>-0.785899</td>\n",
       "      <td>1.000000</td>\n",
       "    </tr>\n",
       "  </tbody>\n",
       "</table>\n",
       "</div>"
      ],
      "text/plain": [
       "              emp.var.rate      %Yes\n",
       "emp.var.rate      1.000000 -0.785899\n",
       "%Yes             -0.785899  1.000000"
      ]
     },
     "execution_count": 56,
     "metadata": {},
     "output_type": "execute_result"
    }
   ],
   "source": [
    "emp_var_rate_df[['emp.var.rate','%Yes']].corr()"
   ]
  },
  {
   "cell_type": "markdown",
   "id": "07ec38dc",
   "metadata": {},
   "source": [
    "### cons.price.idx"
   ]
  },
  {
   "cell_type": "code",
   "execution_count": 57,
   "id": "356b8524",
   "metadata": {},
   "outputs": [
    {
     "data": {
      "image/png": "[encoded data removed]",
      "text/plain": [
       "<Figure size 432x288 with 1 Axes>"
      ]
     },
     "metadata": {
      "needs_background": "light"
     },
     "output_type": "display_data"
    }
   ],
   "source": [
    "df['cons.price.idx'].plot(kind='hist')\n",
    "plt.show()"
   ]
  },
  {
   "cell_type": "code",
   "execution_count": 58,
   "id": "744f3796",
   "metadata": {},
   "outputs": [
    {
     "name": "stdout",
     "output_type": "stream",
     "text": [
      "P value: 0.0\n"
     ]
    },
    {
     "data": {
      "text/html": [
       "<div>\n",
       "<style scoped>\n",
       "    .dataframe tbody tr th:only-of-type {\n",
       "        vertical-align: middle;\n",
       "    }\n",
       "\n",
       "    .dataframe tbody tr th {\n",
       "        vertical-align: top;\n",
       "    }\n",
       "\n",
       "    .dataframe thead th {\n",
       "        text-align: right;\n",
       "    }\n",
       "</style>\n",
       "<table border=\"1\" class=\"dataframe\">\n",
       "  <thead>\n",
       "    <tr style=\"text-align: right;\">\n",
       "      <th></th>\n",
       "      <th>NoOfYes</th>\n",
       "      <th>NoOfNo</th>\n",
       "      <th>%Yes</th>\n",
       "    </tr>\n",
       "    <tr>\n",
       "      <th>cons.price.idx</th>\n",
       "      <th></th>\n",
       "      <th></th>\n",
       "      <th></th>\n",
       "    </tr>\n",
       "  </thead>\n",
       "  <tbody>\n",
       "    <tr>\n",
       "      <th>93.798</th>\n",
       "      <td>42</td>\n",
       "      <td>25</td>\n",
       "      <td>62.686567</td>\n",
       "    </tr>\n",
       "    <tr>\n",
       "      <th>93.876</th>\n",
       "      <td>122</td>\n",
       "      <td>90</td>\n",
       "      <td>57.547170</td>\n",
       "    </tr>\n",
       "    <tr>\n",
       "      <th>93.369</th>\n",
       "      <td>150</td>\n",
       "      <td>114</td>\n",
       "      <td>56.818182</td>\n",
       "    </tr>\n",
       "    <tr>\n",
       "      <th>94.215</th>\n",
       "      <td>176</td>\n",
       "      <td>135</td>\n",
       "      <td>56.591640</td>\n",
       "    </tr>\n",
       "    <tr>\n",
       "      <th>93.749</th>\n",
       "      <td>97</td>\n",
       "      <td>77</td>\n",
       "      <td>55.747126</td>\n",
       "    </tr>\n",
       "    <tr>\n",
       "      <th>94.027</th>\n",
       "      <td>120</td>\n",
       "      <td>113</td>\n",
       "      <td>51.502146</td>\n",
       "    </tr>\n",
       "    <tr>\n",
       "      <th>92.713</th>\n",
       "      <td>88</td>\n",
       "      <td>84</td>\n",
       "      <td>51.162791</td>\n",
       "    </tr>\n",
       "    <tr>\n",
       "      <th>94.199</th>\n",
       "      <td>150</td>\n",
       "      <td>153</td>\n",
       "      <td>49.504950</td>\n",
       "    </tr>\n",
       "    <tr>\n",
       "      <th>92.649</th>\n",
       "      <td>168</td>\n",
       "      <td>189</td>\n",
       "      <td>47.058824</td>\n",
       "    </tr>\n",
       "    <tr>\n",
       "      <th>94.055</th>\n",
       "      <td>107</td>\n",
       "      <td>122</td>\n",
       "      <td>46.724891</td>\n",
       "    </tr>\n",
       "    <tr>\n",
       "      <th>94.601</th>\n",
       "      <td>93</td>\n",
       "      <td>111</td>\n",
       "      <td>45.588235</td>\n",
       "    </tr>\n",
       "    <tr>\n",
       "      <th>94.767</th>\n",
       "      <td>58</td>\n",
       "      <td>70</td>\n",
       "      <td>45.312500</td>\n",
       "    </tr>\n",
       "    <tr>\n",
       "      <th>92.843</th>\n",
       "      <td>126</td>\n",
       "      <td>156</td>\n",
       "      <td>44.680851</td>\n",
       "    </tr>\n",
       "    <tr>\n",
       "      <th>92.431</th>\n",
       "      <td>180</td>\n",
       "      <td>267</td>\n",
       "      <td>40.268456</td>\n",
       "    </tr>\n",
       "    <tr>\n",
       "      <th>92.379</th>\n",
       "      <td>106</td>\n",
       "      <td>161</td>\n",
       "      <td>39.700375</td>\n",
       "    </tr>\n",
       "    <tr>\n",
       "      <th>92.469</th>\n",
       "      <td>66</td>\n",
       "      <td>112</td>\n",
       "      <td>37.078652</td>\n",
       "    </tr>\n",
       "    <tr>\n",
       "      <th>92.963</th>\n",
       "      <td>264</td>\n",
       "      <td>451</td>\n",
       "      <td>36.923077</td>\n",
       "    </tr>\n",
       "    <tr>\n",
       "      <th>92.201</th>\n",
       "      <td>264</td>\n",
       "      <td>506</td>\n",
       "      <td>34.285714</td>\n",
       "    </tr>\n",
       "    <tr>\n",
       "      <th>93.075</th>\n",
       "      <td>442</td>\n",
       "      <td>2016</td>\n",
       "      <td>17.982099</td>\n",
       "    </tr>\n",
       "    <tr>\n",
       "      <th>92.756</th>\n",
       "      <td>1</td>\n",
       "      <td>9</td>\n",
       "      <td>10.000000</td>\n",
       "    </tr>\n",
       "    <tr>\n",
       "      <th>92.893</th>\n",
       "      <td>524</td>\n",
       "      <td>5270</td>\n",
       "      <td>9.043838</td>\n",
       "    </tr>\n",
       "    <tr>\n",
       "      <th>93.918</th>\n",
       "      <td>407</td>\n",
       "      <td>6278</td>\n",
       "      <td>6.088257</td>\n",
       "    </tr>\n",
       "    <tr>\n",
       "      <th>93.200</th>\n",
       "      <td>190</td>\n",
       "      <td>3426</td>\n",
       "      <td>5.254425</td>\n",
       "    </tr>\n",
       "    <tr>\n",
       "      <th>93.444</th>\n",
       "      <td>271</td>\n",
       "      <td>4904</td>\n",
       "      <td>5.236715</td>\n",
       "    </tr>\n",
       "    <tr>\n",
       "      <th>94.465</th>\n",
       "      <td>188</td>\n",
       "      <td>4186</td>\n",
       "      <td>4.298125</td>\n",
       "    </tr>\n",
       "    <tr>\n",
       "      <th>93.994</th>\n",
       "      <td>240</td>\n",
       "      <td>7523</td>\n",
       "      <td>3.091588</td>\n",
       "    </tr>\n",
       "  </tbody>\n",
       "</table>\n",
       "</div>"
      ],
      "text/plain": [
       "                NoOfYes  NoOfNo       %Yes\n",
       "cons.price.idx                            \n",
       "93.798               42      25  62.686567\n",
       "93.876              122      90  57.547170\n",
       "93.369              150     114  56.818182\n",
       "94.215              176     135  56.591640\n",
       "93.749               97      77  55.747126\n",
       "94.027              120     113  51.502146\n",
       "92.713               88      84  51.162791\n",
       "94.199              150     153  49.504950\n",
       "92.649              168     189  47.058824\n",
       "94.055              107     122  46.724891\n",
       "94.601               93     111  45.588235\n",
       "94.767               58      70  45.312500\n",
       "92.843              126     156  44.680851\n",
       "92.431              180     267  40.268456\n",
       "92.379              106     161  39.700375\n",
       "92.469               66     112  37.078652\n",
       "92.963              264     451  36.923077\n",
       "92.201              264     506  34.285714\n",
       "93.075              442    2016  17.982099\n",
       "92.756                1       9  10.000000\n",
       "92.893              524    5270   9.043838\n",
       "93.918              407    6278   6.088257\n",
       "93.200              190    3426   5.254425\n",
       "93.444              271    4904   5.236715\n",
       "94.465              188    4186   4.298125\n",
       "93.994              240    7523   3.091588"
      ]
     },
     "execution_count": 58,
     "metadata": {},
     "output_type": "execute_result"
    }
   ],
   "source": [
    "stat, p, dof, expected, cons_price_idx_df = chisquare(df,'cons.price.idx','y')\n",
    "print(f\"P value: {p}\")\n",
    "\n",
    "### Printing observed contingency table for reference \n",
    "cons_price_idx_df"
   ]
  },
  {
   "cell_type": "code",
   "execution_count": 59,
   "id": "d8ed2dbc",
   "metadata": {},
   "outputs": [
    {
     "data": {
      "image/png": "[encoded data removed]",
      "text/plain": [
       "<Figure size 432x288 with 1 Axes>"
      ]
     },
     "metadata": {
      "needs_background": "light"
     },
     "output_type": "display_data"
    }
   ],
   "source": [
    "cons_price_idx_df.reset_index(inplace=True)\n",
    "cons_price_idx_df.rename(columns = {'index':'cons.price.idx'})\n",
    "cons_price_idx_df\n",
    "\n",
    "sns.scatterplot(x='cons.price.idx', y='%Yes', data=cons_price_idx_df)\n",
    "plt.show()"
   ]
  },
  {
   "cell_type": "code",
   "execution_count": 60,
   "id": "e3104b49",
   "metadata": {},
   "outputs": [
    {
     "data": {
      "text/plain": [
       "<AxesSubplot: xlabel='y', ylabel='cons.price.idx'>"
      ]
     },
     "execution_count": 60,
     "metadata": {},
     "output_type": "execute_result"
    },
    {
     "data": {
      "image/png": "[encoded data removed]",
      "text/plain": [
       "<Figure size 432x288 with 1 Axes>"
      ]
     },
     "metadata": {
      "needs_background": "light"
     },
     "output_type": "display_data"
    }
   ],
   "source": [
    "sns.boxplot(x='y',y='cons.price.idx',data=df)"
   ]
  },
  {
   "cell_type": "code",
   "execution_count": 61,
   "id": "14e87c66",
   "metadata": {},
   "outputs": [],
   "source": [
    "### 2nd method: using one way ANOVA"
   ]
  },
  {
   "cell_type": "code",
   "execution_count": 62,
   "id": "e33e9879",
   "metadata": {},
   "outputs": [
    {
     "data": {
      "text/plain": [
       "F_onewayResult(statistic=778.5897856865838, pvalue=9.318964779562635e-170)"
      ]
     },
     "execution_count": 62,
     "metadata": {},
     "output_type": "execute_result"
    }
   ],
   "source": [
    "stats.f_oneway(df.loc[df['y']=='yes','cons.price.idx'],\n",
    "                df.loc[df['y']=='no','cons.price.idx'])"
   ]
  },
  {
   "cell_type": "code",
   "execution_count": null,
   "id": "c76d1654",
   "metadata": {},
   "outputs": [],
   "source": []
  },
  {
   "cell_type": "markdown",
   "id": "79f104bf",
   "metadata": {},
   "source": [
    "### euribor3m"
   ]
  },
  {
   "cell_type": "code",
   "execution_count": 63,
   "id": "e9a64410",
   "metadata": {},
   "outputs": [
    {
     "data": {
      "image/png": "[encoded data removed]",
      "text/plain": [
       "<Figure size 432x288 with 1 Axes>"
      ]
     },
     "metadata": {
      "needs_background": "light"
     },
     "output_type": "display_data"
    }
   ],
   "source": [
    "df['euribor3m'].plot(kind='hist')\n",
    "plt.show()"
   ]
  },
  {
   "cell_type": "code",
   "execution_count": 64,
   "id": "d3301fd0",
   "metadata": {},
   "outputs": [
    {
     "name": "stdout",
     "output_type": "stream",
     "text": [
      "P value: 0.0\n"
     ]
    },
    {
     "data": {
      "text/html": [
       "<div>\n",
       "<style scoped>\n",
       "    .dataframe tbody tr th:only-of-type {\n",
       "        vertical-align: middle;\n",
       "    }\n",
       "\n",
       "    .dataframe tbody tr th {\n",
       "        vertical-align: top;\n",
       "    }\n",
       "\n",
       "    .dataframe thead th {\n",
       "        text-align: right;\n",
       "    }\n",
       "</style>\n",
       "<table border=\"1\" class=\"dataframe\">\n",
       "  <thead>\n",
       "    <tr style=\"text-align: right;\">\n",
       "      <th></th>\n",
       "      <th>NoOfYes</th>\n",
       "      <th>NoOfNo</th>\n",
       "      <th>%Yes</th>\n",
       "    </tr>\n",
       "    <tr>\n",
       "      <th>euribor3m</th>\n",
       "      <th></th>\n",
       "      <th></th>\n",
       "      <th></th>\n",
       "    </tr>\n",
       "  </thead>\n",
       "  <tbody>\n",
       "    <tr>\n",
       "      <th>3.053</th>\n",
       "      <td>1.0</td>\n",
       "      <td>0.0</td>\n",
       "      <td>100.000000</td>\n",
       "    </tr>\n",
       "    <tr>\n",
       "      <th>0.688</th>\n",
       "      <td>3.0</td>\n",
       "      <td>0.0</td>\n",
       "      <td>100.000000</td>\n",
       "    </tr>\n",
       "    <tr>\n",
       "      <th>0.933</th>\n",
       "      <td>1.0</td>\n",
       "      <td>0.0</td>\n",
       "      <td>100.000000</td>\n",
       "    </tr>\n",
       "    <tr>\n",
       "      <th>0.870</th>\n",
       "      <td>12.0</td>\n",
       "      <td>1.0</td>\n",
       "      <td>92.307692</td>\n",
       "    </tr>\n",
       "    <tr>\n",
       "      <th>0.885</th>\n",
       "      <td>9.0</td>\n",
       "      <td>1.0</td>\n",
       "      <td>90.000000</td>\n",
       "    </tr>\n",
       "    <tr>\n",
       "      <th>...</th>\n",
       "      <td>...</td>\n",
       "      <td>...</td>\n",
       "      <td>...</td>\n",
       "    </tr>\n",
       "    <tr>\n",
       "      <th>0.914</th>\n",
       "      <td>0.0</td>\n",
       "      <td>3.0</td>\n",
       "      <td>0.000000</td>\n",
       "    </tr>\n",
       "    <tr>\n",
       "      <th>0.894</th>\n",
       "      <td>0.0</td>\n",
       "      <td>3.0</td>\n",
       "      <td>0.000000</td>\n",
       "    </tr>\n",
       "    <tr>\n",
       "      <th>0.891</th>\n",
       "      <td>0.0</td>\n",
       "      <td>4.0</td>\n",
       "      <td>0.000000</td>\n",
       "    </tr>\n",
       "    <tr>\n",
       "      <th>0.890</th>\n",
       "      <td>0.0</td>\n",
       "      <td>8.0</td>\n",
       "      <td>0.000000</td>\n",
       "    </tr>\n",
       "    <tr>\n",
       "      <th>4.733</th>\n",
       "      <td>0.0</td>\n",
       "      <td>2.0</td>\n",
       "      <td>0.000000</td>\n",
       "    </tr>\n",
       "  </tbody>\n",
       "</table>\n",
       "<p>316 rows × 3 columns</p>\n",
       "</div>"
      ],
      "text/plain": [
       "           NoOfYes  NoOfNo        %Yes\n",
       "euribor3m                             \n",
       "3.053          1.0     0.0  100.000000\n",
       "0.688          3.0     0.0  100.000000\n",
       "0.933          1.0     0.0  100.000000\n",
       "0.870         12.0     1.0   92.307692\n",
       "0.885          9.0     1.0   90.000000\n",
       "...            ...     ...         ...\n",
       "0.914          0.0     3.0    0.000000\n",
       "0.894          0.0     3.0    0.000000\n",
       "0.891          0.0     4.0    0.000000\n",
       "0.890          0.0     8.0    0.000000\n",
       "4.733          0.0     2.0    0.000000\n",
       "\n",
       "[316 rows x 3 columns]"
      ]
     },
     "execution_count": 64,
     "metadata": {},
     "output_type": "execute_result"
    }
   ],
   "source": [
    "stat, p, dof, expected, euribor3m_df = chisquare(df,'euribor3m','y')\n",
    "print(f\"P value: {p}\")\n",
    "\n",
    "### Printing observed contingency table for reference \n",
    "euribor3m_df"
   ]
  },
  {
   "cell_type": "code",
   "execution_count": 65,
   "id": "32094cd1",
   "metadata": {},
   "outputs": [
    {
     "data": {
      "image/png": "[encoded data removed]",
      "text/plain": [
       "<Figure size 432x288 with 1 Axes>"
      ]
     },
     "metadata": {
      "needs_background": "light"
     },
     "output_type": "display_data"
    }
   ],
   "source": [
    "euribor3m_df.reset_index(inplace=True)\n",
    "euribor3m_df.rename(columns = {'index':'euribor3m'})\n",
    "euribor3m_df\n",
    "\n",
    "sns.scatterplot(x='euribor3m', y='%Yes', data=euribor3m_df)\n",
    "plt.show()"
   ]
  },
  {
   "cell_type": "code",
   "execution_count": 66,
   "id": "7fe9bb6e",
   "metadata": {},
   "outputs": [
    {
     "data": {
      "image/png": "[encoded data removed]",
      "text/plain": [
       "<Figure size 432x288 with 1 Axes>"
      ]
     },
     "metadata": {
      "needs_background": "light"
     },
     "output_type": "display_data"
    }
   ],
   "source": [
    "sns.boxplot(x='y',y='euribor3m',data=df)\n",
    "plt.show()"
   ]
  },
  {
   "cell_type": "code",
   "execution_count": 67,
   "id": "0efb0ace",
   "metadata": {},
   "outputs": [],
   "source": [
    "### 2nd method: using one way ANOVA"
   ]
  },
  {
   "cell_type": "code",
   "execution_count": 68,
   "id": "8480e5ba",
   "metadata": {},
   "outputs": [
    {
     "data": {
      "text/plain": [
       "F_onewayResult(statistic=4309.479048107805, pvalue=0.0)"
      ]
     },
     "execution_count": 68,
     "metadata": {},
     "output_type": "execute_result"
    }
   ],
   "source": [
    "stats.f_oneway(df.loc[df['y']=='yes','euribor3m'],\n",
    "                df.loc[df['y']=='no','euribor3m'])"
   ]
  },
  {
   "cell_type": "markdown",
   "id": "6c33b1ea",
   "metadata": {},
   "source": [
    "### nr.employed"
   ]
  },
  {
   "cell_type": "code",
   "execution_count": 69,
   "id": "c6ee88e9",
   "metadata": {},
   "outputs": [
    {
     "data": {
      "image/png": "[encoded data removed]",
      "text/plain": [
       "<Figure size 432x288 with 1 Axes>"
      ]
     },
     "metadata": {
      "needs_background": "light"
     },
     "output_type": "display_data"
    }
   ],
   "source": [
    "df['nr.employed'].plot(kind='hist')\n",
    "plt.show()\n",
    "\n"
   ]
  },
  {
   "cell_type": "code",
   "execution_count": 70,
   "id": "2833733b",
   "metadata": {},
   "outputs": [
    {
     "name": "stdout",
     "output_type": "stream",
     "text": [
      "P value: 0.0\n"
     ]
    },
    {
     "data": {
      "text/html": [
       "<div>\n",
       "<style scoped>\n",
       "    .dataframe tbody tr th:only-of-type {\n",
       "        vertical-align: middle;\n",
       "    }\n",
       "\n",
       "    .dataframe tbody tr th {\n",
       "        vertical-align: top;\n",
       "    }\n",
       "\n",
       "    .dataframe thead th {\n",
       "        text-align: right;\n",
       "    }\n",
       "</style>\n",
       "<table border=\"1\" class=\"dataframe\">\n",
       "  <thead>\n",
       "    <tr style=\"text-align: right;\">\n",
       "      <th></th>\n",
       "      <th>NoOfYes</th>\n",
       "      <th>NoOfNo</th>\n",
       "      <th>%Yes</th>\n",
       "    </tr>\n",
       "    <tr>\n",
       "      <th>nr.employed</th>\n",
       "      <th></th>\n",
       "      <th></th>\n",
       "      <th></th>\n",
       "    </tr>\n",
       "  </thead>\n",
       "  <tbody>\n",
       "    <tr>\n",
       "      <th>5008.7</th>\n",
       "      <td>369</td>\n",
       "      <td>281</td>\n",
       "      <td>56.769231</td>\n",
       "    </tr>\n",
       "    <tr>\n",
       "      <th>4991.6</th>\n",
       "      <td>403</td>\n",
       "      <td>370</td>\n",
       "      <td>52.134541</td>\n",
       "    </tr>\n",
       "    <tr>\n",
       "      <th>5023.5</th>\n",
       "      <td>88</td>\n",
       "      <td>84</td>\n",
       "      <td>51.162791</td>\n",
       "    </tr>\n",
       "    <tr>\n",
       "      <th>4963.6</th>\n",
       "      <td>301</td>\n",
       "      <td>334</td>\n",
       "      <td>47.401575</td>\n",
       "    </tr>\n",
       "    <tr>\n",
       "      <th>5017.5</th>\n",
       "      <td>454</td>\n",
       "      <td>617</td>\n",
       "      <td>42.390289</td>\n",
       "    </tr>\n",
       "    <tr>\n",
       "      <th>5076.2</th>\n",
       "      <td>594</td>\n",
       "      <td>1069</td>\n",
       "      <td>35.718581</td>\n",
       "    </tr>\n",
       "    <tr>\n",
       "      <th>5099.1</th>\n",
       "      <td>1092</td>\n",
       "      <td>7442</td>\n",
       "      <td>12.795875</td>\n",
       "    </tr>\n",
       "    <tr>\n",
       "      <th>5176.3</th>\n",
       "      <td>1</td>\n",
       "      <td>9</td>\n",
       "      <td>10.000000</td>\n",
       "    </tr>\n",
       "    <tr>\n",
       "      <th>5195.8</th>\n",
       "      <td>232</td>\n",
       "      <td>3451</td>\n",
       "      <td>6.299213</td>\n",
       "    </tr>\n",
       "    <tr>\n",
       "      <th>5228.1</th>\n",
       "      <td>866</td>\n",
       "      <td>15368</td>\n",
       "      <td>5.334483</td>\n",
       "    </tr>\n",
       "    <tr>\n",
       "      <th>5191.0</th>\n",
       "      <td>240</td>\n",
       "      <td>7523</td>\n",
       "      <td>3.091588</td>\n",
       "    </tr>\n",
       "  </tbody>\n",
       "</table>\n",
       "</div>"
      ],
      "text/plain": [
       "             NoOfYes  NoOfNo       %Yes\n",
       "nr.employed                            \n",
       "5008.7           369     281  56.769231\n",
       "4991.6           403     370  52.134541\n",
       "5023.5            88      84  51.162791\n",
       "4963.6           301     334  47.401575\n",
       "5017.5           454     617  42.390289\n",
       "5076.2           594    1069  35.718581\n",
       "5099.1          1092    7442  12.795875\n",
       "5176.3             1       9  10.000000\n",
       "5195.8           232    3451   6.299213\n",
       "5228.1           866   15368   5.334483\n",
       "5191.0           240    7523   3.091588"
      ]
     },
     "execution_count": 70,
     "metadata": {},
     "output_type": "execute_result"
    }
   ],
   "source": [
    "stat, p, dof, expected, nr_employed_df = chisquare(df,'nr.employed','y')\n",
    "print(f\"P value: {p}\")\n",
    "\n",
    "### Printing observed contingency table for reference \n",
    "nr_employed_df"
   ]
  },
  {
   "cell_type": "code",
   "execution_count": 71,
   "id": "0b6269b2",
   "metadata": {},
   "outputs": [
    {
     "data": {
      "image/png": "[encoded data removed]",
      "text/plain": [
       "<Figure size 432x288 with 1 Axes>"
      ]
     },
     "metadata": {
      "needs_background": "light"
     },
     "output_type": "display_data"
    }
   ],
   "source": [
    "nr_employed_df.reset_index(inplace=True)\n",
    "nr_employed_df.rename(columns = {'index':'nr.employed'})\n",
    "nr_employed_df\n",
    "\n",
    "sns.scatterplot(x='nr.employed', y='%Yes', data=nr_employed_df)\n",
    "plt.show()"
   ]
  },
  {
   "cell_type": "markdown",
   "id": "c33d65b7",
   "metadata": {},
   "source": [
    "### campaign"
   ]
  },
  {
   "cell_type": "code",
   "execution_count": 72,
   "id": "05c07723",
   "metadata": {},
   "outputs": [
    {
     "data": {
      "image/png": "[encoded data removed]",
      "text/plain": [
       "<Figure size 432x288 with 1 Axes>"
      ]
     },
     "metadata": {
      "needs_background": "light"
     },
     "output_type": "display_data"
    }
   ],
   "source": [
    "df['campaign'].plot(kind='hist',color='red')\n",
    "plt.show()"
   ]
  },
  {
   "cell_type": "code",
   "execution_count": 73,
   "id": "bf2a7cdd",
   "metadata": {},
   "outputs": [
    {
     "data": {
      "text/plain": [
       "<AxesSubplot: xlabel='y', ylabel='campaign'>"
      ]
     },
     "execution_count": 73,
     "metadata": {},
     "output_type": "execute_result"
    },
    {
     "data": {
      "image/png": "[encoded data removed]",
      "text/plain": [
       "<Figure size 432x288 with 1 Axes>"
      ]
     },
     "metadata": {
      "needs_background": "light"
     },
     "output_type": "display_data"
    }
   ],
   "source": [
    "sns.boxplot(x='y',y='campaign',data=df[df['campaign']<7])"
   ]
  },
  {
   "cell_type": "markdown",
   "id": "8396ad68",
   "metadata": {},
   "source": [
    "## Final Feature processing\n",
    "\n",
    "implementing feature processign on entire data before splitting as the focus is not on the feature\n",
    "preprocessing"
   ]
  },
  {
   "cell_type": "code",
   "execution_count": 74,
   "id": "1c4ccafd",
   "metadata": {},
   "outputs": [],
   "source": [
    "from sklearn.preprocessing import StandardScaler, OneHotEncoder\n",
    "from sklearn.model_selection import train_test_split\n",
    "\n",
    "### removign age above 70 and campaign above 7\n",
    "data = df[(df['age']<71) & (df['campaign']<=7)]\n",
    "\n",
    "### Converting job to onehot\n",
    "oe = OneHotEncoder(sparse=False)\n",
    "data[oe.get_feature_names(['job'])] = oe.fit_transform(data['job'].to_numpy().reshape(-1, 1))\n",
    "data.drop(columns=['job'], inplace=True)\n",
    "\n",
    "### Converting poutcome to onehot\n",
    "oe = OneHotEncoder(sparse=False)\n",
    "data[oe.get_feature_names(['poutcome'])] = oe.fit_transform(data['poutcome'].to_numpy().reshape(-1, 1))\n",
    "data.drop(columns=['poutcome'], inplace=True)\n",
    "\n",
    "### Converting marital to onehot\n",
    "oe = OneHotEncoder(sparse=False)\n",
    "data[oe.get_feature_names(['marital'])] = oe.fit_transform(data['marital'].to_numpy().reshape(-1, 1))\n",
    "data.drop(columns=['marital'], inplace=True)\n",
    "\n",
    "### Converting education to onehot\n",
    "oe = OneHotEncoder(sparse=False)\n",
    "data[oe.get_feature_names(['education'])] = oe.fit_transform(data['education'].to_numpy().reshape(-1, 1))\n",
    "data.drop(columns=['education'], inplace=True)\n",
    "\n",
    "### Converting default to onehot\n",
    "oe = OneHotEncoder(sparse=False)\n",
    "data[oe.get_feature_names(['default'])] = oe.fit_transform(data['default'].to_numpy().reshape(-1, 1))\n",
    "data.drop(columns=['default'], inplace=True)\n",
    "\n",
    "### month mean encoding\n",
    "\n",
    "month_df = pd.concat([data[data['y']=='yes'].groupby(['month']).size(),\n",
    "            data[data['y']=='no'].groupby(['month']).size()],\n",
    "          axis=1\n",
    "         )\n",
    "month_df.reset_index(inplace=True)\n",
    "month_df.columns = ['month', 'yes', 'no']\n",
    "month_df['%yes'] = month_df['yes'] / (month_df['yes']+month_df['no']) * 100\n",
    "\n",
    "month_means = dict(zip(month_df['month'],month_df['%yes']))\n",
    "data.replace({'month':month_means},inplace=True)\n",
    "\n",
    "### day_of_week mean encoding\n",
    "\n",
    "day_df = pd.concat([data[data['y']=='yes'].groupby(['day_of_week']).size(),\n",
    "            data[data['y']=='no'].groupby(['day_of_week']).size()],\n",
    "          axis=1\n",
    "         )\n",
    "day_df.reset_index(inplace=True)\n",
    "day_df.columns = ['day_of_week', 'yes', 'no']\n",
    "day_df['%yes'] = day_df['yes'] / (day_df['yes']+day_df['no']) * 100\n",
    "\n",
    "day_means = dict(zip(day_df['day_of_week'],day_df['%yes']))\n",
    "data.replace({'day_of_week':day_means},inplace=True)\n",
    "\n",
    "\n",
    "\n",
    "### Standard scaling all numeric columns\n",
    "scaler = StandardScaler()\n",
    "data.loc[:,['age','month', 'day_of_week', \n",
    "            'campaign', 'emp.var.rate', 'cons.price.idx',\n",
    "            'cons.conf.idx', 'euribor3m', 'nr.employed']] = scaler.fit_transform(data[['age','month', 'day_of_week', \n",
    "                                                                                    'campaign', 'emp.var.rate', 'cons.price.idx',\n",
    "                                                                                       'cons.conf.idx', 'euribor3m', 'nr.employed']])\n",
    "\n",
    "\n",
    "### Removing all other non significant features\n",
    "data.drop(columns=['housing','loan','contact','duration','pdays','previous'],inplace=True)"
   ]
  },
  {
   "cell_type": "code",
   "execution_count": 75,
   "id": "49f56ca7",
   "metadata": {},
   "outputs": [],
   "source": [
    "### Processign target columns\n",
    "\n",
    "data['y'] = np.where(data['y']=='yes',1,0)"
   ]
  },
  {
   "cell_type": "code",
   "execution_count": 76,
   "id": "afbb7c0a",
   "metadata": {},
   "outputs": [
    {
     "data": {
      "text/html": [
       "<div>\n",
       "<style scoped>\n",
       "    .dataframe tbody tr th:only-of-type {\n",
       "        vertical-align: middle;\n",
       "    }\n",
       "\n",
       "    .dataframe tbody tr th {\n",
       "        vertical-align: top;\n",
       "    }\n",
       "\n",
       "    .dataframe thead th {\n",
       "        text-align: right;\n",
       "    }\n",
       "</style>\n",
       "<table border=\"1\" class=\"dataframe\">\n",
       "  <thead>\n",
       "    <tr style=\"text-align: right;\">\n",
       "      <th></th>\n",
       "      <th>age</th>\n",
       "      <th>month</th>\n",
       "      <th>day_of_week</th>\n",
       "      <th>campaign</th>\n",
       "      <th>emp.var.rate</th>\n",
       "      <th>cons.price.idx</th>\n",
       "      <th>cons.conf.idx</th>\n",
       "      <th>euribor3m</th>\n",
       "      <th>nr.employed</th>\n",
       "      <th>y</th>\n",
       "      <th>job_admin.</th>\n",
       "      <th>job_blue-collar</th>\n",
       "      <th>job_entrepreneur</th>\n",
       "      <th>job_housemaid</th>\n",
       "      <th>job_management</th>\n",
       "      <th>job_retired</th>\n",
       "      <th>job_self-employed</th>\n",
       "      <th>job_services</th>\n",
       "      <th>job_student</th>\n",
       "      <th>job_technician</th>\n",
       "      <th>job_unemployed</th>\n",
       "      <th>job_unknown</th>\n",
       "      <th>poutcome_failure</th>\n",
       "      <th>poutcome_nonexistent</th>\n",
       "      <th>poutcome_success</th>\n",
       "      <th>marital_divorced</th>\n",
       "      <th>marital_married</th>\n",
       "      <th>marital_single</th>\n",
       "      <th>marital_unknown</th>\n",
       "      <th>education_basic.4y</th>\n",
       "      <th>education_basic.6y</th>\n",
       "      <th>education_basic.9y</th>\n",
       "      <th>education_high.school</th>\n",
       "      <th>education_illiterate</th>\n",
       "      <th>education_professional.course</th>\n",
       "      <th>education_university.degree</th>\n",
       "      <th>education_unknown</th>\n",
       "      <th>default_no</th>\n",
       "      <th>default_unknown</th>\n",
       "      <th>default_yes</th>\n",
       "    </tr>\n",
       "  </thead>\n",
       "  <tbody>\n",
       "    <tr>\n",
       "      <th>0</th>\n",
       "      <td>1.683161</td>\n",
       "      <td>-0.54696</td>\n",
       "      <td>-1.576141</td>\n",
       "      <td>-0.796328</td>\n",
       "      <td>0.658544</td>\n",
       "      <td>0.738689</td>\n",
       "      <td>0.898068</td>\n",
       "      <td>0.719619</td>\n",
       "      <td>0.338203</td>\n",
       "      <td>0</td>\n",
       "      <td>0.0</td>\n",
       "      <td>0.0</td>\n",
       "      <td>0.0</td>\n",
       "      <td>1.0</td>\n",
       "      <td>0.0</td>\n",
       "      <td>0.0</td>\n",
       "      <td>0.0</td>\n",
       "      <td>0.0</td>\n",
       "      <td>0.0</td>\n",
       "      <td>0.0</td>\n",
       "      <td>0.0</td>\n",
       "      <td>0.0</td>\n",
       "      <td>0.0</td>\n",
       "      <td>1.0</td>\n",
       "      <td>0.0</td>\n",
       "      <td>0.0</td>\n",
       "      <td>1.0</td>\n",
       "      <td>0.0</td>\n",
       "      <td>0.0</td>\n",
       "      <td>1.0</td>\n",
       "      <td>0.0</td>\n",
       "      <td>0.0</td>\n",
       "      <td>0.0</td>\n",
       "      <td>0.0</td>\n",
       "      <td>0.0</td>\n",
       "      <td>0.0</td>\n",
       "      <td>0.0</td>\n",
       "      <td>1.0</td>\n",
       "      <td>0.0</td>\n",
       "      <td>0.0</td>\n",
       "    </tr>\n",
       "    <tr>\n",
       "      <th>1</th>\n",
       "      <td>1.785903</td>\n",
       "      <td>-0.54696</td>\n",
       "      <td>-1.576141</td>\n",
       "      <td>-0.796328</td>\n",
       "      <td>0.658544</td>\n",
       "      <td>0.738689</td>\n",
       "      <td>0.898068</td>\n",
       "      <td>0.719619</td>\n",
       "      <td>0.338203</td>\n",
       "      <td>0</td>\n",
       "      <td>0.0</td>\n",
       "      <td>0.0</td>\n",
       "      <td>0.0</td>\n",
       "      <td>0.0</td>\n",
       "      <td>0.0</td>\n",
       "      <td>0.0</td>\n",
       "      <td>0.0</td>\n",
       "      <td>1.0</td>\n",
       "      <td>0.0</td>\n",
       "      <td>0.0</td>\n",
       "      <td>0.0</td>\n",
       "      <td>0.0</td>\n",
       "      <td>0.0</td>\n",
       "      <td>1.0</td>\n",
       "      <td>0.0</td>\n",
       "      <td>0.0</td>\n",
       "      <td>1.0</td>\n",
       "      <td>0.0</td>\n",
       "      <td>0.0</td>\n",
       "      <td>0.0</td>\n",
       "      <td>0.0</td>\n",
       "      <td>0.0</td>\n",
       "      <td>1.0</td>\n",
       "      <td>0.0</td>\n",
       "      <td>0.0</td>\n",
       "      <td>0.0</td>\n",
       "      <td>0.0</td>\n",
       "      <td>0.0</td>\n",
       "      <td>1.0</td>\n",
       "      <td>0.0</td>\n",
       "    </tr>\n",
       "    <tr>\n",
       "      <th>2</th>\n",
       "      <td>-0.268946</td>\n",
       "      <td>-0.54696</td>\n",
       "      <td>-1.576141</td>\n",
       "      <td>-0.796328</td>\n",
       "      <td>0.658544</td>\n",
       "      <td>0.738689</td>\n",
       "      <td>0.898068</td>\n",
       "      <td>0.719619</td>\n",
       "      <td>0.338203</td>\n",
       "      <td>0</td>\n",
       "      <td>0.0</td>\n",
       "      <td>0.0</td>\n",
       "      <td>0.0</td>\n",
       "      <td>0.0</td>\n",
       "      <td>0.0</td>\n",
       "      <td>0.0</td>\n",
       "      <td>0.0</td>\n",
       "      <td>1.0</td>\n",
       "      <td>0.0</td>\n",
       "      <td>0.0</td>\n",
       "      <td>0.0</td>\n",
       "      <td>0.0</td>\n",
       "      <td>0.0</td>\n",
       "      <td>1.0</td>\n",
       "      <td>0.0</td>\n",
       "      <td>0.0</td>\n",
       "      <td>1.0</td>\n",
       "      <td>0.0</td>\n",
       "      <td>0.0</td>\n",
       "      <td>0.0</td>\n",
       "      <td>0.0</td>\n",
       "      <td>0.0</td>\n",
       "      <td>1.0</td>\n",
       "      <td>0.0</td>\n",
       "      <td>0.0</td>\n",
       "      <td>0.0</td>\n",
       "      <td>0.0</td>\n",
       "      <td>1.0</td>\n",
       "      <td>0.0</td>\n",
       "      <td>0.0</td>\n",
       "    </tr>\n",
       "    <tr>\n",
       "      <th>3</th>\n",
       "      <td>0.039281</td>\n",
       "      <td>-0.54696</td>\n",
       "      <td>-1.576141</td>\n",
       "      <td>-0.796328</td>\n",
       "      <td>0.658544</td>\n",
       "      <td>0.738689</td>\n",
       "      <td>0.898068</td>\n",
       "      <td>0.719619</td>\n",
       "      <td>0.338203</td>\n",
       "      <td>0</td>\n",
       "      <td>1.0</td>\n",
       "      <td>0.0</td>\n",
       "      <td>0.0</td>\n",
       "      <td>0.0</td>\n",
       "      <td>0.0</td>\n",
       "      <td>0.0</td>\n",
       "      <td>0.0</td>\n",
       "      <td>0.0</td>\n",
       "      <td>0.0</td>\n",
       "      <td>0.0</td>\n",
       "      <td>0.0</td>\n",
       "      <td>0.0</td>\n",
       "      <td>0.0</td>\n",
       "      <td>1.0</td>\n",
       "      <td>0.0</td>\n",
       "      <td>0.0</td>\n",
       "      <td>1.0</td>\n",
       "      <td>0.0</td>\n",
       "      <td>0.0</td>\n",
       "      <td>0.0</td>\n",
       "      <td>1.0</td>\n",
       "      <td>0.0</td>\n",
       "      <td>0.0</td>\n",
       "      <td>0.0</td>\n",
       "      <td>0.0</td>\n",
       "      <td>0.0</td>\n",
       "      <td>0.0</td>\n",
       "      <td>1.0</td>\n",
       "      <td>0.0</td>\n",
       "      <td>0.0</td>\n",
       "    </tr>\n",
       "    <tr>\n",
       "      <th>4</th>\n",
       "      <td>1.683161</td>\n",
       "      <td>-0.54696</td>\n",
       "      <td>-1.576141</td>\n",
       "      <td>-0.796328</td>\n",
       "      <td>0.658544</td>\n",
       "      <td>0.738689</td>\n",
       "      <td>0.898068</td>\n",
       "      <td>0.719619</td>\n",
       "      <td>0.338203</td>\n",
       "      <td>0</td>\n",
       "      <td>0.0</td>\n",
       "      <td>0.0</td>\n",
       "      <td>0.0</td>\n",
       "      <td>0.0</td>\n",
       "      <td>0.0</td>\n",
       "      <td>0.0</td>\n",
       "      <td>0.0</td>\n",
       "      <td>1.0</td>\n",
       "      <td>0.0</td>\n",
       "      <td>0.0</td>\n",
       "      <td>0.0</td>\n",
       "      <td>0.0</td>\n",
       "      <td>0.0</td>\n",
       "      <td>1.0</td>\n",
       "      <td>0.0</td>\n",
       "      <td>0.0</td>\n",
       "      <td>1.0</td>\n",
       "      <td>0.0</td>\n",
       "      <td>0.0</td>\n",
       "      <td>0.0</td>\n",
       "      <td>0.0</td>\n",
       "      <td>0.0</td>\n",
       "      <td>1.0</td>\n",
       "      <td>0.0</td>\n",
       "      <td>0.0</td>\n",
       "      <td>0.0</td>\n",
       "      <td>0.0</td>\n",
       "      <td>1.0</td>\n",
       "      <td>0.0</td>\n",
       "      <td>0.0</td>\n",
       "    </tr>\n",
       "  </tbody>\n",
       "</table>\n",
       "</div>"
      ],
      "text/plain": [
       "        age    month  day_of_week  campaign  emp.var.rate  cons.price.idx  \\\n",
       "0  1.683161 -0.54696    -1.576141 -0.796328      0.658544        0.738689   \n",
       "1  1.785903 -0.54696    -1.576141 -0.796328      0.658544        0.738689   \n",
       "2 -0.268946 -0.54696    -1.576141 -0.796328      0.658544        0.738689   \n",
       "3  0.039281 -0.54696    -1.576141 -0.796328      0.658544        0.738689   \n",
       "4  1.683161 -0.54696    -1.576141 -0.796328      0.658544        0.738689   \n",
       "\n",
       "   cons.conf.idx  euribor3m  nr.employed  y  job_admin.  job_blue-collar  \\\n",
       "0       0.898068   0.719619     0.338203  0         0.0              0.0   \n",
       "1       0.898068   0.719619     0.338203  0         0.0              0.0   \n",
       "2       0.898068   0.719619     0.338203  0         0.0              0.0   \n",
       "3       0.898068   0.719619     0.338203  0         1.0              0.0   \n",
       "4       0.898068   0.719619     0.338203  0         0.0              0.0   \n",
       "\n",
       "   job_entrepreneur  job_housemaid  job_management  job_retired  \\\n",
       "0               0.0            1.0             0.0          0.0   \n",
       "1               0.0            0.0             0.0          0.0   \n",
       "2               0.0            0.0             0.0          0.0   \n",
       "3               0.0            0.0             0.0          0.0   \n",
       "4               0.0            0.0             0.0          0.0   \n",
       "\n",
       "   job_self-employed  job_services  job_student  job_technician  \\\n",
       "0                0.0           0.0          0.0             0.0   \n",
       "1                0.0           1.0          0.0             0.0   \n",
       "2                0.0           1.0          0.0             0.0   \n",
       "3                0.0           0.0          0.0             0.0   \n",
       "4                0.0           1.0          0.0             0.0   \n",
       "\n",
       "   job_unemployed  job_unknown  poutcome_failure  poutcome_nonexistent  \\\n",
       "0             0.0          0.0               0.0                   1.0   \n",
       "1             0.0          0.0               0.0                   1.0   \n",
       "2             0.0          0.0               0.0                   1.0   \n",
       "3             0.0          0.0               0.0                   1.0   \n",
       "4             0.0          0.0               0.0                   1.0   \n",
       "\n",
       "   poutcome_success  marital_divorced  marital_married  marital_single  \\\n",
       "0               0.0               0.0              1.0             0.0   \n",
       "1               0.0               0.0              1.0             0.0   \n",
       "2               0.0               0.0              1.0             0.0   \n",
       "3               0.0               0.0              1.0             0.0   \n",
       "4               0.0               0.0              1.0             0.0   \n",
       "\n",
       "   marital_unknown  education_basic.4y  education_basic.6y  \\\n",
       "0              0.0                 1.0                 0.0   \n",
       "1              0.0                 0.0                 0.0   \n",
       "2              0.0                 0.0                 0.0   \n",
       "3              0.0                 0.0                 1.0   \n",
       "4              0.0                 0.0                 0.0   \n",
       "\n",
       "   education_basic.9y  education_high.school  education_illiterate  \\\n",
       "0                 0.0                    0.0                   0.0   \n",
       "1                 0.0                    1.0                   0.0   \n",
       "2                 0.0                    1.0                   0.0   \n",
       "3                 0.0                    0.0                   0.0   \n",
       "4                 0.0                    1.0                   0.0   \n",
       "\n",
       "   education_professional.course  education_university.degree  \\\n",
       "0                            0.0                          0.0   \n",
       "1                            0.0                          0.0   \n",
       "2                            0.0                          0.0   \n",
       "3                            0.0                          0.0   \n",
       "4                            0.0                          0.0   \n",
       "\n",
       "   education_unknown  default_no  default_unknown  default_yes  \n",
       "0                0.0         1.0              0.0          0.0  \n",
       "1                0.0         0.0              1.0          0.0  \n",
       "2                0.0         1.0              0.0          0.0  \n",
       "3                0.0         1.0              0.0          0.0  \n",
       "4                0.0         1.0              0.0          0.0  "
      ]
     },
     "execution_count": 76,
     "metadata": {},
     "output_type": "execute_result"
    }
   ],
   "source": [
    "data.head()\n",
    "\n"
   ]
  },
  {
   "cell_type": "code",
   "execution_count": 77,
   "id": "a413177b",
   "metadata": {},
   "outputs": [
    {
     "data": {
      "text/plain": [
       "(38998, 40)"
      ]
     },
     "execution_count": 77,
     "metadata": {},
     "output_type": "execute_result"
    }
   ],
   "source": [
    "data.shape"
   ]
  },
  {
   "cell_type": "markdown",
   "id": "352172ab",
   "metadata": {},
   "source": [
    "### Ddvide the data"
   ]
  },
  {
   "cell_type": "code",
   "execution_count": 78,
   "id": "732b297a",
   "metadata": {},
   "outputs": [],
   "source": [
    "X = data.drop(columns=['y'])\n",
    "y = data['y']\n",
    "\n",
    "X_train, X_rest, y_train, y_rest = train_test_split(X, y, test_size=0.4, random_state=42, stratify=y)\n",
    "X_valid, X_test, y_valid, y_test = train_test_split(X_rest, y_rest, test_size=0.5, random_state=42, stratify=y_rest)"
   ]
  },
  {
   "cell_type": "code",
   "execution_count": 79,
   "id": "f15a436e",
   "metadata": {},
   "outputs": [
    {
     "data": {
      "text/plain": [
       "((23398, 39), (23398,), (7800, 39), (7800,), (7800, 39), (7800,))"
      ]
     },
     "execution_count": 79,
     "metadata": {},
     "output_type": "execute_result"
    }
   ],
   "source": [
    "X_train.shape,y_train.shape,X_valid.shape,y_valid.shape,X_test.shape,y_test.shape"
   ]
  },
  {
   "cell_type": "markdown",
   "id": "0213164d",
   "metadata": {},
   "source": [
    "## Models"
   ]
  },
  {
   "cell_type": "markdown",
   "id": "bbe20c2d",
   "metadata": {},
   "source": [
    "Implementing Logistic regression from scratch"
   ]
  },
  {
   "cell_type": "code",
   "execution_count": 80,
   "id": "cb5ad8f4",
   "metadata": {},
   "outputs": [],
   "source": [
    "def logisticLoss(y,y_hat):\n",
    "    return -y*np.log(y_hat) - (1-y)*np.log(1-y_hat)\n",
    "\n",
    "class Adam:\n",
    "    def __init__(self,lr=10**-1):\n",
    "        self.lr = lr\n",
    "        self.m = None\n",
    "        self.v = None\n",
    "        self.beta1 = 0.9\n",
    "        self.beta2 = 0.999\n",
    "        self.epsilon = 10**-8\n",
    "        \n",
    "    def optimize(self, model, grads):\n",
    "        if self.m is None and self.v is None:\n",
    "            self.m = np.zeros_like(grads)\n",
    "            self.v = np.zeros_like(grads)\n",
    "        self.m = self.beta1 * self.m + (1-self.beta1) * grads\n",
    "        self.v = self.beta2 * self.v + (1-self.beta2) * grads ** 2\n",
    "        \n",
    "        m_hat = self.m / (1-self.beta1)\n",
    "        v_hat = self.v / (1-self.beta2)\n",
    "        \n",
    "        model.W -= self.lr * m_hat / (np.sqrt(v_hat+self.epsilon))\n",
    "        \n",
    "\n",
    "class LogisticRegression:\n",
    "    \n",
    "    def __init__(self):\n",
    "        self.W = None        \n",
    "        self.history = {'loss':[], 'weights':(), 'accuracy':[], 'val_accuracy':[]}        \n",
    "    \n",
    "        \n",
    "    def train(self,X,y,epochs,optim):\n",
    "        X = X.to_numpy()\n",
    "        y = y.to_numpy()        \n",
    "        n = X.shape[0] ## Number of examples\n",
    "        \n",
    "        ## Initialize the weights\n",
    "        n_params = X.shape[1]+1 ## Number of parameters + 1 for bias\n",
    "        lower, upper = -(1.0 / math.sqrt(n_params)), (1.0 / math.sqrt(n_params))\n",
    "        self.W = np.random.uniform(lower, upper, size=n_params).reshape(n_params,1)\n",
    "        self.W[0,0] = 1 ## bias\n",
    "        \n",
    "        ## Training loop for number of epochs\n",
    "        for e in range(epochs):\n",
    "            ## Loss and gradients of this iteration set to zeros\n",
    "            L = 0\n",
    "            grads = np.zeros((n_params,1))\n",
    "            \n",
    "            ## Forword propagation\n",
    "            ## For each training example calculate loss and gradient\n",
    "            for i in range(n):\n",
    "                x = X[i,:].reshape(X.shape[1],1)\n",
    "                x = np.vstack((np.ones((1,1)),x)) ## adding x0 = 1\n",
    "                z = np.dot(self.W.T,x) \n",
    "                y_hat = 1 / (1 + np.exp(-z))\n",
    "                error = logisticLoss(y[i],y_hat)\n",
    "                L += error\n",
    "                \n",
    "                ## Find gradients                \n",
    "                dy_hat = y_hat * (1-y[i]) - y[i] * (1-y_hat)/ (y_hat * (1-y_hat))\n",
    "                dz = np.exp(-z)/(1+np.exp(-z))**2\n",
    "                grads +=  dy_hat * dz * x\n",
    "\n",
    "            \n",
    "            ## For each epoch calculate metrics and update weights\n",
    "            loss = L/n\n",
    "            val_accuracy = accuracy_score(y_test,self.predict(X_test))\n",
    "            accuracy = accuracy_score(y_train,self.predict(X_train))\n",
    "            \n",
    "            ### Log history\n",
    "            self.history['loss'].append(loss[0][0])\n",
    "            self.history['weights'] += (np.copy(self.W),)            \n",
    "            self.history['accuracy'].append(accuracy)\n",
    "            self.history['val_accuracy'].append(val_accuracy)            \n",
    "            print(f\"Epoch {e+1} / {epochs} \\n loss: {loss[0][0]} Accuracy: {accuracy} val_accuracy: {val_accuracy}\")\n",
    "            \n",
    "            ### Update parameters    \n",
    "            optim.optimize(self,grads) ## call the optimizer with model object and grads\n",
    "            \n",
    "            \n",
    "                    \n",
    "    def predict(self,X,thresh=0.5):\n",
    "        X = np.hstack((np.ones((X.shape[0],1)),X)) ## adding x0 = 1\n",
    "        z = np.dot(X,self.W) \n",
    "        y_hat = 1 / (1 + np.exp(-z))\n",
    "        y_hat = np.where(y_hat > thresh,1,0)\n",
    "        return y_hat\n",
    "    def weights(self):\n",
    "        return self.W"
   ]
  },
  {
   "cell_type": "code",
   "execution_count": 81,
   "id": "23c624ec",
   "metadata": {},
   "outputs": [
    {
     "name": "stdout",
     "output_type": "stream",
     "text": [
      "Epoch 1 / 40 \n",
      " loss: 1.2118068550140844 Accuracy: 0.11197538251132576 val_accuracy: 0.11205128205128205\n",
      "Epoch 2 / 40 \n",
      " loss: 1.1713890140933028 Accuracy: 0.11197538251132576 val_accuracy: 0.11217948717948718\n",
      "Epoch 3 / 40 \n",
      " loss: 1.1188251371547187 Accuracy: 0.11206085990255578 val_accuracy: 0.11217948717948718\n",
      "Epoch 4 / 40 \n",
      " loss: 1.0603357929579176 Accuracy: 0.113043849901701 val_accuracy: 0.11294871794871796\n",
      "Epoch 5 / 40 \n",
      " loss: 0.9996566516800831 Accuracy: 0.12663475510727412 val_accuracy: 0.12782051282051282\n",
      "Epoch 6 / 40 \n",
      " loss: 0.9393218200826621 Accuracy: 0.17809214462774597 val_accuracy: 0.17974358974358975\n",
      "Epoch 7 / 40 \n",
      " loss: 0.881048823607998 Accuracy: 0.28151978801606975 val_accuracy: 0.28205128205128205\n",
      "Epoch 8 / 40 \n",
      " loss: 0.825871626457557 Accuracy: 0.4049918796478332 val_accuracy: 0.4014102564102564\n",
      "Epoch 9 / 40 \n",
      " loss: 0.7743146298020193 Accuracy: 0.5141037695529532 val_accuracy: 0.5101282051282051\n",
      "Epoch 10 / 40 \n",
      " loss: 0.726610947024594 Accuracy: 0.5859902555773998 val_accuracy: 0.5841025641025641\n",
      "Epoch 11 / 40 \n",
      " loss: 0.682832923193517 Accuracy: 0.6374903837934867 val_accuracy: 0.6396153846153846\n",
      "Epoch 12 / 40 \n",
      " loss: 0.6429773171284389 Accuracy: 0.6835199589708522 val_accuracy: 0.6861538461538461\n",
      "Epoch 13 / 40 \n",
      " loss: 0.6069990230355857 Accuracy: 0.713351568510129 val_accuracy: 0.7170512820512821\n",
      "Epoch 14 / 40 \n",
      " loss: 0.5747979827095 Accuracy: 0.730404308060518 val_accuracy: 0.735\n",
      "Epoch 15 / 40 \n",
      " loss: 0.5462163003919964 Accuracy: 0.7484827763056672 val_accuracy: 0.7535897435897436\n",
      "Epoch 16 / 40 \n",
      " loss: 0.5210577809966174 Accuracy: 0.7746815967176682 val_accuracy: 0.7802564102564102\n",
      "Epoch 17 / 40 \n",
      " loss: 0.4991049616810641 Accuracy: 0.8063937088640055 val_accuracy: 0.8105128205128205\n",
      "Epoch 18 / 40 \n",
      " loss: 0.48012456300800127 Accuracy: 0.8334473031883067 val_accuracy: 0.8392307692307692\n",
      "Epoch 19 / 40 \n",
      " loss: 0.46386705662222105 Accuracy: 0.8537481836054364 val_accuracy: 0.8578205128205129\n",
      "Epoch 20 / 40 \n",
      " loss: 0.4500673143114938 Accuracy: 0.8628515257714334 val_accuracy: 0.8673076923076923\n",
      "Epoch 21 / 40 \n",
      " loss: 0.4384514791236571 Accuracy: 0.8674245662022395 val_accuracy: 0.8705128205128205\n",
      "Epoch 22 / 40 \n",
      " loss: 0.4287522527754038 Accuracy: 0.8702880588084452 val_accuracy: 0.8743589743589744\n",
      "Epoch 23 / 40 \n",
      " loss: 0.4207274688906887 Accuracy: 0.8725532096760407 val_accuracy: 0.8755128205128205\n",
      "Epoch 24 / 40 \n",
      " loss: 0.4141713252368763 Accuracy: 0.8728523805453458 val_accuracy: 0.8761538461538462\n",
      "Epoch 25 / 40 \n",
      " loss: 0.408913954531818 Accuracy: 0.8728523805453458 val_accuracy: 0.8766666666666667\n",
      "Epoch 26 / 40 \n",
      " loss: 0.40481426408983207 Accuracy: 0.873792631848876 val_accuracy: 0.8767948717948718\n",
      "Epoch 27 / 40 \n",
      " loss: 0.4017519782178988 Accuracy: 0.8746046670655612 val_accuracy: 0.8778205128205128\n",
      "Epoch 28 / 40 \n",
      " loss: 0.39962132420135843 Accuracy: 0.8747756218480212 val_accuracy: 0.8773076923076923\n",
      "Epoch 29 / 40 \n",
      " loss: 0.3983265239252789 Accuracy: 0.8747756218480212 val_accuracy: 0.8766666666666667\n",
      "Epoch 30 / 40 \n",
      " loss: 0.3977787370721292 Accuracy: 0.8745191896743312 val_accuracy: 0.8765384615384615\n",
      "Epoch 31 / 40 \n",
      " loss: 0.3978942103181746 Accuracy: 0.873920847935721 val_accuracy: 0.8762820512820513\n",
      "Epoch 32 / 40 \n",
      " loss: 0.39859347666836714 Accuracy: 0.8733225061971108 val_accuracy: 0.8756410256410256\n",
      "Epoch 33 / 40 \n",
      " loss: 0.39980138498959844 Accuracy: 0.8724677322848107 val_accuracy: 0.8746153846153846\n",
      "Epoch 34 / 40 \n",
      " loss: 0.4014476103050219 Accuracy: 0.8711855714163603 val_accuracy: 0.8741025641025642\n",
      "Epoch 35 / 40 \n",
      " loss: 0.40346724305613496 Accuracy: 0.8702880588084452 val_accuracy: 0.8726923076923077\n",
      "Epoch 36 / 40 \n",
      " loss: 0.4058011503041849 Accuracy: 0.8687067270706899 val_accuracy: 0.8714102564102564\n",
      "Epoch 37 / 40 \n",
      " loss: 0.40839598739446287 Accuracy: 0.8679374305496196 val_accuracy: 0.8710256410256411\n",
      "Epoch 38 / 40 \n",
      " loss: 0.41120389948920255 Accuracy: 0.8666980083767843 val_accuracy: 0.8705128205128205\n",
      "Epoch 39 / 40 \n",
      " loss: 0.4141820203202347 Accuracy: 0.8655013248995641 val_accuracy: 0.8691025641025641\n",
      "Epoch 40 / 40 \n",
      " loss: 0.4172918626202004 Accuracy: 0.8648175057697239 val_accuracy: 0.8687179487179487\n"
     ]
    }
   ],
   "source": [
    "lr = LogisticRegression()\n",
    "grads = lr.train(X_train,y_train,40,Adam(10**-2))"
   ]
  },
  {
   "cell_type": "markdown",
   "id": "1b147759",
   "metadata": {},
   "source": [
    "### Training History Plots"
   ]
  },
  {
   "cell_type": "code",
   "execution_count": 82,
   "id": "518cbe2d",
   "metadata": {},
   "outputs": [
    {
     "data": {
      "image/png": "[encoded data removed]",
      "text/plain": [
       "<Figure size 432x288 with 1 Axes>"
      ]
     },
     "metadata": {
      "needs_background": "light"
     },
     "output_type": "display_data"
    }
   ],
   "source": [
    "plt.plot(lr.history['accuracy'])\n",
    "plt.plot(lr.history['val_accuracy'])\n",
    "plt.title('model accuracy')\n",
    "plt.ylabel('accuracy')\n",
    "plt.xlabel('epoch')\n",
    "plt.legend(['train', 'val'], loc='upper left')\n",
    "plt.show()"
   ]
  },
  {
   "cell_type": "code",
   "execution_count": 83,
   "id": "187f35ab",
   "metadata": {},
   "outputs": [],
   "source": [
    "#### Plotting change in loss with change in bias"
   ]
  },
  {
   "cell_type": "code",
   "execution_count": 84,
   "id": "d0bef903",
   "metadata": {},
   "outputs": [],
   "source": [
    "loss = lr.history['loss']\n",
    "weights = np.hstack(lr.history['weights'])"
   ]
  },
  {
   "cell_type": "code",
   "execution_count": 96,
   "id": "7b602a8f",
   "metadata": {},
   "outputs": [
    {
     "data": {
      "image/png": "[encoded data removed]",
      "text/plain": [
       "<Figure size 432x288 with 1 Axes>"
      ]
     },
     "metadata": {
      "needs_background": "light"
     },
     "output_type": "display_data"
    }
   ],
   "source": [
    "sns.lineplot(x=weights[1],y=loss)\n",
    "plt.show()"
   ]
  },
  {
   "cell_type": "markdown",
   "id": "9e391b25",
   "metadata": {},
   "source": [
    "# -------------------------------------- END -----------------------------------"
   ]
  },
  {
   "cell_type": "markdown",
   "id": "4a710fba",
   "metadata": {},
   "source": [
    "### Some equations in markdown"
   ]
  },
  {
   "cell_type": "markdown",
   "id": "83af70bb",
   "metadata": {},
   "source": [
    "### $$\\hat{y} = {1 \\over 1+e^{-z}} $$\n",
    "$$\\hat{y} -  predicted probability $$\n"
   ]
  },
  {
   "cell_type": "markdown",
   "id": "6a6ad44f",
   "metadata": {},
   "source": [
    "### $$ \\frac{\\partial L}{\\partial a} \\times \\frac{\\partial a}{\\partial z} \\times \\frac{\\partial z}{\\partial w} \\approx 14.63 $$"
   ]
  },
  {
   "cell_type": "markdown",
   "id": "f22c523e",
   "metadata": {},
   "source": [
    "### $$w_1 = w_1 - \\alpha {1 \\over n} \\sum_{i=0}^n \\frac{\\partial L}{\\partial w_1}$$\n",
    " $$\\alpha -  Learning rate $$\n"
   ]
  },
  {
   "cell_type": "markdown",
   "id": "0da161b9",
   "metadata": {},
   "source": [
    "### $$ z = w_0x_0 + w_1x_1 + ....+ w_nx_n$$\n",
    "### $$ \\hat{y} = a = {1 \\over 1+e^{-z}} $$\n",
    "\n"
   ]
  },
  {
   "cell_type": "markdown",
   "id": "aedef185",
   "metadata": {},
   "source": [
    "### $$ Loss(L) = - \\sum_{i=0}^n y log(\\hat{y}) + (1-y)log(1-\\hat{y}) $$"
   ]
  },
  {
   "cell_type": "markdown",
   "id": "dc1efe84",
   "metadata": {},
   "source": [
    "### $$\\frac{\\partial L}{\\partial \\hat{y}} = \\frac{\\hat{y}(1-y) - y(1-\\hat{y})}{\\hat{y}(1-\\hat{y})}$$"
   ]
  },
  {
   "cell_type": "markdown",
   "id": "8c481662",
   "metadata": {},
   "source": [
    "### $$ \\frac{\\partial \\hat{y}}{\\partial z} = \\frac{e^{-z}}{{(1+e^{-z})}^2}$$"
   ]
  },
  {
   "cell_type": "markdown",
   "id": "5c2fba7a",
   "metadata": {},
   "source": [
    "### $$ \\frac{\\partial z}{\\partial w_0} = x_0$$"
   ]
  },
  {
   "cell_type": "markdown",
   "id": "f3da494a",
   "metadata": {},
   "source": [
    "### $$ \\frac{\\partial z}{\\partial w_1} = x_1$$"
   ]
  },
  {
   "cell_type": "markdown",
   "id": "8efdcb50",
   "metadata": {},
   "source": [
    "### $$ \\frac{\\partial L}{\\partial w_1} = \\frac{\\partial z}{\\partial w_1} \\times \\frac{\\partial \\hat{y}}{\\partial z} \\times \\frac{\\partial L}{\\partial \\hat{y}} $$"
   ]
  },
  {
   "cell_type": "markdown",
   "id": "04074522",
   "metadata": {},
   "source": [
    "### $$ \\frac{\\partial L}{\\partial w_0} = \\frac{\\partial z}{\\partial w_0} \\times \\frac{\\partial \\hat{y}}{\\partial z} \\times \\frac{\\partial L}{\\partial \\hat{y}} $$"
   ]
  },
  {
   "cell_type": "code",
   "execution_count": 57,
   "id": "bf390446",
   "metadata": {},
   "outputs": [
    {
     "data": {
      "text/plain": [
       "Text(0, 0.5, 'Density')"
      ]
     },
     "execution_count": 57,
     "metadata": {},
     "output_type": "execute_result"
    },
    {
     "data": {
      "image/png": "[encoded data removed]",
      "text/plain": [
       "<Figure size 432x288 with 1 Axes>"
      ]
     },
     "metadata": {
      "needs_background": "light"
     },
     "output_type": "display_data"
    }
   ],
   "source": [
    "outcomes = ['yes','no']\n",
    "for outcome in outcomes:\n",
    "    # Subset to the airline\n",
    "    subset = df[df['y'] == outcome]\n",
    "    \n",
    "    # Draw the density plot\n",
    "    sns.distplot(subset['age'], hist = False, kde = True,\n",
    "                 kde_kws = {'linewidth': 3},\n",
    "                 label = outcome)\n",
    "    \n",
    "# Plot formatting\n",
    "plt.legend(prop={'size': 16}, title = 'Outcome')\n",
    "plt.title('Density Plot with Multiple Outcomes')\n",
    "plt.xlabel('Age')\n",
    "plt.ylabel('Density')"
   ]
  },
  {
   "cell_type": "code",
   "execution_count": 52,
   "id": "25e0e5bb",
   "metadata": {},
   "outputs": [
    {
     "data": {
      "text/plain": [
       "<AxesSubplot: ylabel='Density'>"
      ]
     },
     "execution_count": 52,
     "metadata": {},
     "output_type": "execute_result"
    },
    {
     "data": {
      "image/png": "[encoded data removed]",
      "text/plain": [
       "<Figure size 432x288 with 1 Axes>"
      ]
     },
     "metadata": {
      "needs_background": "light"
     },
     "output_type": "display_data"
    }
   ],
   "source": [
    "sns.distplot(x=df[df['y']=='no']['age'])"
   ]
  },
  {
   "cell_type": "code",
   "execution_count": null,
   "id": "e0e7384b",
   "metadata": {},
   "outputs": [],
   "source": []
  }
 ],
 "metadata": {
  "kernelspec": {
   "display_name": "Python 3",
   "language": "python",
   "name": "python3"
  },
  "language_info": {
   "codemirror_mode": {
    "name": "ipython",
    "version": 3
   },
   "file_extension": ".py",
   "mimetype": "text/x-python",
   "name": "python",
   "nbconvert_exporter": "python",
   "pygments_lexer": "ipython3",
   "version": "3.8.8"
  }
 },
 "nbformat": 4,
 "nbformat_minor": 5
}
